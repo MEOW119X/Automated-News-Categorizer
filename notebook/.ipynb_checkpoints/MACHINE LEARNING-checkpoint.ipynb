{
 "cells": [
  {
   "cell_type": "code",
   "execution_count": 302,
   "id": "972324f5-a542-40be-b54f-7245d62c8326",
   "metadata": {},
   "outputs": [],
   "source": [
    "from sklearn.feature_extraction.text import CountVectorizer\n",
    "import numpy as np\n",
    "import matplotlib.pyplot as plt"
   ]
  },
  {
   "cell_type": "markdown",
   "id": "5726744c-0625-4f6f-8988-444523b146b5",
   "metadata": {},
   "source": [
    "## Preprocessing"
   ]
  },
  {
   "cell_type": "code",
   "execution_count": 214,
   "id": "586882f9-0404-4a43-a49b-09dd6a919343",
   "metadata": {},
   "outputs": [],
   "source": [
    "df = pd.read_csv('../data/cleaned/final-cleaned.csv')"
   ]
  },
  {
   "cell_type": "code",
   "execution_count": 215,
   "id": "5aef9bf8-ce3d-4045-b5e3-f40d4b4563d6",
   "metadata": {},
   "outputs": [
    {
     "data": {
      "text/html": [
       "<div><div id=26803392-49e7-45dc-8f0d-86de6e3a8db5 style=\"display:none; background-color:#9D6CFF; color:white; width:200px; height:30px; padding-left:5px; border-radius:4px; flex-direction:row; justify-content:space-around; align-items:center;\" onmouseover=\"this.style.backgroundColor='#BA9BF8'\" onmouseout=\"this.style.backgroundColor='#9D6CFF'\" onclick=\"window.commands?.execute('create-mitosheet-from-dataframe-output');\">See Full Dataframe in Mito</div> <script> if (window.commands.hasCommand('create-mitosheet-from-dataframe-output')) document.getElementById('26803392-49e7-45dc-8f0d-86de6e3a8db5').style.display = 'flex' </script> <table border=\"1\" class=\"dataframe\">\n",
       "  <thead>\n",
       "    <tr style=\"text-align: right;\">\n",
       "      <th></th>\n",
       "      <th>category_id</th>\n",
       "      <th>category</th>\n",
       "      <th>articles</th>\n",
       "    </tr>\n",
       "  </thead>\n",
       "  <tbody>\n",
       "    <tr>\n",
       "      <th>0</th>\n",
       "      <td>0</td>\n",
       "      <td>opinion</td>\n",
       "      <td>congress  much protect american served country predatory profit college</td>\n",
       "    </tr>\n",
       "    <tr>\n",
       "      <th>1</th>\n",
       "      <td>1</td>\n",
       "      <td>world</td>\n",
       "      <td>attack civilian site syria grown frequent u n launch rare inquiry document violation investigation limit scope final report  make public new york time inves</td>\n",
       "    </tr>\n",
       "    <tr>\n",
       "      <th>2</th>\n",
       "      <td>1</td>\n",
       "      <td>world</td>\n",
       "      <td>week relative calm end wednesday people march large number police deploy  gas pepper spray</td>\n",
       "    </tr>\n",
       "    <tr>\n",
       "      <th>3</th>\n",
       "      <td>2</td>\n",
       "      <td>politics</td>\n",
       "      <td>president monitor middle east crisis golf club threaten iran implored reporter honorable</td>\n",
       "    </tr>\n",
       "    <tr>\n",
       "      <th>4</th>\n",
       "      <td>3</td>\n",
       "      <td>arts</td>\n",
       "      <td>linda ronstadt sound voice air cnn new season doctor kick bbc america</td>\n",
       "    </tr>\n",
       "    <tr>\n",
       "      <th>...</th>\n",
       "      <td>...</td>\n",
       "      <td>...</td>\n",
       "      <td>...</td>\n",
       "    </tr>\n",
       "    <tr>\n",
       "      <th>2336</th>\n",
       "      <td>4</td>\n",
       "      <td>business</td>\n",
       "      <td>former bos premium cable network talk former vice medium executive making documentary</td>\n",
       "    </tr>\n",
       "    <tr>\n",
       "      <th>2337</th>\n",
       "      <td>2</td>\n",
       "      <td>politics</td>\n",
       "      <td>lobby president washington hotel supporter remain unwavering business remain brisk</td>\n",
       "    </tr>\n",
       "    <tr>\n",
       "      <th>2338</th>\n",
       "      <td>5</td>\n",
       "      <td>sports</td>\n",
       "      <td>lakers first game  bryant daughter gianna die helicopter crash sunday lebron james give heartfelt speech game</td>\n",
       "    </tr>\n",
       "    <tr>\n",
       "      <th>2339</th>\n",
       "      <td>5</td>\n",
       "      <td>sports</td>\n",
       "      <td>famed run coach already bar sport  year dope violation temporarily ban u center safesport action  produce lifetime ban</td>\n",
       "    </tr>\n",
       "    <tr>\n",
       "      <th>2340</th>\n",
       "      <td>2</td>\n",
       "      <td>politics</td>\n",
       "      <td>senator reject call additional witness president trump impeachment trial deal fatal blow effort democrat bring new evidence</td>\n",
       "    </tr>\n",
       "  </tbody>\n",
       "</table></div>"
      ],
      "text/plain": [
       "      category_id  category                                           articles\n",
       "0               0   opinion  congress  much protect american served country...\n",
       "1               1     world  attack civilian site syria grown frequent u n ...\n",
       "2               1     world  week relative calm end wednesday people march ...\n",
       "3               2  politics  president monitor middle east crisis golf club...\n",
       "4               3      arts  linda ronstadt sound voice air cnn new season ...\n",
       "...           ...       ...                                                ...\n",
       "2336            4  business  former bos premium cable network talk former v...\n",
       "2337            2  politics  lobby president washington hotel supporter rem...\n",
       "2338            5    sports  lakers first game  bryant daughter gianna die ...\n",
       "2339            5    sports  famed run coach already bar sport  year dope v...\n",
       "2340            2  politics  senator reject call additional witness preside...\n",
       "\n",
       "[2341 rows x 3 columns]"
      ]
     },
     "execution_count": 215,
     "metadata": {},
     "output_type": "execute_result"
    }
   ],
   "source": [
    "df"
   ]
  },
  {
   "cell_type": "code",
   "execution_count": 216,
   "id": "d0e326c9-d944-47c4-8caf-32d3fae4240a",
   "metadata": {},
   "outputs": [],
   "source": [
    "y = np.array(df.category_id.values)\n",
    "x = df.articles"
   ]
  },
  {
   "cell_type": "code",
   "execution_count": 217,
   "id": "b562e3ec-b6eb-4fda-b0e9-2ea6c5d78516",
   "metadata": {},
   "outputs": [],
   "source": [
    "cv = CountVectorizer(max_features = 5000)"
   ]
  },
  {
   "cell_type": "code",
   "execution_count": 218,
   "id": "609497e8-7d26-4281-8c6c-99af94831bf7",
   "metadata": {},
   "outputs": [],
   "source": [
    "mtr = cv.fit_transform(x.values.astype('U'))"
   ]
  },
  {
   "cell_type": "code",
   "execution_count": 219,
   "id": "4fb59764-d7f1-4440-a55f-eae657dfbcf1",
   "metadata": {},
   "outputs": [],
   "source": [
    "x = pd.DataFrame(mtr.toarray(),columns=cv.get_feature_names())"
   ]
  },
  {
   "cell_type": "code",
   "execution_count": 220,
   "id": "f33e10bf-fd30-4075-a7ea-ce7f366acc50",
   "metadata": {},
   "outputs": [
    {
     "data": {
      "text/html": [
       "<div><div id=561818b6-1ddc-40b8-a85e-1894a7f068f8 style=\"display:none; background-color:#9D6CFF; color:white; width:200px; height:30px; padding-left:5px; border-radius:4px; flex-direction:row; justify-content:space-around; align-items:center;\" onmouseover=\"this.style.backgroundColor='#BA9BF8'\" onmouseout=\"this.style.backgroundColor='#9D6CFF'\" onclick=\"window.commands?.execute('create-mitosheet-from-dataframe-output');\">See Full Dataframe in Mito</div> <script> if (window.commands.hasCommand('create-mitosheet-from-dataframe-output')) document.getElementById('561818b6-1ddc-40b8-a85e-1894a7f068f8').style.display = 'flex' </script> <table border=\"1\" class=\"dataframe\">\n",
       "  <thead>\n",
       "    <tr style=\"text-align: right;\">\n",
       "      <th></th>\n",
       "      <th>21st</th>\n",
       "      <th>49ers</th>\n",
       "      <th>50th</th>\n",
       "      <th>aaron</th>\n",
       "      <th>abandon</th>\n",
       "      <th>abbas</th>\n",
       "      <th>abbott</th>\n",
       "      <th>abc</th>\n",
       "      <th>abdicate</th>\n",
       "      <th>abdul</th>\n",
       "      <th>...</th>\n",
       "      <th>zephyr</th>\n",
       "      <th>zhao</th>\n",
       "      <th>zindani</th>\n",
       "      <th>zion</th>\n",
       "      <th>zionism</th>\n",
       "      <th>zoey</th>\n",
       "      <th>zone</th>\n",
       "      <th>zoning</th>\n",
       "      <th>zuberi</th>\n",
       "      <th>zverev</th>\n",
       "    </tr>\n",
       "  </thead>\n",
       "  <tbody>\n",
       "    <tr>\n",
       "      <th>0</th>\n",
       "      <td>0</td>\n",
       "      <td>0</td>\n",
       "      <td>0</td>\n",
       "      <td>0</td>\n",
       "      <td>0</td>\n",
       "      <td>0</td>\n",
       "      <td>0</td>\n",
       "      <td>0</td>\n",
       "      <td>0</td>\n",
       "      <td>0</td>\n",
       "      <td>...</td>\n",
       "      <td>0</td>\n",
       "      <td>0</td>\n",
       "      <td>0</td>\n",
       "      <td>0</td>\n",
       "      <td>0</td>\n",
       "      <td>0</td>\n",
       "      <td>0</td>\n",
       "      <td>0</td>\n",
       "      <td>0</td>\n",
       "      <td>0</td>\n",
       "    </tr>\n",
       "    <tr>\n",
       "      <th>1</th>\n",
       "      <td>0</td>\n",
       "      <td>0</td>\n",
       "      <td>0</td>\n",
       "      <td>0</td>\n",
       "      <td>0</td>\n",
       "      <td>0</td>\n",
       "      <td>0</td>\n",
       "      <td>0</td>\n",
       "      <td>0</td>\n",
       "      <td>0</td>\n",
       "      <td>...</td>\n",
       "      <td>0</td>\n",
       "      <td>0</td>\n",
       "      <td>0</td>\n",
       "      <td>0</td>\n",
       "      <td>0</td>\n",
       "      <td>0</td>\n",
       "      <td>0</td>\n",
       "      <td>0</td>\n",
       "      <td>0</td>\n",
       "      <td>0</td>\n",
       "    </tr>\n",
       "    <tr>\n",
       "      <th>2</th>\n",
       "      <td>0</td>\n",
       "      <td>0</td>\n",
       "      <td>0</td>\n",
       "      <td>0</td>\n",
       "      <td>0</td>\n",
       "      <td>0</td>\n",
       "      <td>0</td>\n",
       "      <td>0</td>\n",
       "      <td>0</td>\n",
       "      <td>0</td>\n",
       "      <td>...</td>\n",
       "      <td>0</td>\n",
       "      <td>0</td>\n",
       "      <td>0</td>\n",
       "      <td>0</td>\n",
       "      <td>0</td>\n",
       "      <td>0</td>\n",
       "      <td>0</td>\n",
       "      <td>0</td>\n",
       "      <td>0</td>\n",
       "      <td>0</td>\n",
       "    </tr>\n",
       "    <tr>\n",
       "      <th>3</th>\n",
       "      <td>0</td>\n",
       "      <td>0</td>\n",
       "      <td>0</td>\n",
       "      <td>0</td>\n",
       "      <td>0</td>\n",
       "      <td>0</td>\n",
       "      <td>0</td>\n",
       "      <td>0</td>\n",
       "      <td>0</td>\n",
       "      <td>0</td>\n",
       "      <td>...</td>\n",
       "      <td>0</td>\n",
       "      <td>0</td>\n",
       "      <td>0</td>\n",
       "      <td>0</td>\n",
       "      <td>0</td>\n",
       "      <td>0</td>\n",
       "      <td>0</td>\n",
       "      <td>0</td>\n",
       "      <td>0</td>\n",
       "      <td>0</td>\n",
       "    </tr>\n",
       "    <tr>\n",
       "      <th>4</th>\n",
       "      <td>0</td>\n",
       "      <td>0</td>\n",
       "      <td>0</td>\n",
       "      <td>0</td>\n",
       "      <td>0</td>\n",
       "      <td>0</td>\n",
       "      <td>0</td>\n",
       "      <td>0</td>\n",
       "      <td>0</td>\n",
       "      <td>0</td>\n",
       "      <td>...</td>\n",
       "      <td>0</td>\n",
       "      <td>0</td>\n",
       "      <td>0</td>\n",
       "      <td>0</td>\n",
       "      <td>0</td>\n",
       "      <td>0</td>\n",
       "      <td>0</td>\n",
       "      <td>0</td>\n",
       "      <td>0</td>\n",
       "      <td>0</td>\n",
       "    </tr>\n",
       "    <tr>\n",
       "      <th>...</th>\n",
       "      <td>...</td>\n",
       "      <td>...</td>\n",
       "      <td>...</td>\n",
       "      <td>...</td>\n",
       "      <td>...</td>\n",
       "      <td>...</td>\n",
       "      <td>...</td>\n",
       "      <td>...</td>\n",
       "      <td>...</td>\n",
       "      <td>...</td>\n",
       "      <td>...</td>\n",
       "      <td>...</td>\n",
       "      <td>...</td>\n",
       "      <td>...</td>\n",
       "      <td>...</td>\n",
       "      <td>...</td>\n",
       "      <td>...</td>\n",
       "      <td>...</td>\n",
       "      <td>...</td>\n",
       "      <td>...</td>\n",
       "      <td>...</td>\n",
       "    </tr>\n",
       "    <tr>\n",
       "      <th>2336</th>\n",
       "      <td>0</td>\n",
       "      <td>0</td>\n",
       "      <td>0</td>\n",
       "      <td>0</td>\n",
       "      <td>0</td>\n",
       "      <td>0</td>\n",
       "      <td>0</td>\n",
       "      <td>0</td>\n",
       "      <td>0</td>\n",
       "      <td>0</td>\n",
       "      <td>...</td>\n",
       "      <td>0</td>\n",
       "      <td>0</td>\n",
       "      <td>0</td>\n",
       "      <td>0</td>\n",
       "      <td>0</td>\n",
       "      <td>0</td>\n",
       "      <td>0</td>\n",
       "      <td>0</td>\n",
       "      <td>0</td>\n",
       "      <td>0</td>\n",
       "    </tr>\n",
       "    <tr>\n",
       "      <th>2337</th>\n",
       "      <td>0</td>\n",
       "      <td>0</td>\n",
       "      <td>0</td>\n",
       "      <td>0</td>\n",
       "      <td>0</td>\n",
       "      <td>0</td>\n",
       "      <td>0</td>\n",
       "      <td>0</td>\n",
       "      <td>0</td>\n",
       "      <td>0</td>\n",
       "      <td>...</td>\n",
       "      <td>0</td>\n",
       "      <td>0</td>\n",
       "      <td>0</td>\n",
       "      <td>0</td>\n",
       "      <td>0</td>\n",
       "      <td>0</td>\n",
       "      <td>0</td>\n",
       "      <td>0</td>\n",
       "      <td>0</td>\n",
       "      <td>0</td>\n",
       "    </tr>\n",
       "    <tr>\n",
       "      <th>2338</th>\n",
       "      <td>0</td>\n",
       "      <td>0</td>\n",
       "      <td>0</td>\n",
       "      <td>0</td>\n",
       "      <td>0</td>\n",
       "      <td>0</td>\n",
       "      <td>0</td>\n",
       "      <td>0</td>\n",
       "      <td>0</td>\n",
       "      <td>0</td>\n",
       "      <td>...</td>\n",
       "      <td>0</td>\n",
       "      <td>0</td>\n",
       "      <td>0</td>\n",
       "      <td>0</td>\n",
       "      <td>0</td>\n",
       "      <td>0</td>\n",
       "      <td>0</td>\n",
       "      <td>0</td>\n",
       "      <td>0</td>\n",
       "      <td>0</td>\n",
       "    </tr>\n",
       "    <tr>\n",
       "      <th>2339</th>\n",
       "      <td>0</td>\n",
       "      <td>0</td>\n",
       "      <td>0</td>\n",
       "      <td>0</td>\n",
       "      <td>0</td>\n",
       "      <td>0</td>\n",
       "      <td>0</td>\n",
       "      <td>0</td>\n",
       "      <td>0</td>\n",
       "      <td>0</td>\n",
       "      <td>...</td>\n",
       "      <td>0</td>\n",
       "      <td>0</td>\n",
       "      <td>0</td>\n",
       "      <td>0</td>\n",
       "      <td>0</td>\n",
       "      <td>0</td>\n",
       "      <td>0</td>\n",
       "      <td>0</td>\n",
       "      <td>0</td>\n",
       "      <td>0</td>\n",
       "    </tr>\n",
       "    <tr>\n",
       "      <th>2340</th>\n",
       "      <td>0</td>\n",
       "      <td>0</td>\n",
       "      <td>0</td>\n",
       "      <td>0</td>\n",
       "      <td>0</td>\n",
       "      <td>0</td>\n",
       "      <td>0</td>\n",
       "      <td>0</td>\n",
       "      <td>0</td>\n",
       "      <td>0</td>\n",
       "      <td>...</td>\n",
       "      <td>0</td>\n",
       "      <td>0</td>\n",
       "      <td>0</td>\n",
       "      <td>0</td>\n",
       "      <td>0</td>\n",
       "      <td>0</td>\n",
       "      <td>0</td>\n",
       "      <td>0</td>\n",
       "      <td>0</td>\n",
       "      <td>0</td>\n",
       "    </tr>\n",
       "  </tbody>\n",
       "</table></div>"
      ],
      "text/plain": [
       "      21st  49ers  50th  aaron  abandon  abbas  abbott  abc  abdicate  abdul  \\\n",
       "0        0      0     0      0        0      0       0    0         0      0   \n",
       "1        0      0     0      0        0      0       0    0         0      0   \n",
       "2        0      0     0      0        0      0       0    0         0      0   \n",
       "3        0      0     0      0        0      0       0    0         0      0   \n",
       "4        0      0     0      0        0      0       0    0         0      0   \n",
       "...    ...    ...   ...    ...      ...    ...     ...  ...       ...    ...   \n",
       "2336     0      0     0      0        0      0       0    0         0      0   \n",
       "2337     0      0     0      0        0      0       0    0         0      0   \n",
       "2338     0      0     0      0        0      0       0    0         0      0   \n",
       "2339     0      0     0      0        0      0       0    0         0      0   \n",
       "2340     0      0     0      0        0      0       0    0         0      0   \n",
       "\n",
       "      ...  zephyr  zhao  zindani  zion  zionism  zoey  zone  zoning  zuberi  \\\n",
       "0     ...       0     0        0     0        0     0     0       0       0   \n",
       "1     ...       0     0        0     0        0     0     0       0       0   \n",
       "2     ...       0     0        0     0        0     0     0       0       0   \n",
       "3     ...       0     0        0     0        0     0     0       0       0   \n",
       "4     ...       0     0        0     0        0     0     0       0       0   \n",
       "...   ...     ...   ...      ...   ...      ...   ...   ...     ...     ...   \n",
       "2336  ...       0     0        0     0        0     0     0       0       0   \n",
       "2337  ...       0     0        0     0        0     0     0       0       0   \n",
       "2338  ...       0     0        0     0        0     0     0       0       0   \n",
       "2339  ...       0     0        0     0        0     0     0       0       0   \n",
       "2340  ...       0     0        0     0        0     0     0       0       0   \n",
       "\n",
       "      zverev  \n",
       "0          0  \n",
       "1          0  \n",
       "2          0  \n",
       "3          0  \n",
       "4          0  \n",
       "...      ...  \n",
       "2336       0  \n",
       "2337       0  \n",
       "2338       0  \n",
       "2339       0  \n",
       "2340       0  \n",
       "\n",
       "[2341 rows x 5000 columns]"
      ]
     },
     "execution_count": 220,
     "metadata": {},
     "output_type": "execute_result"
    }
   ],
   "source": [
    "x"
   ]
  },
  {
   "cell_type": "code",
   "execution_count": 223,
   "id": "bf63628b-3d38-4a6f-82c0-f09d51cc2f91",
   "metadata": {},
   "outputs": [
    {
     "name": "stdout",
     "output_type": "stream",
     "text": [
      "X.shape =  (2341, 5000)\n",
      "y.shape =  (2341,)\n"
     ]
    }
   ],
   "source": [
    "print(\"X.shape = \",x.shape)\n",
    "print(\"y.shape = \",y.shape)"
   ]
  },
  {
   "cell_type": "markdown",
   "id": "cb7c8dbf-c9d2-4b39-91ab-69dd024f79c5",
   "metadata": {},
   "source": [
    "## Split Test/Train"
   ]
  },
  {
   "cell_type": "code",
   "execution_count": 221,
   "id": "15169461-de0c-4791-b8cf-3513d29df216",
   "metadata": {},
   "outputs": [
    {
     "name": "stdout",
     "output_type": "stream",
     "text": [
      "1638\n",
      "703\n",
      "1638\n",
      "703\n"
     ]
    }
   ],
   "source": [
    "from sklearn.model_selection import train_test_split\n",
    "x_train, x_test, y_train, y_test = train_test_split(x, y, test_size = 0.3, random_state = 0, shuffle = True)\n",
    "print(len(x_train))\n",
    "print(len(x_test))\n",
    "print(len(y_train))\n",
    "print(len(y_test))"
   ]
  },
  {
   "cell_type": "code",
   "execution_count": 374,
   "id": "efbdb99c-4706-4fdb-a7f2-3e529a061f94",
   "metadata": {},
   "outputs": [
    {
     "data": {
      "text/plain": [
       "([<matplotlib.patches.Wedge at 0x18b92b262e0>,\n",
       "  <matplotlib.patches.Wedge at 0x18b92b26c70>],\n",
       " [Text(-0.6457275908292802, 0.8905256191945372, 'Train'),\n",
       "  Text(0.6457276742063026, -0.8905255587371533, 'Test')])"
      ]
     },
     "execution_count": 374,
     "metadata": {},
     "output_type": "execute_result"
    },
    {
     "data": {
      "image/png": "[encoded data removed]",
      "text/plain": [
       "<Figure size 432x288 with 1 Axes>"
      ]
     },
     "metadata": {},
     "output_type": "display_data"
    }
   ],
   "source": [
    "labels = 'Train', 'Test'\n",
    "plt.pie([len(x_train), len(x_test)], labels=labels, wedgeprops = { 'linewidth' : 3, 'edgecolor' : 'white' })"
   ]
  },
  {
   "cell_type": "markdown",
   "id": "f9651677-e6a0-40f4-897f-d1bfbc23f467",
   "metadata": {},
   "source": [
    "## Model Selection"
   ]
  },
  {
   "cell_type": "code",
   "execution_count": 323,
   "id": "9b0cdb04-8a27-4701-85d5-a8e657a58e40",
   "metadata": {},
   "outputs": [],
   "source": [
    "from sklearn.feature_extraction.text import CountVectorizer\n",
    "from sklearn.feature_extraction.text import TfidfVectorizer\n",
    "from sklearn.model_selection import train_test_split\n",
    "from sklearn.metrics import accuracy_score\n",
    "from sklearn.metrics import confusion_matrix\n",
    "from sklearn.metrics import classification_report\n",
    "from sklearn.metrics import make_scorer, roc_curve, roc_auc_score\n",
    "from sklearn.metrics import precision_recall_fscore_support as score\n",
    "from sklearn.metrics.pairwise import cosine_similarity\n",
    "from sklearn.multiclass import OneVsRestClassifier\n",
    "from sklearn.linear_model import LogisticRegression\n",
    "from sklearn.svm import SVC, LinearSVC\n",
    "from sklearn.tree import DecisionTreeClassifier\n",
    "from sklearn.ensemble import RandomForestClassifier\n",
    "from sklearn.neighbors import KNeighborsClassifier\n",
    "from sklearn.naive_bayes import GaussianNB,MultinomialNB,BernoulliNB\n",
    "from sklearn.model_selection import GridSearchCV"
   ]
  },
  {
   "cell_type": "code",
   "execution_count": 226,
   "id": "877f1a41-d01f-4d1e-8115-8d9f0cd90c21",
   "metadata": {},
   "outputs": [],
   "source": [
    "def run_model(model_name, est_c, est_pnlty):\n",
    "    mdl=''\n",
    "    if model_name == 'Logistic Regression':\n",
    "        mdl = LogisticRegression()\n",
    "    elif model_name == 'Random Forest':\n",
    "        mdl = RandomForestClassifier(n_estimators=100 ,criterion='entropy' , random_state=0)\n",
    "    elif model_name == 'Multinomial Naive Bayes':\n",
    "        mdl = MultinomialNB(alpha=1.0,fit_prior=True)\n",
    "    elif model_name == 'Support Vector Classifer':\n",
    "        mdl = SVC()\n",
    "    elif model_name == 'Decision Tree Classifier':\n",
    "        mdl = DecisionTreeClassifier()\n",
    "    elif model_name == 'K Nearest Neighbour':\n",
    "        mdl = KNeighborsClassifier(n_neighbors=10 , metric= 'minkowski' , p = 4)\n",
    "    elif model_name == 'Gaussian Naive Bayes':\n",
    "        mdl = GaussianNB()\n",
    "    oneVsRest = OneVsRestClassifier(mdl)\n",
    "    oneVsRest.fit(x_train, y_train)\n",
    "    y_pred = oneVsRest.predict(x_test)\n",
    "    # Performance metrics\n",
    "    accuracy = round(accuracy_score(y_test, y_pred) * 100, 2)\n",
    "    # Get precision, recall, f1 scores\n",
    "    precision, recall, f1score, support = score(y_test, y_pred, average='micro')\n",
    "    return [round(accuracy,2), round(precision,2), round(recall,2), round(f1score,2)]"
   ]
  },
  {
   "cell_type": "code",
   "execution_count": 227,
   "id": "57c69d4c-4c3c-41fe-963f-57ee7b7dc236",
   "metadata": {},
   "outputs": [],
   "source": [
    "ml_score = [run_model('Logistic Regression', est_c=None, est_pnlty=None), \n",
    "            run_model('Random Forest', est_c=None, est_pnlty=None), \n",
    "            run_model('Multinomial Naive Bayes', est_c=None, est_pnlty=None), \n",
    "            run_model('Support Vector Classifer', est_c=None, est_pnlty=None),\n",
    "            run_model('Decision Tree Classifier', est_c=None, est_pnlty=None),\n",
    "            run_model('K Nearest Neighbour', est_c=None, est_pnlty=None),\n",
    "            run_model('Gaussian Naive Bayes', est_c=None, est_pnlty=None)\n",
    "           ]"
   ]
  },
  {
   "cell_type": "code",
   "execution_count": 228,
   "id": "8350f3f6-3f17-4ac3-be71-7f125ce59a38",
   "metadata": {},
   "outputs": [],
   "source": [
    "model_score = pd.DataFrame(data=ml_score, index=['Logistic Regression', 'Random Forest', 'Multinomial Naive Bayes', 'Support Vector Classifer', 'Decision Tree Classifier', 'K Nearest Neighbour', 'Gaussian Naive Bayes'], columns=['Accuracy', 'Precision', 'Recall', 'F1'])"
   ]
  },
  {
   "cell_type": "code",
   "execution_count": 229,
   "id": "60f9a10b-bdd6-4c59-abcb-2efe40c341e7",
   "metadata": {},
   "outputs": [
    {
     "data": {
      "text/html": [
       "<div><div id=18d282e8-a428-4680-9103-23973a070a25 style=\"display:none; background-color:#9D6CFF; color:white; width:200px; height:30px; padding-left:5px; border-radius:4px; flex-direction:row; justify-content:space-around; align-items:center;\" onmouseover=\"this.style.backgroundColor='#BA9BF8'\" onmouseout=\"this.style.backgroundColor='#9D6CFF'\" onclick=\"window.commands?.execute('create-mitosheet-from-dataframe-output');\">See Full Dataframe in Mito</div> <script> if (window.commands.hasCommand('create-mitosheet-from-dataframe-output')) document.getElementById('18d282e8-a428-4680-9103-23973a070a25').style.display = 'flex' </script> <table border=\"1\" class=\"dataframe\">\n",
       "  <thead>\n",
       "    <tr style=\"text-align: right;\">\n",
       "      <th></th>\n",
       "      <th>Accuracy</th>\n",
       "      <th>Precision</th>\n",
       "      <th>Recall</th>\n",
       "      <th>F1</th>\n",
       "    </tr>\n",
       "  </thead>\n",
       "  <tbody>\n",
       "    <tr>\n",
       "      <th>Logistic Regression</th>\n",
       "      <td>69.56</td>\n",
       "      <td>0.70</td>\n",
       "      <td>0.70</td>\n",
       "      <td>0.70</td>\n",
       "    </tr>\n",
       "    <tr>\n",
       "      <th>Random Forest</th>\n",
       "      <td>69.70</td>\n",
       "      <td>0.70</td>\n",
       "      <td>0.70</td>\n",
       "      <td>0.70</td>\n",
       "    </tr>\n",
       "    <tr>\n",
       "      <th>Multinomial Naive Bayes</th>\n",
       "      <td>68.56</td>\n",
       "      <td>0.69</td>\n",
       "      <td>0.69</td>\n",
       "      <td>0.69</td>\n",
       "    </tr>\n",
       "    <tr>\n",
       "      <th>Support Vector Classifer</th>\n",
       "      <td>70.13</td>\n",
       "      <td>0.70</td>\n",
       "      <td>0.70</td>\n",
       "      <td>0.70</td>\n",
       "    </tr>\n",
       "    <tr>\n",
       "      <th>Decision Tree Classifier</th>\n",
       "      <td>48.08</td>\n",
       "      <td>0.48</td>\n",
       "      <td>0.48</td>\n",
       "      <td>0.48</td>\n",
       "    </tr>\n",
       "    <tr>\n",
       "      <th>K Nearest Neighbour</th>\n",
       "      <td>26.46</td>\n",
       "      <td>0.26</td>\n",
       "      <td>0.26</td>\n",
       "      <td>0.26</td>\n",
       "    </tr>\n",
       "    <tr>\n",
       "      <th>Gaussian Naive Bayes</th>\n",
       "      <td>38.69</td>\n",
       "      <td>0.39</td>\n",
       "      <td>0.39</td>\n",
       "      <td>0.39</td>\n",
       "    </tr>\n",
       "  </tbody>\n",
       "</table></div>"
      ],
      "text/plain": [
       "                          Accuracy  Precision  Recall    F1\n",
       "Logistic Regression          69.56       0.70    0.70  0.70\n",
       "Random Forest                69.70       0.70    0.70  0.70\n",
       "Multinomial Naive Bayes      68.56       0.69    0.69  0.69\n",
       "Support Vector Classifer     70.13       0.70    0.70  0.70\n",
       "Decision Tree Classifier     48.08       0.48    0.48  0.48\n",
       "K Nearest Neighbour          26.46       0.26    0.26  0.26\n",
       "Gaussian Naive Bayes         38.69       0.39    0.39  0.39"
      ]
     },
     "execution_count": 229,
     "metadata": {},
     "output_type": "execute_result"
    }
   ],
   "source": [
    "model_score"
   ]
  },
  {
   "cell_type": "code",
   "execution_count": 310,
   "id": "2a714146-e601-49fd-8a26-d5514dd543d7",
   "metadata": {},
   "outputs": [
    {
     "data": {
      "image/png": "[encoded data removed]",
      "text/plain": [
       "<Figure size 432x288 with 1 Axes>"
      ]
     },
     "metadata": {
      "needs_background": "light"
     },
     "output_type": "display_data"
    }
   ],
   "source": [
    "plt.bar(model_score.index, model_score['Accuracy'])\n",
    "plt.xticks(rotation=90) \n",
    "plt.xlabel('Accuracy')\n",
    "plt.show();"
   ]
  },
  {
   "cell_type": "markdown",
   "id": "2fb84f0a-f3b6-4230-b035-d032e3052594",
   "metadata": {},
   "source": [
    "## Fine-Tune"
   ]
  },
  {
   "cell_type": "code",
   "execution_count": 320,
   "id": "a9d5307e-b818-4f04-a31c-c8dadebd807c",
   "metadata": {},
   "outputs": [],
   "source": [
    "n_estimators = [int(x) for x in np.linspace(start = 10, stop = 80, num = 10)] \n",
    "max_features = ['auto', 'sqrt']\n",
    "max_depth = [2,4]\n",
    "min_samples_split = [2,5]\n",
    "min_samples_leaf = [1,2]\n",
    "bootsrap = [True, True]"
   ]
  },
  {
   "cell_type": "code",
   "execution_count": 325,
   "id": "5a8554f0-85e1-442b-aede-b74d88ca4e57",
   "metadata": {},
   "outputs": [
    {
     "name": "stdout",
     "output_type": "stream",
     "text": [
      "{'n_estimators': [10, 17, 25, 33, 41, 48, 56, 64, 72, 80], 'max_features': ['auto', 'sqrt'], 'max_depth': [2, 4], 'min_samples_split': [2, 5], 'min_samples_leaf': [1, 2], 'bootstrap': [True, True]}\n"
     ]
    }
   ],
   "source": [
    "param_grid =  {'n_estimators' : n_estimators,\n",
    "                'max_features' : max_features,\n",
    "                'max_depth' : max_depth,\n",
    "                'min_samples_split' : min_samples_split,\n",
    "                'min_samples_leaf' : min_samples_leaf,\n",
    "                'bootstrap' : bootsrap}\n",
    "print(param_grid)"
   ]
  },
  {
   "cell_type": "code",
   "execution_count": 326,
   "id": "40952ee2-2d7e-4ac8-905f-85828d60dfd7",
   "metadata": {},
   "outputs": [],
   "source": [
    "Rd = RandomForestClassifier()\n",
    "rd_Grid = GridSearchCV(estimator=Rd, param_grid=param_grid, cv=3, verbose=2, n_jobs=4 )"
   ]
  },
  {
   "cell_type": "code",
   "execution_count": 329,
   "id": "352feec4-85cc-41c8-996f-84e038a8ebf8",
   "metadata": {},
   "outputs": [
    {
     "name": "stdout",
     "output_type": "stream",
     "text": [
      "Fitting 3 folds for each of 320 candidates, totalling 960 fits\n"
     ]
    },
    {
     "data": {
      "text/plain": [
       "GridSearchCV(cv=3, estimator=RandomForestClassifier(), n_jobs=4,\n",
       "             param_grid={'bootstrap': [True, True], 'max_depth': [2, 4],\n",
       "                         'max_features': ['auto', 'sqrt'],\n",
       "                         'min_samples_leaf': [1, 2],\n",
       "                         'min_samples_split': [2, 5],\n",
       "                         'n_estimators': [10, 17, 25, 33, 41, 48, 56, 64, 72,\n",
       "                                          80]},\n",
       "             verbose=2)"
      ]
     },
     "execution_count": 329,
     "metadata": {},
     "output_type": "execute_result"
    }
   ],
   "source": [
    "rd_Grid.fit(x_train, y_train)"
   ]
  },
  {
   "cell_type": "code",
   "execution_count": 330,
   "id": "f02cfdcf-2e94-4b8d-9027-2b4bfe097703",
   "metadata": {},
   "outputs": [
    {
     "data": {
      "text/plain": [
       "{'bootstrap': True,\n",
       " 'max_depth': 4,\n",
       " 'max_features': 'auto',\n",
       " 'min_samples_leaf': 1,\n",
       " 'min_samples_split': 5,\n",
       " 'n_estimators': 33}"
      ]
     },
     "execution_count": 330,
     "metadata": {},
     "output_type": "execute_result"
    }
   ],
   "source": [
    "rd_Grid.best_params_"
   ]
  },
  {
   "cell_type": "markdown",
   "id": "5d97d07e-6869-4afc-9794-58ea43a33d14",
   "metadata": {},
   "source": [
    "## Prediction"
   ]
  },
  {
   "cell_type": "code",
   "execution_count": 361,
   "id": "0fe7d67b-49e9-45e8-a186-ef50dd7f307b",
   "metadata": {},
   "outputs": [],
   "source": [
    "classifier = RandomForestClassifier(n_estimators=33 , max_depth = 4 , min_samples_split= 5, n_jobs=4).fit(x_train, y_train)\n",
    "y_pred = new_classifier.predict(x_test)"
   ]
  },
  {
   "cell_type": "code",
   "execution_count": 366,
   "id": "4c3d20f2-14f6-44ca-8b32-953483760030",
   "metadata": {},
   "outputs": [],
   "source": [
    "text = ['i shoot my friends to die in a car after playing football together']"
   ]
  },
  {
   "cell_type": "code",
   "execution_count": 367,
   "id": "0fd26948-9f8b-40f9-8b5d-33f67634d17e",
   "metadata": {},
   "outputs": [
    {
     "name": "stdout",
     "output_type": "stream",
     "text": [
      "opinion\n"
     ]
    }
   ],
   "source": [
    "y_cv = cv.transform(text)\n",
    "yy = classifier.predict(y_cv)\n",
    "result = \"\"\n",
    "if yy == [0]:\n",
    "    result = \"opinion\"\n",
    "elif yy == [1]:\n",
    "    result = \"world\"\n",
    "elif yy == [2]:\n",
    "    result = \"Politics News\"\n",
    "elif yy == [3]:\n",
    "    result = \"arts\"\n",
    "elif yy == [4]:\n",
    "    result = \"business\"\n",
    "elif yy == [5]:\n",
    "    result = \"sports\"\n",
    "print(result)"
   ]
  }
 ],
 "metadata": {
  "kernelspec": {
   "display_name": "finalproject",
   "language": "python",
   "name": "finalproject"
  },
  "language_info": {
   "codemirror_mode": {
    "name": "ipython",
    "version": 3
   },
   "file_extension": ".py",
   "mimetype": "text/x-python",
   "name": "python",
   "nbconvert_exporter": "python",
   "pygments_lexer": "ipython3",
   "version": "3.8.11"
  }
 },
 "nbformat": 4,
 "nbformat_minor": 5
}
