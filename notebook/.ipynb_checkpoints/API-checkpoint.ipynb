{
 "cells": [
  {
   "cell_type": "code",
   "execution_count": 2,
   "metadata": {},
   "outputs": [],
   "source": [
    "import json\n",
    "import time\n",
    "import requests\n",
    "import datetime\n",
    "import dateutil\n",
    "import pandas as pd\n",
    "from dateutil.relativedelta import relativedelta"
   ]
  },
  {
   "cell_type": "markdown",
   "metadata": {},
   "source": [
    "## Get data from NYT API"
   ]
  },
  {
   "cell_type": "markdown",
   "metadata": {},
   "source": [
    "Send request to NYT"
   ]
  },
  {
   "cell_type": "code",
   "execution_count": 3,
   "metadata": {},
   "outputs": [],
   "source": [
    "# Year and Month\n",
    "date = ['2020', '1']"
   ]
  },
  {
   "cell_type": "code",
   "execution_count": 4,
   "metadata": {},
   "outputs": [],
   "source": [
    "def send_request(date):\n",
    "    '''API request'''\n",
    "    \n",
    "    base_url = 'https://api.nytimes.com/svc/archive/v1'\n",
    "    url = base_url + '/' + date[0] + '/' + date[1] + '.json?api-key=' + '3YIxSGJ8fF20rV8LAKKKPx05mNoB9AFl'\n",
    "    response = requests.get(url).json()\n",
    "    time.sleep(6)\n",
    "    return response"
   ]
  },
  {
   "cell_type": "code",
   "execution_count": null,
   "metadata": {},
   "outputs": [],
   "source": [
    "response = send_request(date)"
   ]
  },
  {
   "cell_type": "markdown",
   "metadata": {},
   "source": [
    "Parse data and turn to data frame"
   ]
  },
  {
   "cell_type": "code",
   "execution_count": null,
   "metadata": {},
   "outputs": [],
   "source": [
    "def parse_response(response):\n",
    "    '''API parsing and turn into DataFrame'''\n",
    "    \n",
    "    data = {\n",
    "        'date': [],\n",
    "        'url' : [],\n",
    "        'headline': [],  \n",
    "        'articles' : [],\n",
    "        'doc_type': [],\n",
    "        'material_type': [],\n",
    "        'section': [],\n",
    "        'keywords': []\n",
    "        }\n",
    "    articles = response['response']['docs'] \n",
    "    for article in articles: # For each article, make sure it falls within our date range\n",
    "        date = dateutil.parser.parse(article['pub_date']).date()\n",
    "        data['date'].append(date)\n",
    "        data['headline'].append(article['headline']['main']) \n",
    "        data['url'].append(article['web_url'])\n",
    "        data['articles'].append(article['snippet'])\n",
    "        if 'section' in article:\n",
    "            data['section'].append(article['section_name'])\n",
    "        else:\n",
    "            data['section'].append(None)\n",
    "        data['doc_type'].append(article['document_type'])\n",
    "        if 'type_of_material' in article: \n",
    "            data['material_type'].append(article['type_of_material'])\n",
    "        else:\n",
    "            data['material_type'].append(None)\n",
    "        keywords = [keyword['value'] for keyword in article['keywords'] if keyword['name'] == 'subject']\n",
    "        data['keywords'].append(keywords)\n",
    "    return pd.DataFrame(data) "
   ]
  },
  {
   "cell_type": "code",
   "execution_count": null,
   "metadata": {},
   "outputs": [],
   "source": [
    "df = parse_response(response)"
   ]
  },
  {
   "cell_type": "code",
   "execution_count": null,
   "metadata": {},
   "outputs": [],
   "source": [
    "df"
   ]
  },
  {
   "cell_type": "code",
   "execution_count": null,
   "metadata": {},
   "outputs": [],
   "source": [
    "def extract_label(x):\n",
    "    '''extract lebels from url'''\n",
    "    \n",
    "    df[x] = df['url']\n",
    "    df[x] = df[x].str.replace(r'(https?:\\/\\/www.nytimes.com\\/(interactive)\\/\\d+\\/\\d+\\/\\d+\\/)','', regex=True)\n",
    "    df[x] = df[x].str.replace(r'(https?:\\/\\/www.nytimes.com\\/\\d+\\/\\d+\\/\\d+\\/)','', regex=True)\n",
    "    df[x] = df[x].str.replace(r'(https?:\\/\\/www.nytimes.com\\/(slideshow)\\/\\d+\\/\\d+\\/\\d+\\/)','', regex=True)\n",
    "    df[x] = df[x].str.replace(r'(https?:\\/\\/www.nytimes.com\\/(interactive)\\/\\d+\\/)','', regex=True)\n",
    "    df[x] = df[x].str.replace(r'(https?:\\/\\/www.nytimes.com\\/(video)\\/)','', regex=True)\n",
    "    df[x] = df[x].str.replace(r'(https?:\\/\\/www.nytimes.com\\/)','', regex=True)\n",
    "    df[x] = df[x].str.replace(r'(https?:\\/\\/brandedplaylist.nytimes.com\\/)','', regex=True)\n",
    "    df[x] = df[x].str.replace(r'((us)\\/)','', regex=True)\n",
    "    df[x] = df[x].str.replace(r'(\\/.+)','', regex=True)\n",
    "    df[x] = df[x].str.replace(r'\\s+','', regex=True)\n",
    "    df[x] = df[x].str.replace(r'(.+(.html))','us', regex=True)\n",
    "    return df[x]"
   ]
  },
  {
   "cell_type": "code",
   "execution_count": null,
   "metadata": {},
   "outputs": [],
   "source": [
    "df['label'] = extract_label('label')"
   ]
  },
  {
   "cell_type": "code",
   "execution_count": null,
   "metadata": {},
   "outputs": [],
   "source": [
    "df"
   ]
  },
  {
   "cell_type": "markdown",
   "metadata": {},
   "source": [
    "#### Export data to directory"
   ]
  },
  {
   "cell_type": "code",
   "execution_count": null,
   "metadata": {},
   "outputs": [],
   "source": [
    "df.to_csv('../data/raw/raw-data.csv', index=None)"
   ]
  }
 ],
 "metadata": {
  "interpreter": {
   "hash": "0f9046a9b690ac07dcfca18d9b99f9ba021dc15ebaaae30ef07f00c2d8944cc8"
  },
  "kernelspec": {
   "display_name": "finalproject",
   "language": "python",
   "name": "finalproject"
  },
  "language_info": {
   "codemirror_mode": {
    "name": "ipython",
    "version": 3
   },
   "file_extension": ".py",
   "mimetype": "text/x-python",
   "name": "python",
   "nbconvert_exporter": "python",
   "pygments_lexer": "ipython3",
   "version": "3.8.11"
  }
 },
 "nbformat": 4,
 "nbformat_minor": 4
}
