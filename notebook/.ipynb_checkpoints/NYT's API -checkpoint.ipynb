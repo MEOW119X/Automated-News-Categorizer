{
 "cells": [
  {
   "cell_type": "code",
   "execution_count": 12,
   "metadata": {},
   "outputs": [],
   "source": [
    "import json\n",
    "import time\n",
    "import requests\n",
    "import datetime\n",
    "import dateutil\n",
    "import pandas as pd\n",
    "from module import extract_label\n",
    "from dateutil.relativedelta import relativedelta"
   ]
  },
  {
   "cell_type": "markdown",
   "metadata": {},
   "source": [
    "#### Get data from NYT API"
   ]
  },
  {
   "cell_type": "markdown",
   "metadata": {},
   "source": [
    "Send request to NYT"
   ]
  },
  {
   "cell_type": "code",
   "execution_count": 6,
   "metadata": {},
   "outputs": [],
   "source": [
    "# Year and Month\n",
    "date = ['2020', '1']"
   ]
  },
  {
   "cell_type": "code",
   "execution_count": 7,
   "metadata": {},
   "outputs": [],
   "source": [
    "def send_request(date):\n",
    "    base_url = 'https://api.nytimes.com/svc/archive/v1'\n",
    "    url = base_url + '/' + date[0] + '/' + date[1] + '.json?api-key=' + '3YIxSGJ8fF20rV8LAKKKPx05mNoB9AFl'\n",
    "    response = requests.get(url).json()\n",
    "    time.sleep(6)\n",
    "    return response"
   ]
  },
  {
   "cell_type": "code",
   "execution_count": 8,
   "metadata": {},
   "outputs": [],
   "source": [
    "response = send_request(date)"
   ]
  },
  {
   "cell_type": "markdown",
   "metadata": {},
   "source": [
    "Parse data and turn to data frame"
   ]
  },
  {
   "cell_type": "code",
   "execution_count": 9,
   "metadata": {},
   "outputs": [],
   "source": [
    "def parse_response(response):\n",
    "    data = {\n",
    "        'date': [],\n",
    "        'url' : [],\n",
    "        'headline': [],  \n",
    "        'doc_type': [],\n",
    "        'material_type': [],\n",
    "        'section': [],\n",
    "        'keywords': []\n",
    "        }\n",
    "    articles = response['response']['docs'] \n",
    "    for article in articles: # For each article, make sure it falls within our date range\n",
    "        date = dateutil.parser.parse(article['pub_date']).date()\n",
    "        data['date'].append(date)\n",
    "        data['headline'].append(article['headline']['main']) \n",
    "        data['url'].append(article['web_url'])\n",
    "        if 'section' in article:\n",
    "            data['section'].append(article['section_name'])\n",
    "        else:\n",
    "            data['section'].append(None)\n",
    "        data['doc_type'].append(article['document_type'])\n",
    "        if 'type_of_material' in article: \n",
    "            data['material_type'].append(article['type_of_material'])\n",
    "        else:\n",
    "            data['material_type'].append(None)\n",
    "        keywords = [keyword['value'] for keyword in article['keywords'] if keyword['name'] == 'subject']\n",
    "        data['keywords'].append(keywords)\n",
    "    return pd.DataFrame(data) "
   ]
  },
  {
   "cell_type": "code",
   "execution_count": 10,
   "metadata": {},
   "outputs": [],
   "source": [
    "df = parse_response(response)"
   ]
  },
  {
   "cell_type": "code",
   "execution_count": 11,
   "metadata": {},
   "outputs": [
    {
     "data": {
      "text/html": [
       "<div>\n",
       "<style scoped>\n",
       "    .dataframe tbody tr th:only-of-type {\n",
       "        vertical-align: middle;\n",
       "    }\n",
       "\n",
       "    .dataframe tbody tr th {\n",
       "        vertical-align: top;\n",
       "    }\n",
       "\n",
       "    .dataframe thead th {\n",
       "        text-align: right;\n",
       "    }\n",
       "</style>\n",
       "<table border=\"1\" class=\"dataframe\">\n",
       "  <thead>\n",
       "    <tr style=\"text-align: right;\">\n",
       "      <th></th>\n",
       "      <th>date</th>\n",
       "      <th>url</th>\n",
       "      <th>headline</th>\n",
       "      <th>doc_type</th>\n",
       "      <th>material_type</th>\n",
       "      <th>section</th>\n",
       "      <th>keywords</th>\n",
       "    </tr>\n",
       "  </thead>\n",
       "  <tbody>\n",
       "    <tr>\n",
       "      <th>0</th>\n",
       "      <td>2020-01-01</td>\n",
       "      <td>https://www.nytimes.com/2019/12/31/us/texas-ch...</td>\n",
       "      <td>‘Battling a Demon’: Drifter Sought Help Before...</td>\n",
       "      <td>article</td>\n",
       "      <td>News</td>\n",
       "      <td>None</td>\n",
       "      <td>[Churches (Buildings), Murders, Attempted Murd...</td>\n",
       "    </tr>\n",
       "    <tr>\n",
       "      <th>1</th>\n",
       "      <td>2020-01-01</td>\n",
       "      <td>https://www.nytimes.com/2019/12/31/opinion/for...</td>\n",
       "      <td>Protect Veterans From Fraud</td>\n",
       "      <td>article</td>\n",
       "      <td>Editorial</td>\n",
       "      <td>None</td>\n",
       "      <td>[Veterans, For-Profit Schools, Financial Aid (...</td>\n",
       "    </tr>\n",
       "    <tr>\n",
       "      <th>2</th>\n",
       "      <td>2020-01-01</td>\n",
       "      <td>https://www.nytimes.com/2019/12/31/health/e-ci...</td>\n",
       "      <td>F.D.A. Plans to Ban Most E-Cigarette Flavors b...</td>\n",
       "      <td>article</td>\n",
       "      <td>News</td>\n",
       "      <td>None</td>\n",
       "      <td>[E-Cigarettes, Recalls and Bans of Products, M...</td>\n",
       "    </tr>\n",
       "    <tr>\n",
       "      <th>3</th>\n",
       "      <td>2020-01-01</td>\n",
       "      <td>https://www.nytimes.com/2019/12/31/crosswords/...</td>\n",
       "      <td>‘It’s Green and Slimy’</td>\n",
       "      <td>article</td>\n",
       "      <td>News</td>\n",
       "      <td>None</td>\n",
       "      <td>[Crossword Puzzles]</td>\n",
       "    </tr>\n",
       "    <tr>\n",
       "      <th>4</th>\n",
       "      <td>2020-01-01</td>\n",
       "      <td>https://www.nytimes.com/2019/12/31/pageoneplus...</td>\n",
       "      <td>Corrections: Jan. 1, 2020</td>\n",
       "      <td>article</td>\n",
       "      <td>Correction</td>\n",
       "      <td>None</td>\n",
       "      <td>[]</td>\n",
       "    </tr>\n",
       "    <tr>\n",
       "      <th>...</th>\n",
       "      <td>...</td>\n",
       "      <td>...</td>\n",
       "      <td>...</td>\n",
       "      <td>...</td>\n",
       "      <td>...</td>\n",
       "      <td>...</td>\n",
       "      <td>...</td>\n",
       "    </tr>\n",
       "    <tr>\n",
       "      <th>4475</th>\n",
       "      <td>2020-01-31</td>\n",
       "      <td>https://www.nytimes.com/2020/01/31/sports/bask...</td>\n",
       "      <td>Lakers Fall to Blazers on Emotional Night Hono...</td>\n",
       "      <td>article</td>\n",
       "      <td>News</td>\n",
       "      <td>None</td>\n",
       "      <td>[Basketball]</td>\n",
       "    </tr>\n",
       "    <tr>\n",
       "      <th>4476</th>\n",
       "      <td>2020-01-31</td>\n",
       "      <td>https://www.nytimes.com/2020/01/31/sports/olym...</td>\n",
       "      <td>Alberto Salazar Is Suspended by SafeSport Afte...</td>\n",
       "      <td>article</td>\n",
       "      <td>News</td>\n",
       "      <td>None</td>\n",
       "      <td>[Running, Coaches and Managers]</td>\n",
       "    </tr>\n",
       "    <tr>\n",
       "      <th>4477</th>\n",
       "      <td>2020-01-31</td>\n",
       "      <td>https://www.nytimes.com/2020/01/31/health/cpr-...</td>\n",
       "      <td>CPR, by Default</td>\n",
       "      <td>article</td>\n",
       "      <td>News</td>\n",
       "      <td>None</td>\n",
       "      <td>[Hospitals, Defibrillators, Living Wills and H...</td>\n",
       "    </tr>\n",
       "    <tr>\n",
       "      <th>4478</th>\n",
       "      <td>2020-01-31</td>\n",
       "      <td>https://www.nytimes.com/video/us/politics/1000...</td>\n",
       "      <td>Impeachment Trial Highlights: A Showdown Over ...</td>\n",
       "      <td>multimedia</td>\n",
       "      <td>Video</td>\n",
       "      <td>None</td>\n",
       "      <td>[Impeachment, Trump-Ukraine Whistle-blower Com...</td>\n",
       "    </tr>\n",
       "    <tr>\n",
       "      <th>4479</th>\n",
       "      <td>2020-01-31</td>\n",
       "      <td>https://www.nytimes.com/2020/01/31/nyregion/pr...</td>\n",
       "      <td>Battle Lines Quickly Form Over Radical Propert...</td>\n",
       "      <td>article</td>\n",
       "      <td>News</td>\n",
       "      <td>None</td>\n",
       "      <td>[Property Taxes, Real Estate and Housing (Resi...</td>\n",
       "    </tr>\n",
       "  </tbody>\n",
       "</table>\n",
       "<p>4480 rows × 7 columns</p>\n",
       "</div>"
      ],
      "text/plain": [
       "            date                                                url  \\\n",
       "0     2020-01-01  https://www.nytimes.com/2019/12/31/us/texas-ch...   \n",
       "1     2020-01-01  https://www.nytimes.com/2019/12/31/opinion/for...   \n",
       "2     2020-01-01  https://www.nytimes.com/2019/12/31/health/e-ci...   \n",
       "3     2020-01-01  https://www.nytimes.com/2019/12/31/crosswords/...   \n",
       "4     2020-01-01  https://www.nytimes.com/2019/12/31/pageoneplus...   \n",
       "...          ...                                                ...   \n",
       "4475  2020-01-31  https://www.nytimes.com/2020/01/31/sports/bask...   \n",
       "4476  2020-01-31  https://www.nytimes.com/2020/01/31/sports/olym...   \n",
       "4477  2020-01-31  https://www.nytimes.com/2020/01/31/health/cpr-...   \n",
       "4478  2020-01-31  https://www.nytimes.com/video/us/politics/1000...   \n",
       "4479  2020-01-31  https://www.nytimes.com/2020/01/31/nyregion/pr...   \n",
       "\n",
       "                                               headline    doc_type  \\\n",
       "0     ‘Battling a Demon’: Drifter Sought Help Before...     article   \n",
       "1                           Protect Veterans From Fraud     article   \n",
       "2     F.D.A. Plans to Ban Most E-Cigarette Flavors b...     article   \n",
       "3                                ‘It’s Green and Slimy’     article   \n",
       "4                             Corrections: Jan. 1, 2020     article   \n",
       "...                                                 ...         ...   \n",
       "4475  Lakers Fall to Blazers on Emotional Night Hono...     article   \n",
       "4476  Alberto Salazar Is Suspended by SafeSport Afte...     article   \n",
       "4477                                    CPR, by Default     article   \n",
       "4478  Impeachment Trial Highlights: A Showdown Over ...  multimedia   \n",
       "4479  Battle Lines Quickly Form Over Radical Propert...     article   \n",
       "\n",
       "     material_type section                                           keywords  \n",
       "0             News    None  [Churches (Buildings), Murders, Attempted Murd...  \n",
       "1        Editorial    None  [Veterans, For-Profit Schools, Financial Aid (...  \n",
       "2             News    None  [E-Cigarettes, Recalls and Bans of Products, M...  \n",
       "3             News    None                                [Crossword Puzzles]  \n",
       "4       Correction    None                                                 []  \n",
       "...            ...     ...                                                ...  \n",
       "4475          News    None                                       [Basketball]  \n",
       "4476          News    None                    [Running, Coaches and Managers]  \n",
       "4477          News    None  [Hospitals, Defibrillators, Living Wills and H...  \n",
       "4478         Video    None  [Impeachment, Trump-Ukraine Whistle-blower Com...  \n",
       "4479          News    None  [Property Taxes, Real Estate and Housing (Resi...  \n",
       "\n",
       "[4480 rows x 7 columns]"
      ]
     },
     "execution_count": 11,
     "metadata": {},
     "output_type": "execute_result"
    }
   ],
   "source": [
    "df"
   ]
  },
  {
   "cell_type": "code",
   "execution_count": 5,
   "metadata": {},
   "outputs": [
    {
     "ename": "NameError",
     "evalue": "name 'extract_label' is not defined",
     "output_type": "error",
     "traceback": [
      "\u001b[1;31m---------------------------------------------------------------------------\u001b[0m",
      "\u001b[1;31mNameError\u001b[0m                                 Traceback (most recent call last)",
      "\u001b[1;32m~\\AppData\\Local\\Temp/ipykernel_5664/3848663368.py\u001b[0m in \u001b[0;36m<module>\u001b[1;34m\u001b[0m\n\u001b[1;32m----> 1\u001b[1;33m \u001b[0mextract_label\u001b[0m\u001b[1;33m(\u001b[0m\u001b[0murl\u001b[0m\u001b[1;33m)\u001b[0m\u001b[1;33m\u001b[0m\u001b[1;33m\u001b[0m\u001b[0m\n\u001b[0m",
      "\u001b[1;31mNameError\u001b[0m: name 'extract_label' is not defined"
     ]
    }
   ],
   "source": [
    "extract_label(url)"
   ]
  },
  {
   "cell_type": "markdown",
   "metadata": {},
   "source": [
    "#### Export data to directory"
   ]
  },
  {
   "cell_type": "code",
   "execution_count": 12,
   "metadata": {},
   "outputs": [],
   "source": [
    "df.to_csv('../data/raw/raw-data.csv', index=None)"
   ]
  }
 ],
 "metadata": {
  "interpreter": {
   "hash": "0f9046a9b690ac07dcfca18d9b99f9ba021dc15ebaaae30ef07f00c2d8944cc8"
  },
  "kernelspec": {
   "display_name": "finalproject",
   "language": "python",
   "name": "finalproject"
  },
  "language_info": {
   "codemirror_mode": {
    "name": "ipython",
    "version": 3
   },
   "file_extension": ".py",
   "mimetype": "text/x-python",
   "name": "python",
   "nbconvert_exporter": "python",
   "pygments_lexer": "ipython3",
   "version": "3.8.11"
  }
 },
 "nbformat": 4,
 "nbformat_minor": 4
}
