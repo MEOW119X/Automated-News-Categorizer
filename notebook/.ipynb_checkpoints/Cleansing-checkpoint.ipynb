{
 "cells": [
  {
   "cell_type": "markdown",
   "id": "30582f3f-c037-4c7e-8977-41172d8855e6",
   "metadata": {},
   "source": [
    "ปัญหาที่พบเจอ\n",
    "- คอลลัมพ์ Keywords เป็น list ที่แยกกัน"
   ]
  },
  {
   "cell_type": "code",
   "execution_count": 2,
   "id": "3b7fc480-24a2-424c-8f49-245b06c3362c",
   "metadata": {},
   "outputs": [],
   "source": [
    "import pandas as pd"
   ]
  },
  {
   "cell_type": "markdown",
   "id": "860a3817-9c17-443a-941a-f30aa1dbaf92",
   "metadata": {},
   "source": [
    "#### import Data"
   ]
  },
  {
   "cell_type": "code",
   "execution_count": 5,
   "id": "b557ae53-8c55-4bfd-a612-2191ca87aa50",
   "metadata": {},
   "outputs": [],
   "source": [
    "df = pd.read_csv('../data/raw/raw-data.csv')"
   ]
  },
  {
   "cell_type": "markdown",
   "id": "6074095a-7655-4089-8fc5-2328321c0f08",
   "metadata": {},
   "source": [
    "Store to work with EDA"
   ]
  },
  {
   "cell_type": "code",
   "execution_count": 9,
   "id": "f7adc8c6-ee69-4580-ba22-3265b158eb68",
   "metadata": {},
   "outputs": [
    {
     "name": "stdout",
     "output_type": "stream",
     "text": [
      "Stored 'df' (DataFrame)\n"
     ]
    }
   ],
   "source": [
    "%store df"
   ]
  },
  {
   "cell_type": "code",
   "execution_count": 7,
   "id": "f7b175af",
   "metadata": {},
   "outputs": [],
   "source": [
    "df = df[['headline','keywords','doc_type']]"
   ]
  },
  {
   "cell_type": "code",
   "execution_count": 8,
   "id": "d31986aa",
   "metadata": {},
   "outputs": [
    {
     "data": {
      "text/html": [
       "<div>\n",
       "<style scoped>\n",
       "    .dataframe tbody tr th:only-of-type {\n",
       "        vertical-align: middle;\n",
       "    }\n",
       "\n",
       "    .dataframe tbody tr th {\n",
       "        vertical-align: top;\n",
       "    }\n",
       "\n",
       "    .dataframe thead th {\n",
       "        text-align: right;\n",
       "    }\n",
       "</style>\n",
       "<table border=\"1\" class=\"dataframe\">\n",
       "  <thead>\n",
       "    <tr style=\"text-align: right;\">\n",
       "      <th></th>\n",
       "      <th>headline</th>\n",
       "      <th>keywords</th>\n",
       "      <th>doc_type</th>\n",
       "    </tr>\n",
       "  </thead>\n",
       "  <tbody>\n",
       "    <tr>\n",
       "      <th>0</th>\n",
       "      <td>‘Battling a Demon’: Drifter Sought Help Before...</td>\n",
       "      <td>['Churches (Buildings)', 'Murders, Attempted M...</td>\n",
       "      <td>article</td>\n",
       "    </tr>\n",
       "    <tr>\n",
       "      <th>1</th>\n",
       "      <td>Protect Veterans From Fraud</td>\n",
       "      <td>['Veterans', 'For-Profit Schools', 'Financial ...</td>\n",
       "      <td>article</td>\n",
       "    </tr>\n",
       "    <tr>\n",
       "      <th>2</th>\n",
       "      <td>F.D.A. Plans to Ban Most E-Cigarette Flavors b...</td>\n",
       "      <td>['E-Cigarettes', 'Recalls and Bans of Products...</td>\n",
       "      <td>article</td>\n",
       "    </tr>\n",
       "    <tr>\n",
       "      <th>3</th>\n",
       "      <td>‘It’s Green and Slimy’</td>\n",
       "      <td>['Crossword Puzzles']</td>\n",
       "      <td>article</td>\n",
       "    </tr>\n",
       "    <tr>\n",
       "      <th>4</th>\n",
       "      <td>Corrections: Jan. 1, 2020</td>\n",
       "      <td>[]</td>\n",
       "      <td>article</td>\n",
       "    </tr>\n",
       "    <tr>\n",
       "      <th>...</th>\n",
       "      <td>...</td>\n",
       "      <td>...</td>\n",
       "      <td>...</td>\n",
       "    </tr>\n",
       "    <tr>\n",
       "      <th>4475</th>\n",
       "      <td>Lakers Fall to Blazers on Emotional Night Hono...</td>\n",
       "      <td>['Basketball']</td>\n",
       "      <td>article</td>\n",
       "    </tr>\n",
       "    <tr>\n",
       "      <th>4476</th>\n",
       "      <td>Alberto Salazar Is Suspended by SafeSport Afte...</td>\n",
       "      <td>['Running', 'Coaches and Managers']</td>\n",
       "      <td>article</td>\n",
       "    </tr>\n",
       "    <tr>\n",
       "      <th>4477</th>\n",
       "      <td>CPR, by Default</td>\n",
       "      <td>['Hospitals', 'Defibrillators', 'Living Wills ...</td>\n",
       "      <td>article</td>\n",
       "    </tr>\n",
       "    <tr>\n",
       "      <th>4478</th>\n",
       "      <td>Impeachment Trial Highlights: A Showdown Over ...</td>\n",
       "      <td>['Impeachment', 'Trump-Ukraine Whistle-blower ...</td>\n",
       "      <td>multimedia</td>\n",
       "    </tr>\n",
       "    <tr>\n",
       "      <th>4479</th>\n",
       "      <td>Battle Lines Quickly Form Over Radical Propert...</td>\n",
       "      <td>['Property Taxes', 'Real Estate and Housing (R...</td>\n",
       "      <td>article</td>\n",
       "    </tr>\n",
       "  </tbody>\n",
       "</table>\n",
       "<p>4480 rows × 3 columns</p>\n",
       "</div>"
      ],
      "text/plain": [
       "                                               headline  \\\n",
       "0     ‘Battling a Demon’: Drifter Sought Help Before...   \n",
       "1                           Protect Veterans From Fraud   \n",
       "2     F.D.A. Plans to Ban Most E-Cigarette Flavors b...   \n",
       "3                                ‘It’s Green and Slimy’   \n",
       "4                             Corrections: Jan. 1, 2020   \n",
       "...                                                 ...   \n",
       "4475  Lakers Fall to Blazers on Emotional Night Hono...   \n",
       "4476  Alberto Salazar Is Suspended by SafeSport Afte...   \n",
       "4477                                    CPR, by Default   \n",
       "4478  Impeachment Trial Highlights: A Showdown Over ...   \n",
       "4479  Battle Lines Quickly Form Over Radical Propert...   \n",
       "\n",
       "                                               keywords    doc_type  \n",
       "0     ['Churches (Buildings)', 'Murders, Attempted M...     article  \n",
       "1     ['Veterans', 'For-Profit Schools', 'Financial ...     article  \n",
       "2     ['E-Cigarettes', 'Recalls and Bans of Products...     article  \n",
       "3                                 ['Crossword Puzzles']     article  \n",
       "4                                                    []     article  \n",
       "...                                                 ...         ...  \n",
       "4475                                     ['Basketball']     article  \n",
       "4476                ['Running', 'Coaches and Managers']     article  \n",
       "4477  ['Hospitals', 'Defibrillators', 'Living Wills ...     article  \n",
       "4478  ['Impeachment', 'Trump-Ukraine Whistle-blower ...  multimedia  \n",
       "4479  ['Property Taxes', 'Real Estate and Housing (R...     article  \n",
       "\n",
       "[4480 rows x 3 columns]"
      ]
     },
     "execution_count": 8,
     "metadata": {},
     "output_type": "execute_result"
    }
   ],
   "source": [
    "df"
   ]
  },
  {
   "cell_type": "code",
   "execution_count": 51,
   "id": "3b86c0eb",
   "metadata": {},
   "outputs": [
    {
     "data": {
      "text/plain": [
       "pandas.core.series.Series"
      ]
     },
     "execution_count": 51,
     "metadata": {},
     "output_type": "execute_result"
    }
   ],
   "source": [
    "type(df.keywords)"
   ]
  },
  {
   "cell_type": "code",
   "execution_count": null,
   "id": "b9e1c30f",
   "metadata": {},
   "outputs": [],
   "source": []
  }
 ],
 "metadata": {
  "kernelspec": {
   "display_name": "finalproject",
   "language": "python",
   "name": "finalproject"
  },
  "language_info": {
   "codemirror_mode": {
    "name": "ipython",
    "version": 3
   },
   "file_extension": ".py",
   "mimetype": "text/x-python",
   "name": "python",
   "nbconvert_exporter": "python",
   "pygments_lexer": "ipython3",
   "version": "3.8.11"
  }
 },
 "nbformat": 4,
 "nbformat_minor": 5
}
