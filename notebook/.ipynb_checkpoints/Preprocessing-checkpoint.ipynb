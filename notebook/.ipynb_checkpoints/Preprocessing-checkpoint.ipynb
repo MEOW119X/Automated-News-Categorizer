{
 "cells": [
  {
   "cell_type": "markdown",
   "metadata": {},
   "source": [
    "### Links for study"
   ]
  },
  {
   "cell_type": "markdown",
   "metadata": {},
   "source": [
    "https://www.analyticsvidhya.com/blog/2021/12/text-classification-of-news-articles/"
   ]
  }
 ],
 "metadata": {
  "interpreter": {
   "hash": "f076fab595b0b82372d7f0663c6c0ec78448392ca534bc8c2a5b2142d247e6f4"
  },
  "kernelspec": {
   "display_name": "Python 3",
   "language": "python",
   "name": "python3"
  },
  "language_info": {
   "codemirror_mode": {
    "name": "ipython",
    "version": 3
   },
   "file_extension": ".py",
   "mimetype": "text/x-python",
   "name": "python",
   "nbconvert_exporter": "python",
   "pygments_lexer": "ipython3",
   "version": "3.8.11"
  }
 },
 "nbformat": 4,
 "nbformat_minor": 2
}
