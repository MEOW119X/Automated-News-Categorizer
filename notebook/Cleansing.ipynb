{
 "cells": [
  {
   "cell_type": "markdown",
   "id": "30582f3f-c037-4c7e-8977-41172d8855e6",
   "metadata": {},
   "source": [
    "ปัญหาที่พบเจอ\n",
    "- คอลลัมพ์ Keywords เป็น list ที่แยกกัน"
   ]
  },
  {
   "cell_type": "code",
   "execution_count": 2,
   "id": "3b7fc480-24a2-424c-8f49-245b06c3362c",
   "metadata": {},
   "outputs": [],
   "source": [
    "import pandas as pd"
   ]
  },
  {
   "cell_type": "markdown",
   "id": "860a3817-9c17-443a-941a-f30aa1dbaf92",
   "metadata": {},
   "source": [
    "#### import Data"
   ]
  },
  {
   "cell_type": "code",
   "execution_count": 5,
   "id": "b557ae53-8c55-4bfd-a612-2191ca87aa50",
   "metadata": {},
   "outputs": [],
   "source": [
    "df = pd.read_csv('../data/raw/raw-data.csv')"
   ]
  },
  {
   "cell_type": "markdown",
   "id": "6074095a-7655-4089-8fc5-2328321c0f08",
   "metadata": {},
   "source": [
    "Store to work with EDA"
   ]
  },
  {
   "cell_type": "code",
   "execution_count": 9,
   "id": "f7adc8c6-ee69-4580-ba22-3265b158eb68",
   "metadata": {},
   "outputs": [
    {
     "name": "stdout",
     "output_type": "stream",
     "text": [
      "Stored 'df' (DataFrame)\n"
     ]
    }
   ],
   "source": [
    "%store df"
   ]
  },
  {
   "cell_type": "code",
   "execution_count": 10,
   "id": "f7b175af",
   "metadata": {},
   "outputs": [],
   "source": [
    "df = df[['doc_type','headline','keywords']]"
   ]
  },
  {
   "cell_type": "code",
   "execution_count": 11,
   "id": "d31986aa",
   "metadata": {},
   "outputs": [
    {
     "data": {
      "text/html": [
       "<div>\n",
       "<style scoped>\n",
       "    .dataframe tbody tr th:only-of-type {\n",
       "        vertical-align: middle;\n",
       "    }\n",
       "\n",
       "    .dataframe tbody tr th {\n",
       "        vertical-align: top;\n",
       "    }\n",
       "\n",
       "    .dataframe thead th {\n",
       "        text-align: right;\n",
       "    }\n",
       "</style>\n",
       "<table border=\"1\" class=\"dataframe\">\n",
       "  <thead>\n",
       "    <tr style=\"text-align: right;\">\n",
       "      <th></th>\n",
       "      <th>doc_type</th>\n",
       "      <th>headline</th>\n",
       "      <th>keywords</th>\n",
       "    </tr>\n",
       "  </thead>\n",
       "  <tbody>\n",
       "    <tr>\n",
       "      <th>0</th>\n",
       "      <td>article</td>\n",
       "      <td>‘Battling a Demon’: Drifter Sought Help Before...</td>\n",
       "      <td>['Churches (Buildings)', 'Murders, Attempted M...</td>\n",
       "    </tr>\n",
       "    <tr>\n",
       "      <th>1</th>\n",
       "      <td>article</td>\n",
       "      <td>Protect Veterans From Fraud</td>\n",
       "      <td>['Veterans', 'For-Profit Schools', 'Financial ...</td>\n",
       "    </tr>\n",
       "    <tr>\n",
       "      <th>2</th>\n",
       "      <td>article</td>\n",
       "      <td>F.D.A. Plans to Ban Most E-Cigarette Flavors b...</td>\n",
       "      <td>['E-Cigarettes', 'Recalls and Bans of Products...</td>\n",
       "    </tr>\n",
       "    <tr>\n",
       "      <th>3</th>\n",
       "      <td>article</td>\n",
       "      <td>‘It’s Green and Slimy’</td>\n",
       "      <td>['Crossword Puzzles']</td>\n",
       "    </tr>\n",
       "    <tr>\n",
       "      <th>4</th>\n",
       "      <td>article</td>\n",
       "      <td>Corrections: Jan. 1, 2020</td>\n",
       "      <td>[]</td>\n",
       "    </tr>\n",
       "    <tr>\n",
       "      <th>...</th>\n",
       "      <td>...</td>\n",
       "      <td>...</td>\n",
       "      <td>...</td>\n",
       "    </tr>\n",
       "    <tr>\n",
       "      <th>4475</th>\n",
       "      <td>article</td>\n",
       "      <td>Lakers Fall to Blazers on Emotional Night Hono...</td>\n",
       "      <td>['Basketball']</td>\n",
       "    </tr>\n",
       "    <tr>\n",
       "      <th>4476</th>\n",
       "      <td>article</td>\n",
       "      <td>Alberto Salazar Is Suspended by SafeSport Afte...</td>\n",
       "      <td>['Running', 'Coaches and Managers']</td>\n",
       "    </tr>\n",
       "    <tr>\n",
       "      <th>4477</th>\n",
       "      <td>article</td>\n",
       "      <td>CPR, by Default</td>\n",
       "      <td>['Hospitals', 'Defibrillators', 'Living Wills ...</td>\n",
       "    </tr>\n",
       "    <tr>\n",
       "      <th>4478</th>\n",
       "      <td>multimedia</td>\n",
       "      <td>Impeachment Trial Highlights: A Showdown Over ...</td>\n",
       "      <td>['Impeachment', 'Trump-Ukraine Whistle-blower ...</td>\n",
       "    </tr>\n",
       "    <tr>\n",
       "      <th>4479</th>\n",
       "      <td>article</td>\n",
       "      <td>Battle Lines Quickly Form Over Radical Propert...</td>\n",
       "      <td>['Property Taxes', 'Real Estate and Housing (R...</td>\n",
       "    </tr>\n",
       "  </tbody>\n",
       "</table>\n",
       "<p>4480 rows × 3 columns</p>\n",
       "</div>"
      ],
      "text/plain": [
       "        doc_type                                           headline  \\\n",
       "0        article  ‘Battling a Demon’: Drifter Sought Help Before...   \n",
       "1        article                        Protect Veterans From Fraud   \n",
       "2        article  F.D.A. Plans to Ban Most E-Cigarette Flavors b...   \n",
       "3        article                             ‘It’s Green and Slimy’   \n",
       "4        article                          Corrections: Jan. 1, 2020   \n",
       "...          ...                                                ...   \n",
       "4475     article  Lakers Fall to Blazers on Emotional Night Hono...   \n",
       "4476     article  Alberto Salazar Is Suspended by SafeSport Afte...   \n",
       "4477     article                                    CPR, by Default   \n",
       "4478  multimedia  Impeachment Trial Highlights: A Showdown Over ...   \n",
       "4479     article  Battle Lines Quickly Form Over Radical Propert...   \n",
       "\n",
       "                                               keywords  \n",
       "0     ['Churches (Buildings)', 'Murders, Attempted M...  \n",
       "1     ['Veterans', 'For-Profit Schools', 'Financial ...  \n",
       "2     ['E-Cigarettes', 'Recalls and Bans of Products...  \n",
       "3                                 ['Crossword Puzzles']  \n",
       "4                                                    []  \n",
       "...                                                 ...  \n",
       "4475                                     ['Basketball']  \n",
       "4476                ['Running', 'Coaches and Managers']  \n",
       "4477  ['Hospitals', 'Defibrillators', 'Living Wills ...  \n",
       "4478  ['Impeachment', 'Trump-Ukraine Whistle-blower ...  \n",
       "4479  ['Property Taxes', 'Real Estate and Housing (R...  \n",
       "\n",
       "[4480 rows x 3 columns]"
      ]
     },
     "execution_count": 11,
     "metadata": {},
     "output_type": "execute_result"
    }
   ],
   "source": [
    "df"
   ]
  }
 ],
 "metadata": {
  "kernelspec": {
   "display_name": "finalproject",
   "language": "python",
   "name": "finalproject"
  },
  "language_info": {
   "codemirror_mode": {
    "name": "ipython",
    "version": 3
   },
   "file_extension": ".py",
   "mimetype": "text/x-python",
   "name": "python",
   "nbconvert_exporter": "python",
   "pygments_lexer": "ipython3",
   "version": "3.8.11"
  }
 },
 "nbformat": 4,
 "nbformat_minor": 5
}
