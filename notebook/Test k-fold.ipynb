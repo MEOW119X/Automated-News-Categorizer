{
 "cells": [
  {
   "cell_type": "code",
   "execution_count": 130,
   "id": "586882f9-0404-4a43-a49b-09dd6a919343",
   "metadata": {},
   "outputs": [],
   "source": [
    "df = pd.read_csv('../data/cleaned/final-cleaned.csv')"
   ]
  },
  {
   "cell_type": "code",
   "execution_count": 131,
   "id": "5aef9bf8-ce3d-4045-b5e3-f40d4b4563d6",
   "metadata": {},
   "outputs": [
    {
     "data": {
      "text/html": [
       "<div><div id=496c1868-f089-42a7-91a7-80615e0a0a52 style=\"display:none; background-color:#9D6CFF; color:white; width:200px; height:30px; padding-left:5px; border-radius:4px; flex-direction:row; justify-content:space-around; align-items:center;\" onmouseover=\"this.style.backgroundColor='#BA9BF8'\" onmouseout=\"this.style.backgroundColor='#9D6CFF'\" onclick=\"window.commands?.execute('create-mitosheet-from-dataframe-output');\">See Full Dataframe in Mito</div> <script> if (window.commands.hasCommand('create-mitosheet-from-dataframe-output')) document.getElementById('496c1868-f089-42a7-91a7-80615e0a0a52').style.display = 'flex' </script> <table border=\"1\" class=\"dataframe\">\n",
       "  <thead>\n",
       "    <tr style=\"text-align: right;\">\n",
       "      <th></th>\n",
       "      <th>category_id</th>\n",
       "      <th>category</th>\n",
       "      <th>articles</th>\n",
       "    </tr>\n",
       "  </thead>\n",
       "  <tbody>\n",
       "    <tr>\n",
       "      <th>0</th>\n",
       "      <td>0</td>\n",
       "      <td>opinion</td>\n",
       "      <td>congress  much protect american served country predatory profit college</td>\n",
       "    </tr>\n",
       "    <tr>\n",
       "      <th>1</th>\n",
       "      <td>1</td>\n",
       "      <td>world</td>\n",
       "      <td>attack civilian site syria grown frequent u n launch rare inquiry document violation investigation limit scope final report  make public new york time inves</td>\n",
       "    </tr>\n",
       "    <tr>\n",
       "      <th>2</th>\n",
       "      <td>1</td>\n",
       "      <td>world</td>\n",
       "      <td>week relative calm end wednesday people march large number police deploy  gas pepper spray</td>\n",
       "    </tr>\n",
       "    <tr>\n",
       "      <th>3</th>\n",
       "      <td>2</td>\n",
       "      <td>politics</td>\n",
       "      <td>president monitor middle east crisis golf club threaten iran implored reporter honorable</td>\n",
       "    </tr>\n",
       "    <tr>\n",
       "      <th>4</th>\n",
       "      <td>3</td>\n",
       "      <td>arts</td>\n",
       "      <td>linda ronstadt sound voice air cnn new season doctor kick bbc america</td>\n",
       "    </tr>\n",
       "    <tr>\n",
       "      <th>...</th>\n",
       "      <td>...</td>\n",
       "      <td>...</td>\n",
       "      <td>...</td>\n",
       "    </tr>\n",
       "    <tr>\n",
       "      <th>2336</th>\n",
       "      <td>4</td>\n",
       "      <td>business</td>\n",
       "      <td>former bos premium cable network talk former vice medium executive making documentary</td>\n",
       "    </tr>\n",
       "    <tr>\n",
       "      <th>2337</th>\n",
       "      <td>2</td>\n",
       "      <td>politics</td>\n",
       "      <td>lobby president washington hotel supporter remain unwavering business remain brisk</td>\n",
       "    </tr>\n",
       "    <tr>\n",
       "      <th>2338</th>\n",
       "      <td>5</td>\n",
       "      <td>sports</td>\n",
       "      <td>lakers first game  bryant daughter gianna die helicopter crash sunday lebron james give heartfelt speech game</td>\n",
       "    </tr>\n",
       "    <tr>\n",
       "      <th>2339</th>\n",
       "      <td>5</td>\n",
       "      <td>sports</td>\n",
       "      <td>famed run coach already bar sport  year dope violation temporarily ban u center safesport action  produce lifetime ban</td>\n",
       "    </tr>\n",
       "    <tr>\n",
       "      <th>2340</th>\n",
       "      <td>2</td>\n",
       "      <td>politics</td>\n",
       "      <td>senator reject call additional witness president trump impeachment trial deal fatal blow effort democrat bring new evidence</td>\n",
       "    </tr>\n",
       "  </tbody>\n",
       "</table></div>"
      ],
      "text/plain": [
       "      category_id  category                                           articles\n",
       "0               0   opinion  congress  much protect american served country...\n",
       "1               1     world  attack civilian site syria grown frequent u n ...\n",
       "2               1     world  week relative calm end wednesday people march ...\n",
       "3               2  politics  president monitor middle east crisis golf club...\n",
       "4               3      arts  linda ronstadt sound voice air cnn new season ...\n",
       "...           ...       ...                                                ...\n",
       "2336            4  business  former bos premium cable network talk former v...\n",
       "2337            2  politics  lobby president washington hotel supporter rem...\n",
       "2338            5    sports  lakers first game  bryant daughter gianna die ...\n",
       "2339            5    sports  famed run coach already bar sport  year dope v...\n",
       "2340            2  politics  senator reject call additional witness preside...\n",
       "\n",
       "[2341 rows x 3 columns]"
      ]
     },
     "execution_count": 131,
     "metadata": {},
     "output_type": "execute_result"
    }
   ],
   "source": [
    "df"
   ]
  },
  {
   "cell_type": "code",
   "execution_count": 132,
   "id": "67fa4f28-e358-4899-a194-b3f4e008ca0a",
   "metadata": {},
   "outputs": [],
   "source": [
    "df['articles'] = df['articles'].values.astype('U')"
   ]
  },
  {
   "cell_type": "markdown",
   "id": "13d0aa80-1566-444a-b9a0-73a8a6f51f06",
   "metadata": {},
   "source": [
    "## Model"
   ]
  },
  {
   "cell_type": "code",
   "execution_count": 133,
   "id": "145e4361-8d6f-4727-9f4e-a4bab4d707d9",
   "metadata": {},
   "outputs": [],
   "source": [
    "X = df.articles\n",
    "y = df.category_id"
   ]
  },
  {
   "cell_type": "code",
   "execution_count": 134,
   "id": "51886990-5235-4a00-a45b-2ca5b09f5346",
   "metadata": {},
   "outputs": [],
   "source": [
    "cv = CountVectorizer(max_features = 5000)"
   ]
  },
  {
   "cell_type": "code",
   "execution_count": 135,
   "id": "6f2c1ec7-950f-4e24-a72a-288a61489707",
   "metadata": {},
   "outputs": [],
   "source": [
    "preprocessor = ColumnTransformer(\n",
    "    ('cv', CountVectorizer(max_features = 5000), 'articles'),\n",
    "    remainder = 'passthroug'\n",
    ")"
   ]
  },
  {
   "cell_type": "code",
   "execution_count": 136,
   "id": "8b8f0726-fd33-4a0c-a78d-a5e4520b45be",
   "metadata": {},
   "outputs": [
    {
     "ename": "TypeError",
     "evalue": "'CountVectorizer' object is not iterable",
     "output_type": "error",
     "traceback": [
      "\u001b[1;31m---------------------------------------------------------------------------\u001b[0m",
      "\u001b[1;31mTypeError\u001b[0m                                 Traceback (most recent call last)",
      "\u001b[1;32m~\\AppData\\Local\\Temp/ipykernel_9668/2268936890.py\u001b[0m in \u001b[0;36m<module>\u001b[1;34m\u001b[0m\n\u001b[1;32m----> 1\u001b[1;33m \u001b[0mpreprocessor\u001b[0m\u001b[1;33m.\u001b[0m\u001b[0mfit_transform\u001b[0m\u001b[1;33m(\u001b[0m\u001b[0mdf\u001b[0m\u001b[1;33m)\u001b[0m\u001b[1;33m.\u001b[0m\u001b[0mvalues\u001b[0m\u001b[1;33m.\u001b[0m\u001b[0mastype\u001b[0m\u001b[1;33m(\u001b[0m\u001b[1;34m'U'\u001b[0m\u001b[1;33m)\u001b[0m\u001b[1;33m\u001b[0m\u001b[1;33m\u001b[0m\u001b[0m\n\u001b[0m",
      "\u001b[1;32mD:\\Project\\finalproject\\lib\\site-packages\\sklearn\\compose\\_column_transformer.py\u001b[0m in \u001b[0;36mfit_transform\u001b[1;34m(self, X, y)\u001b[0m\n\u001b[0;32m    501\u001b[0m         \u001b[1;31m# set n_features_in_ attribute\u001b[0m\u001b[1;33m\u001b[0m\u001b[1;33m\u001b[0m\u001b[1;33m\u001b[0m\u001b[0m\n\u001b[0;32m    502\u001b[0m         \u001b[0mself\u001b[0m\u001b[1;33m.\u001b[0m\u001b[0m_check_n_features\u001b[0m\u001b[1;33m(\u001b[0m\u001b[0mX\u001b[0m\u001b[1;33m,\u001b[0m \u001b[0mreset\u001b[0m\u001b[1;33m=\u001b[0m\u001b[1;32mTrue\u001b[0m\u001b[1;33m)\u001b[0m\u001b[1;33m\u001b[0m\u001b[1;33m\u001b[0m\u001b[0m\n\u001b[1;32m--> 503\u001b[1;33m         \u001b[0mself\u001b[0m\u001b[1;33m.\u001b[0m\u001b[0m_validate_transformers\u001b[0m\u001b[1;33m(\u001b[0m\u001b[1;33m)\u001b[0m\u001b[1;33m\u001b[0m\u001b[1;33m\u001b[0m\u001b[0m\n\u001b[0m\u001b[0;32m    504\u001b[0m         \u001b[0mself\u001b[0m\u001b[1;33m.\u001b[0m\u001b[0m_validate_column_callables\u001b[0m\u001b[1;33m(\u001b[0m\u001b[0mX\u001b[0m\u001b[1;33m)\u001b[0m\u001b[1;33m\u001b[0m\u001b[1;33m\u001b[0m\u001b[0m\n\u001b[0;32m    505\u001b[0m         \u001b[0mself\u001b[0m\u001b[1;33m.\u001b[0m\u001b[0m_validate_remainder\u001b[0m\u001b[1;33m(\u001b[0m\u001b[0mX\u001b[0m\u001b[1;33m)\u001b[0m\u001b[1;33m\u001b[0m\u001b[1;33m\u001b[0m\u001b[0m\n",
      "\u001b[1;32mD:\\Project\\finalproject\\lib\\site-packages\\sklearn\\compose\\_column_transformer.py\u001b[0m in \u001b[0;36m_validate_transformers\u001b[1;34m(self)\u001b[0m\n\u001b[0;32m    279\u001b[0m             \u001b[1;32mreturn\u001b[0m\u001b[1;33m\u001b[0m\u001b[1;33m\u001b[0m\u001b[0m\n\u001b[0;32m    280\u001b[0m \u001b[1;33m\u001b[0m\u001b[0m\n\u001b[1;32m--> 281\u001b[1;33m         \u001b[0mnames\u001b[0m\u001b[1;33m,\u001b[0m \u001b[0mtransformers\u001b[0m\u001b[1;33m,\u001b[0m \u001b[0m_\u001b[0m \u001b[1;33m=\u001b[0m \u001b[0mzip\u001b[0m\u001b[1;33m(\u001b[0m\u001b[1;33m*\u001b[0m\u001b[0mself\u001b[0m\u001b[1;33m.\u001b[0m\u001b[0mtransformers\u001b[0m\u001b[1;33m)\u001b[0m\u001b[1;33m\u001b[0m\u001b[1;33m\u001b[0m\u001b[0m\n\u001b[0m\u001b[0;32m    282\u001b[0m \u001b[1;33m\u001b[0m\u001b[0m\n\u001b[0;32m    283\u001b[0m         \u001b[1;31m# validate names\u001b[0m\u001b[1;33m\u001b[0m\u001b[1;33m\u001b[0m\u001b[1;33m\u001b[0m\u001b[0m\n",
      "\u001b[1;31mTypeError\u001b[0m: 'CountVectorizer' object is not iterable"
     ]
    }
   ],
   "source": [
    "preprocessor.fit_transform(df).values.astype('U')"
   ]
  },
  {
   "cell_type": "code",
   "execution_count": null,
   "id": "4c10189c-5dc1-476b-bf8e-0f6333a33f76",
   "metadata": {},
   "outputs": [],
   "source": [
    "model = make_pipeline(\n",
    "    preprocessor,\n",
    "    RandomForestClassifier(n_estimators=100 ,criterion='entropy' , random_state=0))"
   ]
  },
  {
   "cell_type": "code",
   "execution_count": null,
   "id": "c84a1d8c-210f-4d32-bb15-b84678545cb2",
   "metadata": {},
   "outputs": [],
   "source": [
    "model.fit(X_train, y_train)"
   ]
  },
  {
   "cell_type": "code",
   "execution_count": null,
   "id": "14baf67f-8704-4a45-a42e-38985616d2dd",
   "metadata": {},
   "outputs": [],
   "source": [
    "model = RandomForestClassifier(n_estimators=100 ,criterion='entropy' , random_state=0)"
   ]
  },
  {
   "cell_type": "code",
   "execution_count": null,
   "id": "26b8cda4-36fd-4894-a03d-a433ca48d4d7",
   "metadata": {},
   "outputs": [],
   "source": [
    "pip = make_pipeline(preprocessor, model)"
   ]
  },
  {
   "cell_type": "code",
   "execution_count": null,
   "id": "70771e82-e530-43a4-873b-2c7ee3b20cc9",
   "metadata": {},
   "outputs": [],
   "source": [
    "cross_val_score(pip, X, y, cv=10)"
   ]
  },
  {
   "cell_type": "code",
   "execution_count": null,
   "id": "b562e3ec-b6eb-4fda-b0e9-2ea6c5d78516",
   "metadata": {},
   "outputs": [],
   "source": [
    "cv = CountVectorizer(max_features = 5000)"
   ]
  },
  {
   "cell_type": "code",
   "execution_count": null,
   "id": "609497e8-7d26-4281-8c6c-99af94831bf7",
   "metadata": {},
   "outputs": [],
   "source": [
    "mtr = cv.fit_transform(df['articles'].values.astype('U'))"
   ]
  },
  {
   "cell_type": "code",
   "execution_count": null,
   "id": "4fb59764-d7f1-4440-a55f-eae657dfbcf1",
   "metadata": {},
   "outputs": [],
   "source": [
    "x = pd.DataFrame(mtr.toarray(),columns=cv.get_feature_names())"
   ]
  },
  {
   "cell_type": "code",
   "execution_count": null,
   "id": "d0e326c9-d944-47c4-8caf-32d3fae4240a",
   "metadata": {},
   "outputs": [],
   "source": [
    "y = np.array(df.category_id.values)"
   ]
  },
  {
   "cell_type": "code",
   "execution_count": null,
   "id": "f33e10bf-fd30-4075-a7ea-ce7f366acc50",
   "metadata": {},
   "outputs": [],
   "source": [
    "x"
   ]
  },
  {
   "cell_type": "code",
   "execution_count": null,
   "id": "bf63628b-3d38-4a6f-82c0-f09d51cc2f91",
   "metadata": {},
   "outputs": [],
   "source": [
    "print(\"X.shape = \",x.shape)\n",
    "print(\"y.shape = \",y.shape)"
   ]
  },
  {
   "cell_type": "code",
   "execution_count": null,
   "id": "504e53c1-a3cf-4681-94d6-35cb0bb220a3",
   "metadata": {},
   "outputs": [],
   "source": [
    "perform_list = [ ]"
   ]
  },
  {
   "cell_type": "code",
   "execution_count": null,
   "id": "b751c4bc-806f-4e5f-b562-8fbea14bfb58",
   "metadata": {},
   "outputs": [],
   "source": [
    "df"
   ]
  },
  {
   "cell_type": "code",
   "execution_count": null,
   "id": "972324f5-a542-40be-b54f-7245d62c8326",
   "metadata": {},
   "outputs": [],
   "source": [
    "from sklearn.feature_extraction.text import CountVectorizer\n",
    "import numpy as np\n",
    "from sklearn.model_selection import train_test_split, cross_val_score"
   ]
  },
  {
   "cell_type": "code",
   "execution_count": null,
   "id": "036ea707-776c-472f-8392-7c589d5f910c",
   "metadata": {},
   "outputs": [],
   "source": [
    "from sklearn.pipeline import make_pipeline\n",
    "from sklearn.pipeline import Pipeline\n",
    "from sklearn.compose import ColumnTransformer\n",
    "from sklearn.compose import make_column_transformer\n",
    "from sklearn.ensemble import RandomForestClassifier"
   ]
  },
  {
   "cell_type": "code",
   "execution_count": null,
   "id": "2fd73ea4-6d09-44de-8eaf-eeec7dd6e7fc",
   "metadata": {},
   "outputs": [],
   "source": [
    "transformer = make_column_transformer((CountVectorizer(max_features = 5000),'articles'),\n",
    "                                       remainder='passthrough')\n",
    "X = transformer.fit_transform(df).values.astype('U')"
   ]
  },
  {
   "cell_type": "code",
   "execution_count": null,
   "id": "005c0072-0a02-4fc7-bf96-eb936eb1b9ef",
   "metadata": {},
   "outputs": [],
   "source": [
    "df"
   ]
  },
  {
   "cell_type": "code",
   "execution_count": null,
   "id": "9bf2b38b-ec7b-4279-96bb-1cce2b0408e1",
   "metadata": {},
   "outputs": [],
   "source": [
    "data = [[0, 10, \"Hello\", 3], \n",
    "        [1, 15, \"Hello\", 4], \n",
    "        [0, 14, \"Hello\", 5],\n",
    "        [0, 16, \"Hello\", 3], \n",
    "        [1, 23, \"Hello\", 5], \n",
    "        [0, 18, \"Hello\", 6], \n",
    "        [0, 21, \"Hello\", 2], \n",
    "        [1, 32, \"Hello\", 2]] \n",
    "\n",
    "dt = pd.DataFrame(data, columns = ['Gender', 'Age', 'Amount','Dependents']) "
   ]
  },
  {
   "cell_type": "code",
   "execution_count": null,
   "id": "a9d77aea-661f-4ee0-8b59-64718d384071",
   "metadata": {},
   "outputs": [],
   "source": [
    "df"
   ]
  },
  {
   "cell_type": "code",
   "execution_count": null,
   "id": "cb3e6d5b-2c60-4b3b-bfef-e7af979d3c01",
   "metadata": {},
   "outputs": [],
   "source": [
    "dt"
   ]
  },
  {
   "cell_type": "code",
   "execution_count": 142,
   "id": "d432d2b4-3537-4d45-b853-2962179b2d1d",
   "metadata": {},
   "outputs": [
    {
     "ename": "TypeError",
     "evalue": "data type 'category' not understood",
     "output_type": "error",
     "traceback": [
      "\u001b[1;31m---------------------------------------------------------------------------\u001b[0m",
      "\u001b[1;31mTypeError\u001b[0m                                 Traceback (most recent call last)",
      "\u001b[1;32m~\\AppData\\Local\\Temp/ipykernel_9668/1915730450.py\u001b[0m in \u001b[0;36m<module>\u001b[1;34m\u001b[0m\n\u001b[1;32m----> 1\u001b[1;33m \u001b[0mdf\u001b[0m\u001b[1;33m.\u001b[0m\u001b[0marticles\u001b[0m \u001b[1;33m=\u001b[0m \u001b[0mdf\u001b[0m\u001b[1;33m.\u001b[0m\u001b[0marticles\u001b[0m\u001b[1;33m.\u001b[0m\u001b[0mvalues\u001b[0m\u001b[1;33m.\u001b[0m\u001b[0mastype\u001b[0m\u001b[1;33m(\u001b[0m\u001b[1;34m'category'\u001b[0m\u001b[1;33m)\u001b[0m\u001b[1;33m\u001b[0m\u001b[1;33m\u001b[0m\u001b[0m\n\u001b[0m",
      "\u001b[1;31mTypeError\u001b[0m: data type 'category' not understood"
     ]
    }
   ],
   "source": [
    "df.articles = df.articles.values.astype('category')"
   ]
  },
  {
   "cell_type": "code",
   "execution_count": 141,
   "id": "45a05511-b0c3-49f4-8d01-4c8ff43e2d34",
   "metadata": {},
   "outputs": [
    {
     "name": "stdout",
     "output_type": "stream",
     "text": [
      "<class 'pandas.core.frame.DataFrame'>\n",
      "RangeIndex: 2341 entries, 0 to 2340\n",
      "Data columns (total 3 columns):\n",
      " #   Column       Non-Null Count  Dtype \n",
      "---  ------       --------------  ----- \n",
      " 0   category_id  2341 non-null   int64 \n",
      " 1   category     2341 non-null   object\n",
      " 2   articles     2341 non-null   object\n",
      "dtypes: int64(1), object(2)\n",
      "memory usage: 55.0+ KB\n"
     ]
    }
   ],
   "source": [
    "df.info()"
   ]
  },
  {
   "cell_type": "code",
   "execution_count": 138,
   "id": "02b8468a-f4d3-428a-aa73-a68cfad5d31c",
   "metadata": {},
   "outputs": [],
   "source": [
    "h = df[['category','articles']]"
   ]
  },
  {
   "cell_type": "code",
   "execution_count": 139,
   "id": "bfe3f049-992d-4bf4-9866-a5e6e979756b",
   "metadata": {},
   "outputs": [],
   "source": [
    "preprocess = ColumnTransformer(\n",
    "    [('name_countvec', CountVectorizer(), 'articles')],\n",
    "    remainder='passthrough')"
   ]
  },
  {
   "cell_type": "code",
   "execution_count": 140,
   "id": "c58ceea4-c57f-408c-9295-0bcd51d4ef3b",
   "metadata": {},
   "outputs": [
    {
     "ename": "ValueError",
     "evalue": "For a sparse output, all columns should be a numeric or convertible to a numeric.",
     "output_type": "error",
     "traceback": [
      "\u001b[1;31m---------------------------------------------------------------------------\u001b[0m",
      "\u001b[1;31mValueError\u001b[0m                                Traceback (most recent call last)",
      "\u001b[1;32mD:\\Project\\finalproject\\lib\\site-packages\\sklearn\\compose\\_column_transformer.py\u001b[0m in \u001b[0;36m_hstack\u001b[1;34m(self, Xs)\u001b[0m\n\u001b[0;32m    587\u001b[0m                 \u001b[1;31m# dtype conversion if necessary.\u001b[0m\u001b[1;33m\u001b[0m\u001b[1;33m\u001b[0m\u001b[1;33m\u001b[0m\u001b[0m\n\u001b[1;32m--> 588\u001b[1;33m                 converted_Xs = [check_array(X,\n\u001b[0m\u001b[0;32m    589\u001b[0m                                             \u001b[0maccept_sparse\u001b[0m\u001b[1;33m=\u001b[0m\u001b[1;32mTrue\u001b[0m\u001b[1;33m,\u001b[0m\u001b[1;33m\u001b[0m\u001b[1;33m\u001b[0m\u001b[0m\n",
      "\u001b[1;32mD:\\Project\\finalproject\\lib\\site-packages\\sklearn\\compose\\_column_transformer.py\u001b[0m in \u001b[0;36m<listcomp>\u001b[1;34m(.0)\u001b[0m\n\u001b[0;32m    587\u001b[0m                 \u001b[1;31m# dtype conversion if necessary.\u001b[0m\u001b[1;33m\u001b[0m\u001b[1;33m\u001b[0m\u001b[1;33m\u001b[0m\u001b[0m\n\u001b[1;32m--> 588\u001b[1;33m                 converted_Xs = [check_array(X,\n\u001b[0m\u001b[0;32m    589\u001b[0m                                             \u001b[0maccept_sparse\u001b[0m\u001b[1;33m=\u001b[0m\u001b[1;32mTrue\u001b[0m\u001b[1;33m,\u001b[0m\u001b[1;33m\u001b[0m\u001b[1;33m\u001b[0m\u001b[0m\n",
      "\u001b[1;32mD:\\Project\\finalproject\\lib\\site-packages\\sklearn\\utils\\validation.py\u001b[0m in \u001b[0;36minner_f\u001b[1;34m(*args, **kwargs)\u001b[0m\n\u001b[0;32m     62\u001b[0m             \u001b[1;32mif\u001b[0m \u001b[0mextra_args\u001b[0m \u001b[1;33m<=\u001b[0m \u001b[1;36m0\u001b[0m\u001b[1;33m:\u001b[0m\u001b[1;33m\u001b[0m\u001b[1;33m\u001b[0m\u001b[0m\n\u001b[1;32m---> 63\u001b[1;33m                 \u001b[1;32mreturn\u001b[0m \u001b[0mf\u001b[0m\u001b[1;33m(\u001b[0m\u001b[1;33m*\u001b[0m\u001b[0margs\u001b[0m\u001b[1;33m,\u001b[0m \u001b[1;33m**\u001b[0m\u001b[0mkwargs\u001b[0m\u001b[1;33m)\u001b[0m\u001b[1;33m\u001b[0m\u001b[1;33m\u001b[0m\u001b[0m\n\u001b[0m\u001b[0;32m     64\u001b[0m \u001b[1;33m\u001b[0m\u001b[0m\n",
      "\u001b[1;32mD:\\Project\\finalproject\\lib\\site-packages\\sklearn\\utils\\validation.py\u001b[0m in \u001b[0;36mcheck_array\u001b[1;34m(array, accept_sparse, accept_large_sparse, dtype, order, copy, force_all_finite, ensure_2d, allow_nd, ensure_min_samples, ensure_min_features, estimator)\u001b[0m\n\u001b[0;32m    672\u001b[0m                 \u001b[1;32melse\u001b[0m\u001b[1;33m:\u001b[0m\u001b[1;33m\u001b[0m\u001b[1;33m\u001b[0m\u001b[0m\n\u001b[1;32m--> 673\u001b[1;33m                     \u001b[0marray\u001b[0m \u001b[1;33m=\u001b[0m \u001b[0mnp\u001b[0m\u001b[1;33m.\u001b[0m\u001b[0masarray\u001b[0m\u001b[1;33m(\u001b[0m\u001b[0marray\u001b[0m\u001b[1;33m,\u001b[0m \u001b[0morder\u001b[0m\u001b[1;33m=\u001b[0m\u001b[0morder\u001b[0m\u001b[1;33m,\u001b[0m \u001b[0mdtype\u001b[0m\u001b[1;33m=\u001b[0m\u001b[0mdtype\u001b[0m\u001b[1;33m)\u001b[0m\u001b[1;33m\u001b[0m\u001b[1;33m\u001b[0m\u001b[0m\n\u001b[0m\u001b[0;32m    674\u001b[0m             \u001b[1;32mexcept\u001b[0m \u001b[0mComplexWarning\u001b[0m \u001b[1;32mas\u001b[0m \u001b[0mcomplex_warning\u001b[0m\u001b[1;33m:\u001b[0m\u001b[1;33m\u001b[0m\u001b[1;33m\u001b[0m\u001b[0m\n",
      "\u001b[1;32mD:\\Project\\finalproject\\lib\\site-packages\\pandas\\core\\generic.py\u001b[0m in \u001b[0;36m__array__\u001b[1;34m(self, dtype)\u001b[0m\n\u001b[0;32m   1992\u001b[0m     \u001b[1;32mdef\u001b[0m \u001b[0m__array__\u001b[0m\u001b[1;33m(\u001b[0m\u001b[0mself\u001b[0m\u001b[1;33m,\u001b[0m \u001b[0mdtype\u001b[0m\u001b[1;33m:\u001b[0m \u001b[0mNpDtype\u001b[0m \u001b[1;33m|\u001b[0m \u001b[1;32mNone\u001b[0m \u001b[1;33m=\u001b[0m \u001b[1;32mNone\u001b[0m\u001b[1;33m)\u001b[0m \u001b[1;33m->\u001b[0m \u001b[0mnp\u001b[0m\u001b[1;33m.\u001b[0m\u001b[0mndarray\u001b[0m\u001b[1;33m:\u001b[0m\u001b[1;33m\u001b[0m\u001b[1;33m\u001b[0m\u001b[0m\n\u001b[1;32m-> 1993\u001b[1;33m         \u001b[1;32mreturn\u001b[0m \u001b[0mnp\u001b[0m\u001b[1;33m.\u001b[0m\u001b[0masarray\u001b[0m\u001b[1;33m(\u001b[0m\u001b[0mself\u001b[0m\u001b[1;33m.\u001b[0m\u001b[0m_values\u001b[0m\u001b[1;33m,\u001b[0m \u001b[0mdtype\u001b[0m\u001b[1;33m=\u001b[0m\u001b[0mdtype\u001b[0m\u001b[1;33m)\u001b[0m\u001b[1;33m\u001b[0m\u001b[1;33m\u001b[0m\u001b[0m\n\u001b[0m\u001b[0;32m   1994\u001b[0m \u001b[1;33m\u001b[0m\u001b[0m\n",
      "\u001b[1;31mValueError\u001b[0m: could not convert string to float: 'opinion'",
      "\nThe above exception was the direct cause of the following exception:\n",
      "\u001b[1;31mValueError\u001b[0m                                Traceback (most recent call last)",
      "\u001b[1;32m~\\AppData\\Local\\Temp/ipykernel_9668/1844858995.py\u001b[0m in \u001b[0;36m<module>\u001b[1;34m\u001b[0m\n\u001b[1;32m----> 1\u001b[1;33m \u001b[0mgg\u001b[0m \u001b[1;33m=\u001b[0m \u001b[0mpreprocess\u001b[0m\u001b[1;33m.\u001b[0m\u001b[0mfit_transform\u001b[0m\u001b[1;33m(\u001b[0m\u001b[0mh\u001b[0m\u001b[1;33m)\u001b[0m\u001b[1;33m\u001b[0m\u001b[1;33m\u001b[0m\u001b[0m\n\u001b[0m",
      "\u001b[1;32mD:\\Project\\finalproject\\lib\\site-packages\\sklearn\\compose\\_column_transformer.py\u001b[0m in \u001b[0;36mfit_transform\u001b[1;34m(self, X, y)\u001b[0m\n\u001b[0;32m    527\u001b[0m         \u001b[0mself\u001b[0m\u001b[1;33m.\u001b[0m\u001b[0m_validate_output\u001b[0m\u001b[1;33m(\u001b[0m\u001b[0mXs\u001b[0m\u001b[1;33m)\u001b[0m\u001b[1;33m\u001b[0m\u001b[1;33m\u001b[0m\u001b[0m\n\u001b[0;32m    528\u001b[0m \u001b[1;33m\u001b[0m\u001b[0m\n\u001b[1;32m--> 529\u001b[1;33m         \u001b[1;32mreturn\u001b[0m \u001b[0mself\u001b[0m\u001b[1;33m.\u001b[0m\u001b[0m_hstack\u001b[0m\u001b[1;33m(\u001b[0m\u001b[0mlist\u001b[0m\u001b[1;33m(\u001b[0m\u001b[0mXs\u001b[0m\u001b[1;33m)\u001b[0m\u001b[1;33m)\u001b[0m\u001b[1;33m\u001b[0m\u001b[1;33m\u001b[0m\u001b[0m\n\u001b[0m\u001b[0;32m    530\u001b[0m \u001b[1;33m\u001b[0m\u001b[0m\n\u001b[0;32m    531\u001b[0m     \u001b[1;32mdef\u001b[0m \u001b[0mtransform\u001b[0m\u001b[1;33m(\u001b[0m\u001b[0mself\u001b[0m\u001b[1;33m,\u001b[0m \u001b[0mX\u001b[0m\u001b[1;33m)\u001b[0m\u001b[1;33m:\u001b[0m\u001b[1;33m\u001b[0m\u001b[1;33m\u001b[0m\u001b[0m\n",
      "\u001b[1;32mD:\\Project\\finalproject\\lib\\site-packages\\sklearn\\compose\\_column_transformer.py\u001b[0m in \u001b[0;36m_hstack\u001b[1;34m(self, Xs)\u001b[0m\n\u001b[0;32m    591\u001b[0m                                 for X in Xs]\n\u001b[0;32m    592\u001b[0m             \u001b[1;32mexcept\u001b[0m \u001b[0mValueError\u001b[0m \u001b[1;32mas\u001b[0m \u001b[0me\u001b[0m\u001b[1;33m:\u001b[0m\u001b[1;33m\u001b[0m\u001b[1;33m\u001b[0m\u001b[0m\n\u001b[1;32m--> 593\u001b[1;33m                 raise ValueError(\n\u001b[0m\u001b[0;32m    594\u001b[0m                     \u001b[1;34m\"For a sparse output, all columns should \"\u001b[0m\u001b[1;33m\u001b[0m\u001b[1;33m\u001b[0m\u001b[0m\n\u001b[0;32m    595\u001b[0m                     \u001b[1;34m\"be a numeric or convertible to a numeric.\"\u001b[0m\u001b[1;33m\u001b[0m\u001b[1;33m\u001b[0m\u001b[0m\n",
      "\u001b[1;31mValueError\u001b[0m: For a sparse output, all columns should be a numeric or convertible to a numeric."
     ]
    }
   ],
   "source": [
    "gg = preprocess.fit_transform(h)"
   ]
  },
  {
   "cell_type": "code",
   "execution_count": null,
   "id": "7cf30b7e-2ed0-43c0-a5a4-72906a8a5a10",
   "metadata": {},
   "outputs": [],
   "source": [
    "gg"
   ]
  },
  {
   "cell_type": "code",
   "execution_count": null,
   "id": "667eab6f-5793-4149-bda5-110ff6a8576a",
   "metadata": {},
   "outputs": [],
   "source": [
    "mtr"
   ]
  },
  {
   "cell_type": "code",
   "execution_count": null,
   "id": "a11f1546-0b11-4b40-84e5-843bf158385b",
   "metadata": {},
   "outputs": [],
   "source": [
    "transformer = make_column_transformer((CountVectorizer(),['Amount']),\n",
    "                                       remainder='passthrough')"
   ]
  },
  {
   "cell_type": "code",
   "execution_count": null,
   "id": "6fc8213b-6fbd-41a9-9d94-de0ae1f5dd24",
   "metadata": {},
   "outputs": [],
   "source": [
    "k = transformer.fit_transform(dt)"
   ]
  },
  {
   "cell_type": "code",
   "execution_count": null,
   "id": "5a825835-f5c3-4d8e-b9e7-e0c40c22154b",
   "metadata": {},
   "outputs": [],
   "source": [
    "k"
   ]
  },
  {
   "cell_type": "code",
   "execution_count": null,
   "id": "758e85c5-fc64-49b8-a3c9-421bc3ce02d9",
   "metadata": {},
   "outputs": [],
   "source": [
    "dt.info()"
   ]
  },
  {
   "cell_type": "code",
   "execution_count": null,
   "id": "c1bbf36d-6b25-4979-b7e1-eef3a1964ec2",
   "metadata": {},
   "outputs": [],
   "source": [
    "df.info()"
   ]
  },
  {
   "cell_type": "code",
   "execution_count": null,
   "id": "474b37aa-c1b9-42ec-9e1f-76b729d73e77",
   "metadata": {},
   "outputs": [],
   "source": []
  }
 ],
 "metadata": {
  "kernelspec": {
   "display_name": "finalproject",
   "language": "python",
   "name": "finalproject"
  },
  "language_info": {
   "codemirror_mode": {
    "name": "ipython",
    "version": 3
   },
   "file_extension": ".py",
   "mimetype": "text/x-python",
   "name": "python",
   "nbconvert_exporter": "python",
   "pygments_lexer": "ipython3",
   "version": "3.8.11"
  }
 },
 "nbformat": 4,
 "nbformat_minor": 5
}
