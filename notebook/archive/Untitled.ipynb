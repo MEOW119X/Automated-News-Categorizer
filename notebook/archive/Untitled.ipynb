{
 "cells": [
  {
   "cell_type": "code",
   "execution_count": 9,
   "id": "9ebfeec1-ba66-4604-b6b4-ddff1750147d",
   "metadata": {},
   "outputs": [
    {
     "name": "stdout",
     "output_type": "stream",
     "text": [
      "0\n"
     ]
    }
   ],
   "source": [
    "has_even = False\n",
    "idx = None\n",
    "arr = [ 1, 3, 5, 9, 11 ]\n",
    "p = 0\n",
    "check_even = lambda a: True if p == 0 else False\n",
    "for i in range(len(arr)):\n",
    "    if check_even(arr[i]):\n",
    "        has_even = True\n",
    "    idx = i\n",
    "    break\n",
    "    \n",
    "if has_even:\n",
    "    print(idx) \n",
    "else:\n",
    "    print(-1)"
   ]
  },
  {
   "cell_type": "code",
   "execution_count": 14,
   "id": "1c57727b-6e05-4410-b1f6-ebbf9117aacb",
   "metadata": {},
   "outputs": [],
   "source": [
    "multiply = lambda x : x * 2"
   ]
  },
  {
   "cell_type": "code",
   "execution_count": null,
   "id": "912aef18-841b-4d35-a46b-32523f63b8c0",
   "metadata": {},
   "outputs": [],
   "source": []
  },
  {
   "cell_type": "code",
   "execution_count": 20,
   "id": "3ef184ae-c658-42f0-acc5-6bec478bf465",
   "metadata": {},
   "outputs": [
    {
     "name": "stdout",
     "output_type": "stream",
     "text": [
      "0\n",
      "2\n",
      "4\n",
      "6\n",
      "8\n",
      "10\n",
      "12\n",
      "14\n",
      "16\n",
      "18\n",
      "20\n",
      "22\n",
      "24\n"
     ]
    }
   ],
   "source": [
    "for i in range(13):\n",
    "    print(multiply(i))"
   ]
  },
  {
   "cell_type": "code",
   "execution_count": null,
   "id": "e849b5c7-7ab6-4eda-871c-58a09d77b1f6",
   "metadata": {},
   "outputs": [],
   "source": []
  }
 ],
 "metadata": {
  "kernelspec": {
   "display_name": "finalproject",
   "language": "python",
   "name": "finalproject"
  },
  "language_info": {
   "codemirror_mode": {
    "name": "ipython",
    "version": 3
   },
   "file_extension": ".py",
   "mimetype": "text/x-python",
   "name": "python",
   "nbconvert_exporter": "python",
   "pygments_lexer": "ipython3",
   "version": "3.8.11"
  }
 },
 "nbformat": 4,
 "nbformat_minor": 5
}
