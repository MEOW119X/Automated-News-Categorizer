{
 "cells": [
  {
   "cell_type": "code",
   "execution_count": 25,
   "metadata": {},
   "outputs": [],
   "source": [
    "import pandas as pb"
   ]
  },
  {
   "cell_type": "code",
   "execution_count": 26,
   "metadata": {},
   "outputs": [],
   "source": [
    "url = pb.read_csv(r'X:\\Code\\Data\\Thesis Automated News Catagorizing\\virtualenvx\\Automated-News-Categorizer\\data\\raw\\url.csv')"
   ]
  },
  {
   "cell_type": "code",
   "execution_count": 27,
   "metadata": {},
   "outputs": [],
   "source": [
    "def extract_label(x):\n",
    "    '''To extract label in url'''\n",
    "    url[x] = url[x].str.replace(r'(https?:\\/\\/www.nytimes.com\\/(interactive)\\/\\d+\\/\\d+\\/\\d+\\/)','', regex=True)\n",
    "    url[x] = url[x].str.replace(r'(https?:\\/\\/www.nytimes.com\\/\\d+\\/\\d+\\/\\d+\\/)','', regex=True)\n",
    "    url[x] = url[x].str.replace(r'(https?:\\/\\/www.nytimes.com\\/(slideshow)\\/\\d+\\/\\d+\\/\\d+\\/)','', regex=True)\n",
    "    url[x] = url[x].str.replace(r'(https?:\\/\\/www.nytimes.com\\/(interactive)\\/\\d+\\/)','', regex=True)\n",
    "    url[x] = url[x].str.replace(r'(https?:\\/\\/www.nytimes.com\\/(video)\\/)','', regex=True)\n",
    "    url[x] = url[x].str.replace(r'(https?:\\/\\/www.nytimes.com\\/)','', regex=True)\n",
    "    url[x] = url[x].str.replace(r'(https?:\\/\\/brandedplaylist.nytimes.com\\/)','', regex=True)\n",
    "\n",
    "    url[x] = url[x].str.replace(r'((us)\\/)','', regex=True)\n",
    "    url[x] = url[x].str.replace(r'(\\/.+)','', regex=True)\n",
    "    url[x] = url[x].str.replace(r'\\s+','', regex=True)\n",
    "\n",
    "    url[x] = url[x].str.replace(r'(.+(.html))','us', regex=True)\n",
    "\n",
    "    return url.to_csv(r'X:\\Code\\Data\\Thesis Automated News Catagorizing\\virtualenvx\\Automated-News-Categorizer\\data\\cleaned\\label 2020.01.csv', index=False)"
   ]
  },
  {
   "cell_type": "code",
   "execution_count": 30,
   "metadata": {},
   "outputs": [],
   "source": [
    "extract_label('url')"
   ]
  },
  {
   "cell_type": "code",
   "execution_count": 31,
   "metadata": {},
   "outputs": [
    {
     "data": {
      "text/html": [
       "<div>\n",
       "<style scoped>\n",
       "    .dataframe tbody tr th:only-of-type {\n",
       "        vertical-align: middle;\n",
       "    }\n",
       "\n",
       "    .dataframe tbody tr th {\n",
       "        vertical-align: top;\n",
       "    }\n",
       "\n",
       "    .dataframe thead th {\n",
       "        text-align: right;\n",
       "    }\n",
       "</style>\n",
       "<table border=\"1\" class=\"dataframe\">\n",
       "  <thead>\n",
       "    <tr style=\"text-align: right;\">\n",
       "      <th></th>\n",
       "      <th>url</th>\n",
       "    </tr>\n",
       "  </thead>\n",
       "  <tbody>\n",
       "    <tr>\n",
       "      <th>0</th>\n",
       "      <td>us</td>\n",
       "    </tr>\n",
       "    <tr>\n",
       "      <th>1</th>\n",
       "      <td>opinion</td>\n",
       "    </tr>\n",
       "    <tr>\n",
       "      <th>2</th>\n",
       "      <td>health</td>\n",
       "    </tr>\n",
       "    <tr>\n",
       "      <th>3</th>\n",
       "      <td>crosswords</td>\n",
       "    </tr>\n",
       "    <tr>\n",
       "      <th>4</th>\n",
       "      <td>us</td>\n",
       "    </tr>\n",
       "    <tr>\n",
       "      <th>...</th>\n",
       "      <td>...</td>\n",
       "    </tr>\n",
       "    <tr>\n",
       "      <th>4475</th>\n",
       "      <td>sports</td>\n",
       "    </tr>\n",
       "    <tr>\n",
       "      <th>4476</th>\n",
       "      <td>sports</td>\n",
       "    </tr>\n",
       "    <tr>\n",
       "      <th>4477</th>\n",
       "      <td>health</td>\n",
       "    </tr>\n",
       "    <tr>\n",
       "      <th>4478</th>\n",
       "      <td>politics</td>\n",
       "    </tr>\n",
       "    <tr>\n",
       "      <th>4479</th>\n",
       "      <td>nyregion</td>\n",
       "    </tr>\n",
       "  </tbody>\n",
       "</table>\n",
       "<p>4480 rows × 1 columns</p>\n",
       "</div>"
      ],
      "text/plain": [
       "             url\n",
       "0             us\n",
       "1        opinion\n",
       "2         health\n",
       "3     crosswords\n",
       "4             us\n",
       "...          ...\n",
       "4475      sports\n",
       "4476      sports\n",
       "4477      health\n",
       "4478    politics\n",
       "4479    nyregion\n",
       "\n",
       "[4480 rows x 1 columns]"
      ]
     },
     "execution_count": 31,
     "metadata": {},
     "output_type": "execute_result"
    }
   ],
   "source": [
    "url"
   ]
  },
  {
   "cell_type": "markdown",
   "metadata": {},
   "source": [
    "url['politics'] = url['url'].str.extract(r'us/(politics)', expand=False).str.strip()\n",
    "url['family'] = url['url'].str.extract(r'well/(family)', expand=False).str.strip()\n",
    "url['move'] = url['url'].str.extract(r'well/(move)', expand=False).str.strip()\n",
    "url['live'] = url['url'].str.extract(r'well/(live)', expand=False).str.strip()\n",
    "url['eat'] = url['url'].str.extract(r'well/(eat)', expand=False).str.strip()"
   ]
  }
 ],
 "metadata": {
  "interpreter": {
   "hash": "0f9046a9b690ac07dcfca18d9b99f9ba021dc15ebaaae30ef07f00c2d8944cc8"
  },
  "kernelspec": {
   "display_name": "finalproject",
   "language": "python",
   "name": "python3"
  },
  "language_info": {
   "codemirror_mode": {
    "name": "ipython",
    "version": 3
   },
   "file_extension": ".py",
   "mimetype": "text/x-python",
   "name": "python",
   "nbconvert_exporter": "python",
   "pygments_lexer": "ipython3",
   "version": "3.9.10"
  }
 },
 "nbformat": 4,
 "nbformat_minor": 4
}
