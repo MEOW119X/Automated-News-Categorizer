{
 "cells": [
  {
   "cell_type": "code",
   "execution_count": 174,
   "metadata": {},
   "outputs": [],
   "source": [
    "import pandas as pb"
   ]
  },
  {
   "cell_type": "code",
   "execution_count": 175,
   "metadata": {},
   "outputs": [],
   "source": [
    "url = pb.read_csv(r'X:\\Code\\Data\\Thesis Automated News Catagorizing\\virtualenvx\\Automated-News-Categorizer\\data\\raw\\url.csv')"
   ]
  },
  {
   "cell_type": "code",
   "execution_count": 176,
   "metadata": {},
   "outputs": [
    {
     "name": "stderr",
     "output_type": "stream",
     "text": [
      "C:\\Users\\nihen\\AppData\\Local\\Temp/ipykernel_13104/211246370.py:1: FutureWarning: The default value of regex will change from True to False in a future version.\n",
      "  url['url'] = url['url'].str.replace('(https?:\\/\\/www.nytimes.com\\/\\d+\\/\\d+\\/\\d+\\/)','')\n",
      "C:\\Users\\nihen\\AppData\\Local\\Temp/ipykernel_13104/211246370.py:2: FutureWarning: The default value of regex will change from True to False in a future version.\n",
      "  url['url'] = url['url'].str.replace('(https?:\\/\\/www.nytimes.com\\/(interactive)\\/\\d+\\/\\d+\\/\\d+\\/)','')\n",
      "C:\\Users\\nihen\\AppData\\Local\\Temp/ipykernel_13104/211246370.py:3: FutureWarning: The default value of regex will change from True to False in a future version.\n",
      "  url['url'] = url['url'].str.replace('(https?:\\/\\/www.nytimes.com\\/(slideshow)\\/\\d+\\/\\d+\\/\\d+\\/)','')\n",
      "C:\\Users\\nihen\\AppData\\Local\\Temp/ipykernel_13104/211246370.py:4: FutureWarning: The default value of regex will change from True to False in a future version.\n",
      "  url['url'] = url['url'].str.replace('(https?:\\/\\/www.nytimes.com\\/(interactive)\\/\\d+\\/)','')\n",
      "C:\\Users\\nihen\\AppData\\Local\\Temp/ipykernel_13104/211246370.py:5: FutureWarning: The default value of regex will change from True to False in a future version.\n",
      "  url['url'] = url['url'].str.replace('(https?:\\/\\/www.nytimes.com\\/(video)\\/)','')\n",
      "C:\\Users\\nihen\\AppData\\Local\\Temp/ipykernel_13104/211246370.py:6: FutureWarning: The default value of regex will change from True to False in a future version.\n",
      "  url['url'] = url['url'].str.replace('(https?:\\/\\/www.nytimes.com\\/)','')\n",
      "C:\\Users\\nihen\\AppData\\Local\\Temp/ipykernel_13104/211246370.py:7: FutureWarning: The default value of regex will change from True to False in a future version.\n",
      "  url['url'] = url['url'].str.replace('(https?:\\/\\/brandedplaylist.nytimes.com\\/)','')\n"
     ]
    }
   ],
   "source": [
    "url['url'] = url['url'].str.replace('(https?:\\/\\/www.nytimes.com\\/\\d+\\/\\d+\\/\\d+\\/)','')\n",
    "url['url'] = url['url'].str.replace('(https?:\\/\\/www.nytimes.com\\/(interactive)\\/\\d+\\/\\d+\\/\\d+\\/)','')\n",
    "url['url'] = url['url'].str.replace('(https?:\\/\\/www.nytimes.com\\/(slideshow)\\/\\d+\\/\\d+\\/\\d+\\/)','')\n",
    "url['url'] = url['url'].str.replace('(https?:\\/\\/www.nytimes.com\\/(interactive)\\/\\d+\\/)','')\n",
    "url['url'] = url['url'].str.replace('(https?:\\/\\/www.nytimes.com\\/(video)\\/)','')\n",
    "url['url'] = url['url'].str.replace('(https?:\\/\\/www.nytimes.com\\/)','')\n",
    "url['url'] = url['url'].str.replace('(https?:\\/\\/brandedplaylist.nytimes.com\\/)','')"
   ]
  },
  {
   "cell_type": "code",
   "execution_count": 177,
   "metadata": {},
   "outputs": [
    {
     "name": "stderr",
     "output_type": "stream",
     "text": [
      "C:\\Users\\nihen\\AppData\\Local\\Temp/ipykernel_13104/632342723.py:1: FutureWarning: The default value of regex will change from True to False in a future version.\n",
      "  url['url'] = url['url'].str.replace('(\\/.+)','')\n"
     ]
    }
   ],
   "source": [
    "url['url'] = url['url'].str.replace('(\\/.+)','')"
   ]
  },
  {
   "cell_type": "code",
   "execution_count": 178,
   "metadata": {},
   "outputs": [
    {
     "data": {
      "text/plain": [
       "0                us\n",
       "1           opinion\n",
       "2            health\n",
       "3        crosswords\n",
       "4       pageoneplus\n",
       "           ...     \n",
       "4475         sports\n",
       "4476         sports\n",
       "4477         health\n",
       "4478             us\n",
       "4479       nyregion\n",
       "Name: url, Length: 4480, dtype: object"
      ]
     },
     "execution_count": 178,
     "metadata": {},
     "output_type": "execute_result"
    }
   ],
   "source": [
    "url['url']"
   ]
  },
  {
   "cell_type": "markdown",
   "metadata": {},
   "source": [
    "url['url'].to_csv(r'X:\\Code\\Data\\Thesis Automated News Catagorizing\\virtualenvx\\Automated-News-Categorizer\\data\\cleaned\\label 2020.01.csv')"
   ]
  }
 ],
 "metadata": {
  "interpreter": {
   "hash": "0f9046a9b690ac07dcfca18d9b99f9ba021dc15ebaaae30ef07f00c2d8944cc8"
  },
  "kernelspec": {
   "display_name": "Python 3.9.10 64-bit ('virtualenvx': venv)",
   "language": "python",
   "name": "python3"
  },
  "language_info": {
   "codemirror_mode": {
    "name": "ipython",
    "version": 3
   },
   "file_extension": ".py",
   "mimetype": "text/x-python",
   "name": "python",
   "nbconvert_exporter": "python",
   "pygments_lexer": "ipython3",
   "version": "3.9.10"
  },
  "orig_nbformat": 4
 },
 "nbformat": 4,
 "nbformat_minor": 2
}
