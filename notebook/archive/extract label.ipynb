{
 "cells": [
  {
   "cell_type": "code",
   "execution_count": 450,
   "metadata": {},
   "outputs": [],
   "source": [
    "import pandas as pb"
   ]
  },
  {
   "cell_type": "code",
   "execution_count": 451,
   "metadata": {},
   "outputs": [],
   "source": [
    "url = pb.read_csv(r'X:\\Code\\Data\\Thesis Automated News Catagorizing\\virtualenvx\\Automated-News-Categorizer\\data\\raw\\url.csv')"
   ]
  },
  {
   "cell_type": "code",
   "execution_count": 452,
   "metadata": {},
   "outputs": [],
   "source": [
    "url['url'] = url['url'].str.replace(r'(https?:\\/\\/www.nytimes.com\\/(interactive)\\/\\d+\\/\\d+\\/\\d+\\/)','', regex=True)\n",
    "url['url'] = url['url'].str.replace(r'(https?:\\/\\/www.nytimes.com\\/\\d+\\/\\d+\\/\\d+\\/)','', regex=True)\n",
    "url['url'] = url['url'].str.replace(r'(https?:\\/\\/www.nytimes.com\\/(slideshow)\\/\\d+\\/\\d+\\/\\d+\\/)','', regex=True)\n",
    "url['url'] = url['url'].str.replace(r'(https?:\\/\\/www.nytimes.com\\/(interactive)\\/\\d+\\/)','', regex=True)\n",
    "url['url'] = url['url'].str.replace(r'(https?:\\/\\/www.nytimes.com\\/(video)\\/)','', regex=True)\n",
    "url['url'] = url['url'].str.replace(r'(https?:\\/\\/www.nytimes.com\\/)','', regex=True)\n",
    "url['url'] = url['url'].str.replace(r'(https?:\\/\\/brandedplaylist.nytimes.com\\/)','', regex=True)"
   ]
  },
  {
   "cell_type": "code",
   "execution_count": 453,
   "metadata": {},
   "outputs": [],
   "source": [
    "url['url'] = url['url'].str.replace(r'(\\/.+)','', regex=True)\n",
    "url['url'] = url['url'].str.replace(r'\\s+','', regex=True)"
   ]
  },
  {
   "cell_type": "code",
   "execution_count": 454,
   "metadata": {},
   "outputs": [
    {
     "data": {
      "text/plain": [
       "0                us\n",
       "1           opinion\n",
       "2            health\n",
       "3        crosswords\n",
       "4       pageoneplus\n",
       "           ...     \n",
       "4475         sports\n",
       "4476         sports\n",
       "4477         health\n",
       "4478             us\n",
       "4479       nyregion\n",
       "Name: url, Length: 4480, dtype: object"
      ]
     },
     "execution_count": 454,
     "metadata": {},
     "output_type": "execute_result"
    }
   ],
   "source": [
    "url['url']"
   ]
  },
  {
   "cell_type": "markdown",
   "metadata": {},
   "source": [
    "url['url'].to_csv(r'X:\\Code\\Data\\Thesis Automated News Catagorizing\\virtualenvx\\Automated-News-Categorizer\\data\\cleaned\\label 2020.01.csv')"
   ]
  }
 ],
 "metadata": {
  "interpreter": {
   "hash": "0f9046a9b690ac07dcfca18d9b99f9ba021dc15ebaaae30ef07f00c2d8944cc8"
  },
  "kernelspec": {
   "display_name": "Python 3",
   "language": "python",
   "name": "python3"
  },
  "language_info": {
   "codemirror_mode": {
    "name": "ipython",
    "version": 3
   },
   "file_extension": ".py",
   "mimetype": "text/x-python",
   "name": "python",
   "nbconvert_exporter": "python",
   "pygments_lexer": "ipython3",
   "version": "3.8.11"
  }
 },
 "nbformat": 4,
 "nbformat_minor": 4
}
