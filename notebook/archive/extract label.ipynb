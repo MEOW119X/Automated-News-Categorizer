{
 "cells": [
  {
   "cell_type": "code",
   "execution_count": 74,
   "metadata": {},
   "outputs": [],
   "source": [
    "import pandas as pb"
   ]
  },
  {
   "cell_type": "code",
   "execution_count": 75,
   "metadata": {},
   "outputs": [],
   "source": [
    "url = pb.read_csv(r'X:\\Code\\Data\\Thesis Automated News Catagorizing\\virtualenvx\\Automated-News-Categorizer\\data\\raw\\url.csv')"
   ]
  },
  {
   "cell_type": "code",
   "execution_count": 76,
   "metadata": {},
   "outputs": [],
   "source": [
    "url['url'] = url['url'].str.replace(r'(https?:\\/\\/www.nytimes.com\\/(interactive)\\/\\d+\\/\\d+\\/\\d+\\/)','', regex=True)\n",
    "url['url'] = url['url'].str.replace(r'(https?:\\/\\/www.nytimes.com\\/\\d+\\/\\d+\\/\\d+\\/)','', regex=True)\n",
    "url['url'] = url['url'].str.replace(r'(https?:\\/\\/www.nytimes.com\\/(slideshow)\\/\\d+\\/\\d+\\/\\d+\\/)','', regex=True)\n",
    "url['url'] = url['url'].str.replace(r'(https?:\\/\\/www.nytimes.com\\/(interactive)\\/\\d+\\/)','', regex=True)\n",
    "url['url'] = url['url'].str.replace(r'(https?:\\/\\/www.nytimes.com\\/(video)\\/)','', regex=True)\n",
    "url['url'] = url['url'].str.replace(r'(https?:\\/\\/www.nytimes.com\\/)','', regex=True)\n",
    "url['url'] = url['url'].str.replace(r'(https?:\\/\\/brandedplaylist.nytimes.com\\/)','', regex=True)"
   ]
  },
  {
   "cell_type": "code",
   "execution_count": 77,
   "metadata": {},
   "outputs": [],
   "source": [
    "url['politics'] = url['url'].str.extract(r'us/(politics)', expand=False).str.strip()\n",
    "url['family'] = url['url'].str.extract(r'well/(family)', expand=False).str.strip()\n",
    "url['move'] = url['url'].str.extract(r'well/(move)', expand=False).str.strip()\n",
    "url['live'] = url['url'].str.extract(r'well/(live)', expand=False).str.strip()\n",
    "url['eat'] = url['url'].str.extract(r'well/(eat)', expand=False).str.strip()"
   ]
  },
  {
   "cell_type": "code",
   "execution_count": 78,
   "metadata": {},
   "outputs": [],
   "source": [
    "url['url'] = url['url'].str.replace(r'(\\/.+)','', regex=True)\n",
    "url['url'] = url['url'].str.replace(r'\\s+','', regex=True)"
   ]
  },
  {
   "cell_type": "code",
   "execution_count": 79,
   "metadata": {},
   "outputs": [
    {
     "data": {
      "text/html": [
       "<div>\n",
       "<style scoped>\n",
       "    .dataframe tbody tr th:only-of-type {\n",
       "        vertical-align: middle;\n",
       "    }\n",
       "\n",
       "    .dataframe tbody tr th {\n",
       "        vertical-align: top;\n",
       "    }\n",
       "\n",
       "    .dataframe thead th {\n",
       "        text-align: right;\n",
       "    }\n",
       "</style>\n",
       "<table border=\"1\" class=\"dataframe\">\n",
       "  <thead>\n",
       "    <tr style=\"text-align: right;\">\n",
       "      <th></th>\n",
       "      <th>url</th>\n",
       "      <th>politics</th>\n",
       "      <th>family</th>\n",
       "      <th>move</th>\n",
       "      <th>live</th>\n",
       "      <th>eat</th>\n",
       "    </tr>\n",
       "  </thead>\n",
       "  <tbody>\n",
       "    <tr>\n",
       "      <th>0</th>\n",
       "      <td>us</td>\n",
       "      <td>NaN</td>\n",
       "      <td>NaN</td>\n",
       "      <td>NaN</td>\n",
       "      <td>NaN</td>\n",
       "      <td>NaN</td>\n",
       "    </tr>\n",
       "    <tr>\n",
       "      <th>1</th>\n",
       "      <td>opinion</td>\n",
       "      <td>NaN</td>\n",
       "      <td>NaN</td>\n",
       "      <td>NaN</td>\n",
       "      <td>NaN</td>\n",
       "      <td>NaN</td>\n",
       "    </tr>\n",
       "    <tr>\n",
       "      <th>2</th>\n",
       "      <td>health</td>\n",
       "      <td>NaN</td>\n",
       "      <td>NaN</td>\n",
       "      <td>NaN</td>\n",
       "      <td>NaN</td>\n",
       "      <td>NaN</td>\n",
       "    </tr>\n",
       "    <tr>\n",
       "      <th>3</th>\n",
       "      <td>crosswords</td>\n",
       "      <td>NaN</td>\n",
       "      <td>NaN</td>\n",
       "      <td>NaN</td>\n",
       "      <td>NaN</td>\n",
       "      <td>NaN</td>\n",
       "    </tr>\n",
       "    <tr>\n",
       "      <th>4</th>\n",
       "      <td>pageoneplus</td>\n",
       "      <td>NaN</td>\n",
       "      <td>NaN</td>\n",
       "      <td>NaN</td>\n",
       "      <td>NaN</td>\n",
       "      <td>NaN</td>\n",
       "    </tr>\n",
       "    <tr>\n",
       "      <th>...</th>\n",
       "      <td>...</td>\n",
       "      <td>...</td>\n",
       "      <td>...</td>\n",
       "      <td>...</td>\n",
       "      <td>...</td>\n",
       "      <td>...</td>\n",
       "    </tr>\n",
       "    <tr>\n",
       "      <th>4475</th>\n",
       "      <td>sports</td>\n",
       "      <td>NaN</td>\n",
       "      <td>NaN</td>\n",
       "      <td>NaN</td>\n",
       "      <td>NaN</td>\n",
       "      <td>NaN</td>\n",
       "    </tr>\n",
       "    <tr>\n",
       "      <th>4476</th>\n",
       "      <td>sports</td>\n",
       "      <td>NaN</td>\n",
       "      <td>NaN</td>\n",
       "      <td>NaN</td>\n",
       "      <td>NaN</td>\n",
       "      <td>NaN</td>\n",
       "    </tr>\n",
       "    <tr>\n",
       "      <th>4477</th>\n",
       "      <td>health</td>\n",
       "      <td>NaN</td>\n",
       "      <td>NaN</td>\n",
       "      <td>NaN</td>\n",
       "      <td>NaN</td>\n",
       "      <td>NaN</td>\n",
       "    </tr>\n",
       "    <tr>\n",
       "      <th>4478</th>\n",
       "      <td>us</td>\n",
       "      <td>politics</td>\n",
       "      <td>NaN</td>\n",
       "      <td>NaN</td>\n",
       "      <td>NaN</td>\n",
       "      <td>NaN</td>\n",
       "    </tr>\n",
       "    <tr>\n",
       "      <th>4479</th>\n",
       "      <td>nyregion</td>\n",
       "      <td>NaN</td>\n",
       "      <td>NaN</td>\n",
       "      <td>NaN</td>\n",
       "      <td>NaN</td>\n",
       "      <td>NaN</td>\n",
       "    </tr>\n",
       "  </tbody>\n",
       "</table>\n",
       "<p>4480 rows × 6 columns</p>\n",
       "</div>"
      ],
      "text/plain": [
       "              url  politics family move live  eat\n",
       "0              us       NaN    NaN  NaN  NaN  NaN\n",
       "1         opinion       NaN    NaN  NaN  NaN  NaN\n",
       "2          health       NaN    NaN  NaN  NaN  NaN\n",
       "3      crosswords       NaN    NaN  NaN  NaN  NaN\n",
       "4     pageoneplus       NaN    NaN  NaN  NaN  NaN\n",
       "...           ...       ...    ...  ...  ...  ...\n",
       "4475       sports       NaN    NaN  NaN  NaN  NaN\n",
       "4476       sports       NaN    NaN  NaN  NaN  NaN\n",
       "4477       health       NaN    NaN  NaN  NaN  NaN\n",
       "4478           us  politics    NaN  NaN  NaN  NaN\n",
       "4479     nyregion       NaN    NaN  NaN  NaN  NaN\n",
       "\n",
       "[4480 rows x 6 columns]"
      ]
     },
     "execution_count": 79,
     "metadata": {},
     "output_type": "execute_result"
    }
   ],
   "source": [
    "url"
   ]
  },
  {
   "cell_type": "code",
   "execution_count": 80,
   "metadata": {},
   "outputs": [],
   "source": [
    "url.to_csv(r'X:\\Code\\Data\\Thesis Automated News Catagorizing\\virtualenvx\\Automated-News-Categorizer\\data\\cleaned\\label 2020.01.csv', index=False)"
   ]
  }
 ],
 "metadata": {
  "interpreter": {
   "hash": "0f9046a9b690ac07dcfca18d9b99f9ba021dc15ebaaae30ef07f00c2d8944cc8"
  },
  "kernelspec": {
   "display_name": "finalproject",
   "language": "python",
   "name": "finalproject"
  },
  "language_info": {
   "codemirror_mode": {
    "name": "ipython",
    "version": 3
   },
   "file_extension": ".py",
   "mimetype": "text/x-python",
   "name": "python",
   "nbconvert_exporter": "python",
   "pygments_lexer": "ipython3",
   "version": "3.8.11"
  }
 },
 "nbformat": 4,
 "nbformat_minor": 4
}
