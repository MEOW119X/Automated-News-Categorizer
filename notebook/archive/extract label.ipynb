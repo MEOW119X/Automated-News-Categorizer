{
 "cells": [
  {
   "cell_type": "code",
   "execution_count": 3,
   "metadata": {},
   "outputs": [],
   "source": [
    "import pandas as pb"
   ]
  },
  {
   "cell_type": "code",
   "execution_count": 11,
   "metadata": {},
   "outputs": [],
   "source": [
    "url = pb.read_csv(r'X:\\Code\\Data\\Thesis Automated News Catagorizing\\virtualenvx\\Automated-News-Categorizer\\notebook\\archive\\xx.csv')\n",
    "url_label = url['url']"
   ]
  },
  {
   "cell_type": "code",
   "execution_count": 12,
   "metadata": {},
   "outputs": [
    {
     "data": {
      "text/plain": [
       "0       https://www.nytimes.com/2019/12/31/us/texas-ch...\n",
       "1       https://www.nytimes.com/2019/12/31/opinion/for...\n",
       "2       https://www.nytimes.com/2019/12/31/health/e-ci...\n",
       "3       https://www.nytimes.com/2019/12/31/crosswords/...\n",
       "4       https://www.nytimes.com/2019/12/31/pageoneplus...\n",
       "                              ...                        \n",
       "4475    https://www.nytimes.com/2020/01/31/sports/bask...\n",
       "4476    https://www.nytimes.com/2020/01/31/sports/olym...\n",
       "4477    https://www.nytimes.com/2020/01/31/health/cpr-...\n",
       "4478    https://www.nytimes.com/video/us/politics/1000...\n",
       "4479    https://www.nytimes.com/2020/01/31/nyregion/pr...\n",
       "Name: url, Length: 4480, dtype: object"
      ]
     },
     "execution_count": 12,
     "metadata": {},
     "output_type": "execute_result"
    }
   ],
   "source": [
    "url_label"
   ]
  }
 ],
 "metadata": {
  "interpreter": {
   "hash": "0f9046a9b690ac07dcfca18d9b99f9ba021dc15ebaaae30ef07f00c2d8944cc8"
  },
  "kernelspec": {
   "display_name": "Python 3.9.10 64-bit ('virtualenvx': venv)",
   "language": "python",
   "name": "python3"
  },
  "language_info": {
   "codemirror_mode": {
    "name": "ipython",
    "version": 3
   },
   "file_extension": ".py",
   "mimetype": "text/x-python",
   "name": "python",
   "nbconvert_exporter": "python",
   "pygments_lexer": "ipython3",
   "version": "3.9.10"
  },
  "orig_nbformat": 4
 },
 "nbformat": 4,
 "nbformat_minor": 2
}
