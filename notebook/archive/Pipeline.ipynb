{
 "cells": [
  {
   "cell_type": "code",
   "execution_count": 34,
   "id": "abe3ebeb-82dc-4c75-9a22-6ed06fbaeea1",
   "metadata": {},
   "outputs": [],
   "source": [
    "import pandas as pd\n",
    "from sklearn.compose import ColumnTransformer\n",
    "import numpy as np \n",
    "from sklearn.ensemble import RandomForestClassifier\n",
    "from sklearn.model_selection import cross_val_score"
   ]
  },
  {
   "cell_type": "code",
   "execution_count": 35,
   "id": "4bded5c1-5c2d-4a4e-832a-8d52b258bb94",
   "metadata": {},
   "outputs": [],
   "source": [
    "df = pd.read_csv('../data/cleaned/final-cleaned.csv')"
   ]
  },
  {
   "cell_type": "code",
   "execution_count": 36,
   "id": "994ba2d5-6a9f-40ac-ba89-b44008932474",
   "metadata": {},
   "outputs": [],
   "source": [
    "df.articles = df.articles.astype('U')"
   ]
  },
  {
   "cell_type": "code",
   "execution_count": 37,
   "id": "0f213948-404e-4793-8618-faa1133ba1df",
   "metadata": {},
   "outputs": [],
   "source": [
    "from sklearn.feature_extraction.text import CountVectorizer\n",
    "from sklearn.model_selection import train_test_split"
   ]
  },
  {
   "cell_type": "code",
   "execution_count": 38,
   "id": "485b3bf7-4d62-412a-aea6-f2e4e2f126d7",
   "metadata": {},
   "outputs": [],
   "source": [
    "y = np.array(df.category_id.values)"
   ]
  },
  {
   "cell_type": "code",
   "execution_count": 39,
   "id": "9a319f9b-8303-4369-bac4-6fa594c978d6",
   "metadata": {},
   "outputs": [],
   "source": [
    "X = df[['category', 'articles']]"
   ]
  },
  {
   "cell_type": "code",
   "execution_count": 40,
   "id": "1341fa40-1be5-42f0-b43c-baca201fff3f",
   "metadata": {},
   "outputs": [
    {
     "data": {
      "text/html": [
       "<div><div id=0401fe19-689f-4c2d-9988-4b458f6df784 style=\"display:none; background-color:#9D6CFF; color:white; width:200px; height:30px; padding-left:5px; border-radius:4px; flex-direction:row; justify-content:space-around; align-items:center;\" onmouseover=\"this.style.backgroundColor='#BA9BF8'\" onmouseout=\"this.style.backgroundColor='#9D6CFF'\" onclick=\"window.commands?.execute('create-mitosheet-from-dataframe-output');\">See Full Dataframe in Mito</div> <script> if (window.commands.hasCommand('create-mitosheet-from-dataframe-output')) document.getElementById('0401fe19-689f-4c2d-9988-4b458f6df784').style.display = 'flex' </script> <table border=\"1\" class=\"dataframe\">\n",
       "  <thead>\n",
       "    <tr style=\"text-align: right;\">\n",
       "      <th></th>\n",
       "      <th>category</th>\n",
       "      <th>articles</th>\n",
       "    </tr>\n",
       "  </thead>\n",
       "  <tbody>\n",
       "    <tr>\n",
       "      <th>0</th>\n",
       "      <td>opinion</td>\n",
       "      <td>congress  much protect american served country predatory profit college</td>\n",
       "    </tr>\n",
       "    <tr>\n",
       "      <th>1</th>\n",
       "      <td>world</td>\n",
       "      <td>attack civilian site syria grown frequent u n launch rare inquiry document violation investigation limit scope final report  make public new york time inves</td>\n",
       "    </tr>\n",
       "    <tr>\n",
       "      <th>2</th>\n",
       "      <td>world</td>\n",
       "      <td>week relative calm end wednesday people march large number police deploy  gas pepper spray</td>\n",
       "    </tr>\n",
       "    <tr>\n",
       "      <th>3</th>\n",
       "      <td>politics</td>\n",
       "      <td>president monitor middle east crisis golf club threaten iran implored reporter honorable</td>\n",
       "    </tr>\n",
       "    <tr>\n",
       "      <th>4</th>\n",
       "      <td>arts</td>\n",
       "      <td>linda ronstadt sound voice air cnn new season doctor kick bbc america</td>\n",
       "    </tr>\n",
       "    <tr>\n",
       "      <th>...</th>\n",
       "      <td>...</td>\n",
       "      <td>...</td>\n",
       "    </tr>\n",
       "    <tr>\n",
       "      <th>2336</th>\n",
       "      <td>business</td>\n",
       "      <td>former bos premium cable network talk former vice medium executive making documentary</td>\n",
       "    </tr>\n",
       "    <tr>\n",
       "      <th>2337</th>\n",
       "      <td>politics</td>\n",
       "      <td>lobby president washington hotel supporter remain unwavering business remain brisk</td>\n",
       "    </tr>\n",
       "    <tr>\n",
       "      <th>2338</th>\n",
       "      <td>sports</td>\n",
       "      <td>lakers first game  bryant daughter gianna die helicopter crash sunday lebron james give heartfelt speech game</td>\n",
       "    </tr>\n",
       "    <tr>\n",
       "      <th>2339</th>\n",
       "      <td>sports</td>\n",
       "      <td>famed run coach already bar sport  year dope violation temporarily ban u center safesport action  produce lifetime ban</td>\n",
       "    </tr>\n",
       "    <tr>\n",
       "      <th>2340</th>\n",
       "      <td>politics</td>\n",
       "      <td>senator reject call additional witness president trump impeachment trial deal fatal blow effort democrat bring new evidence</td>\n",
       "    </tr>\n",
       "  </tbody>\n",
       "</table></div>"
      ],
      "text/plain": [
       "      category                                           articles\n",
       "0      opinion  congress  much protect american served country...\n",
       "1        world  attack civilian site syria grown frequent u n ...\n",
       "2        world  week relative calm end wednesday people march ...\n",
       "3     politics  president monitor middle east crisis golf club...\n",
       "4         arts  linda ronstadt sound voice air cnn new season ...\n",
       "...        ...                                                ...\n",
       "2336  business  former bos premium cable network talk former v...\n",
       "2337  politics  lobby president washington hotel supporter rem...\n",
       "2338    sports  lakers first game  bryant daughter gianna die ...\n",
       "2339    sports  famed run coach already bar sport  year dope v...\n",
       "2340  politics  senator reject call additional witness preside...\n",
       "\n",
       "[2341 rows x 2 columns]"
      ]
     },
     "execution_count": 40,
     "metadata": {},
     "output_type": "execute_result"
    }
   ],
   "source": [
    "X"
   ]
  },
  {
   "cell_type": "code",
   "execution_count": 41,
   "id": "5b578001-cd12-4290-a577-c0244bd55689",
   "metadata": {},
   "outputs": [],
   "source": [
    "cv = CountVectorizer(max_features = 5000)"
   ]
  },
  {
   "cell_type": "code",
   "execution_count": 42,
   "id": "4403f9ee-c998-4bc7-9534-f8d1f7c795fd",
   "metadata": {},
   "outputs": [],
   "source": [
    "preprocess = ColumnTransformer(\n",
    "    remainder='drop',\n",
    "    transformers=[('cvec', cv, 'articles')],\n",
    ")"
   ]
  },
  {
   "cell_type": "code",
   "execution_count": 43,
   "id": "d75b8f6a-df38-4a5b-9cc6-248de09d7116",
   "metadata": {},
   "outputs": [
    {
     "data": {
      "text/plain": [
       "ColumnTransformer(transformers=[('cvec', CountVectorizer(max_features=5000),\n",
       "                                 'articles')])"
      ]
     },
     "execution_count": 43,
     "metadata": {},
     "output_type": "execute_result"
    }
   ],
   "source": [
    "preprocess"
   ]
  },
  {
   "cell_type": "code",
   "execution_count": 44,
   "id": "34d49bb5-3a4a-45a0-a423-ca6705f187f4",
   "metadata": {},
   "outputs": [],
   "source": [
    "f = preprocess.fit_transform(X)"
   ]
  },
  {
   "cell_type": "code",
   "execution_count": 45,
   "id": "5c5b00a7-5e4a-4f15-998b-1c23346ba0d3",
   "metadata": {},
   "outputs": [
    {
     "data": {
      "text/plain": [
       "scipy.sparse._csr.csr_matrix"
      ]
     },
     "execution_count": 45,
     "metadata": {},
     "output_type": "execute_result"
    }
   ],
   "source": [
    "type(f)"
   ]
  },
  {
   "cell_type": "code",
   "execution_count": 46,
   "id": "8e85852e-0bb8-45aa-8425-3cead963f512",
   "metadata": {},
   "outputs": [
    {
     "data": {
      "text/plain": [
       "array([[0, 0, 0, ..., 0, 0, 0],\n",
       "       [0, 0, 0, ..., 0, 0, 0],\n",
       "       [0, 0, 0, ..., 0, 0, 0],\n",
       "       ...,\n",
       "       [0, 0, 0, ..., 0, 0, 0],\n",
       "       [0, 0, 0, ..., 0, 0, 0],\n",
       "       [0, 0, 0, ..., 0, 0, 0]], dtype=int64)"
      ]
     },
     "execution_count": 46,
     "metadata": {},
     "output_type": "execute_result"
    }
   ],
   "source": [
    "f.toarray()"
   ]
  },
  {
   "cell_type": "code",
   "execution_count": 47,
   "id": "cfd2702d-2f7d-4e9a-b527-56688bb719f8",
   "metadata": {},
   "outputs": [],
   "source": [
    "X = pd.DataFrame(f.toarray(),columns=preprocess.get_feature_names())"
   ]
  },
  {
   "cell_type": "code",
   "execution_count": 48,
   "id": "b2061c60-cecd-4461-ba15-bce9061c4114",
   "metadata": {},
   "outputs": [
    {
     "data": {
      "text/html": [
       "<div><div id=258cc3ce-0853-4217-af52-2e311d409a65 style=\"display:none; background-color:#9D6CFF; color:white; width:200px; height:30px; padding-left:5px; border-radius:4px; flex-direction:row; justify-content:space-around; align-items:center;\" onmouseover=\"this.style.backgroundColor='#BA9BF8'\" onmouseout=\"this.style.backgroundColor='#9D6CFF'\" onclick=\"window.commands?.execute('create-mitosheet-from-dataframe-output');\">See Full Dataframe in Mito</div> <script> if (window.commands.hasCommand('create-mitosheet-from-dataframe-output')) document.getElementById('258cc3ce-0853-4217-af52-2e311d409a65').style.display = 'flex' </script> <table border=\"1\" class=\"dataframe\">\n",
       "  <thead>\n",
       "    <tr style=\"text-align: right;\">\n",
       "      <th></th>\n",
       "      <th>cvec__21st</th>\n",
       "      <th>cvec__49ers</th>\n",
       "      <th>cvec__50th</th>\n",
       "      <th>cvec__aaron</th>\n",
       "      <th>cvec__abandon</th>\n",
       "      <th>cvec__abbas</th>\n",
       "      <th>cvec__abbott</th>\n",
       "      <th>cvec__abc</th>\n",
       "      <th>cvec__abdicate</th>\n",
       "      <th>cvec__abdul</th>\n",
       "      <th>...</th>\n",
       "      <th>cvec__zephyr</th>\n",
       "      <th>cvec__zhao</th>\n",
       "      <th>cvec__zindani</th>\n",
       "      <th>cvec__zion</th>\n",
       "      <th>cvec__zionism</th>\n",
       "      <th>cvec__zoey</th>\n",
       "      <th>cvec__zone</th>\n",
       "      <th>cvec__zoning</th>\n",
       "      <th>cvec__zuberi</th>\n",
       "      <th>cvec__zverev</th>\n",
       "    </tr>\n",
       "  </thead>\n",
       "  <tbody>\n",
       "    <tr>\n",
       "      <th>0</th>\n",
       "      <td>0</td>\n",
       "      <td>0</td>\n",
       "      <td>0</td>\n",
       "      <td>0</td>\n",
       "      <td>0</td>\n",
       "      <td>0</td>\n",
       "      <td>0</td>\n",
       "      <td>0</td>\n",
       "      <td>0</td>\n",
       "      <td>0</td>\n",
       "      <td>...</td>\n",
       "      <td>0</td>\n",
       "      <td>0</td>\n",
       "      <td>0</td>\n",
       "      <td>0</td>\n",
       "      <td>0</td>\n",
       "      <td>0</td>\n",
       "      <td>0</td>\n",
       "      <td>0</td>\n",
       "      <td>0</td>\n",
       "      <td>0</td>\n",
       "    </tr>\n",
       "    <tr>\n",
       "      <th>1</th>\n",
       "      <td>0</td>\n",
       "      <td>0</td>\n",
       "      <td>0</td>\n",
       "      <td>0</td>\n",
       "      <td>0</td>\n",
       "      <td>0</td>\n",
       "      <td>0</td>\n",
       "      <td>0</td>\n",
       "      <td>0</td>\n",
       "      <td>0</td>\n",
       "      <td>...</td>\n",
       "      <td>0</td>\n",
       "      <td>0</td>\n",
       "      <td>0</td>\n",
       "      <td>0</td>\n",
       "      <td>0</td>\n",
       "      <td>0</td>\n",
       "      <td>0</td>\n",
       "      <td>0</td>\n",
       "      <td>0</td>\n",
       "      <td>0</td>\n",
       "    </tr>\n",
       "    <tr>\n",
       "      <th>2</th>\n",
       "      <td>0</td>\n",
       "      <td>0</td>\n",
       "      <td>0</td>\n",
       "      <td>0</td>\n",
       "      <td>0</td>\n",
       "      <td>0</td>\n",
       "      <td>0</td>\n",
       "      <td>0</td>\n",
       "      <td>0</td>\n",
       "      <td>0</td>\n",
       "      <td>...</td>\n",
       "      <td>0</td>\n",
       "      <td>0</td>\n",
       "      <td>0</td>\n",
       "      <td>0</td>\n",
       "      <td>0</td>\n",
       "      <td>0</td>\n",
       "      <td>0</td>\n",
       "      <td>0</td>\n",
       "      <td>0</td>\n",
       "      <td>0</td>\n",
       "    </tr>\n",
       "    <tr>\n",
       "      <th>3</th>\n",
       "      <td>0</td>\n",
       "      <td>0</td>\n",
       "      <td>0</td>\n",
       "      <td>0</td>\n",
       "      <td>0</td>\n",
       "      <td>0</td>\n",
       "      <td>0</td>\n",
       "      <td>0</td>\n",
       "      <td>0</td>\n",
       "      <td>0</td>\n",
       "      <td>...</td>\n",
       "      <td>0</td>\n",
       "      <td>0</td>\n",
       "      <td>0</td>\n",
       "      <td>0</td>\n",
       "      <td>0</td>\n",
       "      <td>0</td>\n",
       "      <td>0</td>\n",
       "      <td>0</td>\n",
       "      <td>0</td>\n",
       "      <td>0</td>\n",
       "    </tr>\n",
       "    <tr>\n",
       "      <th>4</th>\n",
       "      <td>0</td>\n",
       "      <td>0</td>\n",
       "      <td>0</td>\n",
       "      <td>0</td>\n",
       "      <td>0</td>\n",
       "      <td>0</td>\n",
       "      <td>0</td>\n",
       "      <td>0</td>\n",
       "      <td>0</td>\n",
       "      <td>0</td>\n",
       "      <td>...</td>\n",
       "      <td>0</td>\n",
       "      <td>0</td>\n",
       "      <td>0</td>\n",
       "      <td>0</td>\n",
       "      <td>0</td>\n",
       "      <td>0</td>\n",
       "      <td>0</td>\n",
       "      <td>0</td>\n",
       "      <td>0</td>\n",
       "      <td>0</td>\n",
       "    </tr>\n",
       "    <tr>\n",
       "      <th>...</th>\n",
       "      <td>...</td>\n",
       "      <td>...</td>\n",
       "      <td>...</td>\n",
       "      <td>...</td>\n",
       "      <td>...</td>\n",
       "      <td>...</td>\n",
       "      <td>...</td>\n",
       "      <td>...</td>\n",
       "      <td>...</td>\n",
       "      <td>...</td>\n",
       "      <td>...</td>\n",
       "      <td>...</td>\n",
       "      <td>...</td>\n",
       "      <td>...</td>\n",
       "      <td>...</td>\n",
       "      <td>...</td>\n",
       "      <td>...</td>\n",
       "      <td>...</td>\n",
       "      <td>...</td>\n",
       "      <td>...</td>\n",
       "      <td>...</td>\n",
       "    </tr>\n",
       "    <tr>\n",
       "      <th>2336</th>\n",
       "      <td>0</td>\n",
       "      <td>0</td>\n",
       "      <td>0</td>\n",
       "      <td>0</td>\n",
       "      <td>0</td>\n",
       "      <td>0</td>\n",
       "      <td>0</td>\n",
       "      <td>0</td>\n",
       "      <td>0</td>\n",
       "      <td>0</td>\n",
       "      <td>...</td>\n",
       "      <td>0</td>\n",
       "      <td>0</td>\n",
       "      <td>0</td>\n",
       "      <td>0</td>\n",
       "      <td>0</td>\n",
       "      <td>0</td>\n",
       "      <td>0</td>\n",
       "      <td>0</td>\n",
       "      <td>0</td>\n",
       "      <td>0</td>\n",
       "    </tr>\n",
       "    <tr>\n",
       "      <th>2337</th>\n",
       "      <td>0</td>\n",
       "      <td>0</td>\n",
       "      <td>0</td>\n",
       "      <td>0</td>\n",
       "      <td>0</td>\n",
       "      <td>0</td>\n",
       "      <td>0</td>\n",
       "      <td>0</td>\n",
       "      <td>0</td>\n",
       "      <td>0</td>\n",
       "      <td>...</td>\n",
       "      <td>0</td>\n",
       "      <td>0</td>\n",
       "      <td>0</td>\n",
       "      <td>0</td>\n",
       "      <td>0</td>\n",
       "      <td>0</td>\n",
       "      <td>0</td>\n",
       "      <td>0</td>\n",
       "      <td>0</td>\n",
       "      <td>0</td>\n",
       "    </tr>\n",
       "    <tr>\n",
       "      <th>2338</th>\n",
       "      <td>0</td>\n",
       "      <td>0</td>\n",
       "      <td>0</td>\n",
       "      <td>0</td>\n",
       "      <td>0</td>\n",
       "      <td>0</td>\n",
       "      <td>0</td>\n",
       "      <td>0</td>\n",
       "      <td>0</td>\n",
       "      <td>0</td>\n",
       "      <td>...</td>\n",
       "      <td>0</td>\n",
       "      <td>0</td>\n",
       "      <td>0</td>\n",
       "      <td>0</td>\n",
       "      <td>0</td>\n",
       "      <td>0</td>\n",
       "      <td>0</td>\n",
       "      <td>0</td>\n",
       "      <td>0</td>\n",
       "      <td>0</td>\n",
       "    </tr>\n",
       "    <tr>\n",
       "      <th>2339</th>\n",
       "      <td>0</td>\n",
       "      <td>0</td>\n",
       "      <td>0</td>\n",
       "      <td>0</td>\n",
       "      <td>0</td>\n",
       "      <td>0</td>\n",
       "      <td>0</td>\n",
       "      <td>0</td>\n",
       "      <td>0</td>\n",
       "      <td>0</td>\n",
       "      <td>...</td>\n",
       "      <td>0</td>\n",
       "      <td>0</td>\n",
       "      <td>0</td>\n",
       "      <td>0</td>\n",
       "      <td>0</td>\n",
       "      <td>0</td>\n",
       "      <td>0</td>\n",
       "      <td>0</td>\n",
       "      <td>0</td>\n",
       "      <td>0</td>\n",
       "    </tr>\n",
       "    <tr>\n",
       "      <th>2340</th>\n",
       "      <td>0</td>\n",
       "      <td>0</td>\n",
       "      <td>0</td>\n",
       "      <td>0</td>\n",
       "      <td>0</td>\n",
       "      <td>0</td>\n",
       "      <td>0</td>\n",
       "      <td>0</td>\n",
       "      <td>0</td>\n",
       "      <td>0</td>\n",
       "      <td>...</td>\n",
       "      <td>0</td>\n",
       "      <td>0</td>\n",
       "      <td>0</td>\n",
       "      <td>0</td>\n",
       "      <td>0</td>\n",
       "      <td>0</td>\n",
       "      <td>0</td>\n",
       "      <td>0</td>\n",
       "      <td>0</td>\n",
       "      <td>0</td>\n",
       "    </tr>\n",
       "  </tbody>\n",
       "</table></div>"
      ],
      "text/plain": [
       "      cvec__21st  cvec__49ers  cvec__50th  cvec__aaron  cvec__abandon  \\\n",
       "0              0            0           0            0              0   \n",
       "1              0            0           0            0              0   \n",
       "2              0            0           0            0              0   \n",
       "3              0            0           0            0              0   \n",
       "4              0            0           0            0              0   \n",
       "...          ...          ...         ...          ...            ...   \n",
       "2336           0            0           0            0              0   \n",
       "2337           0            0           0            0              0   \n",
       "2338           0            0           0            0              0   \n",
       "2339           0            0           0            0              0   \n",
       "2340           0            0           0            0              0   \n",
       "\n",
       "      cvec__abbas  cvec__abbott  cvec__abc  cvec__abdicate  cvec__abdul  ...  \\\n",
       "0               0             0          0               0            0  ...   \n",
       "1               0             0          0               0            0  ...   \n",
       "2               0             0          0               0            0  ...   \n",
       "3               0             0          0               0            0  ...   \n",
       "4               0             0          0               0            0  ...   \n",
       "...           ...           ...        ...             ...          ...  ...   \n",
       "2336            0             0          0               0            0  ...   \n",
       "2337            0             0          0               0            0  ...   \n",
       "2338            0             0          0               0            0  ...   \n",
       "2339            0             0          0               0            0  ...   \n",
       "2340            0             0          0               0            0  ...   \n",
       "\n",
       "      cvec__zephyr  cvec__zhao  cvec__zindani  cvec__zion  cvec__zionism  \\\n",
       "0                0           0              0           0              0   \n",
       "1                0           0              0           0              0   \n",
       "2                0           0              0           0              0   \n",
       "3                0           0              0           0              0   \n",
       "4                0           0              0           0              0   \n",
       "...            ...         ...            ...         ...            ...   \n",
       "2336             0           0              0           0              0   \n",
       "2337             0           0              0           0              0   \n",
       "2338             0           0              0           0              0   \n",
       "2339             0           0              0           0              0   \n",
       "2340             0           0              0           0              0   \n",
       "\n",
       "      cvec__zoey  cvec__zone  cvec__zoning  cvec__zuberi  cvec__zverev  \n",
       "0              0           0             0             0             0  \n",
       "1              0           0             0             0             0  \n",
       "2              0           0             0             0             0  \n",
       "3              0           0             0             0             0  \n",
       "4              0           0             0             0             0  \n",
       "...          ...         ...           ...           ...           ...  \n",
       "2336           0           0             0             0             0  \n",
       "2337           0           0             0             0             0  \n",
       "2338           0           0             0             0             0  \n",
       "2339           0           0             0             0             0  \n",
       "2340           0           0             0             0             0  \n",
       "\n",
       "[2341 rows x 5000 columns]"
      ]
     },
     "execution_count": 48,
     "metadata": {},
     "output_type": "execute_result"
    }
   ],
   "source": [
    "X"
   ]
  },
  {
   "cell_type": "code",
   "execution_count": 49,
   "id": "3ca8efae-cf6f-4904-98a8-e80bb73ef7b9",
   "metadata": {},
   "outputs": [],
   "source": [
    "model = RandomForestClassifier(n_estimators=100 ,criterion='entropy' , random_state=0)"
   ]
  },
  {
   "cell_type": "code",
   "execution_count": 50,
   "id": "79e7b75f-1ba9-4317-afa9-4290385ea7d9",
   "metadata": {},
   "outputs": [],
   "source": [
    "from sklearn.pipeline import make_pipeline"
   ]
  },
  {
   "cell_type": "code",
   "execution_count": 51,
   "id": "8d2e9238-0716-4aa5-9f6a-238897a9e887",
   "metadata": {},
   "outputs": [],
   "source": [
    "pipe = make_pipeline(preprocess, model)"
   ]
  },
  {
   "cell_type": "code",
   "execution_count": 52,
   "id": "4db41602-d82c-49e3-bc0e-34a160810dff",
   "metadata": {},
   "outputs": [
    {
     "data": {
      "text/plain": [
       "Pipeline(steps=[('columntransformer',\n",
       "                 ColumnTransformer(transformers=[('cvec',\n",
       "                                                  CountVectorizer(max_features=5000),\n",
       "                                                  'articles')])),\n",
       "                ('randomforestclassifier',\n",
       "                 RandomForestClassifier(criterion='entropy', random_state=0))])"
      ]
     },
     "execution_count": 52,
     "metadata": {},
     "output_type": "execute_result"
    }
   ],
   "source": [
    "pipe"
   ]
  },
  {
   "cell_type": "code",
   "execution_count": 53,
   "id": "0fbe857a-07be-4a11-ac25-74a7dcab24c5",
   "metadata": {},
   "outputs": [
    {
     "data": {
      "text/plain": [
       "Pipeline(steps=[('columntransformer',\n",
       "                 ColumnTransformer(transformers=[('cvec',\n",
       "                                                  CountVectorizer(max_features=5000),\n",
       "                                                  'articles')])),\n",
       "                ('randomforestclassifier',\n",
       "                 RandomForestClassifier(criterion='entropy', random_state=0))])"
      ]
     },
     "execution_count": 53,
     "metadata": {},
     "output_type": "execute_result"
    }
   ],
   "source": [
    "pipe"
   ]
  },
  {
   "cell_type": "code",
   "execution_count": 54,
   "id": "960fcb96-8036-4e8c-8ef3-1d1e2c50ca21",
   "metadata": {},
   "outputs": [
    {
     "data": {
      "text/plain": [
       "(2341, 5000)"
      ]
     },
     "execution_count": 54,
     "metadata": {},
     "output_type": "execute_result"
    }
   ],
   "source": [
    "X.shape"
   ]
  },
  {
   "cell_type": "code",
   "execution_count": 55,
   "id": "d75323e4-18eb-445d-9d83-e1a5176ad7e5",
   "metadata": {},
   "outputs": [
    {
     "name": "stdout",
     "output_type": "stream",
     "text": [
      "1638\n",
      "703\n",
      "1638\n",
      "703\n"
     ]
    }
   ],
   "source": [
    "from sklearn.model_selection import train_test_split\n",
    "x_train, x_test, y_train, y_test = train_test_split(X, y, test_size = 0.3, random_state = 0, shuffle = True)\n",
    "print(len(x_train))\n",
    "print(len(x_test))\n",
    "print(len(y_train))\n",
    "print(len(y_test))"
   ]
  },
  {
   "cell_type": "code",
   "execution_count": 56,
   "id": "20d2521c-31e0-4005-a048-3a12572a9889",
   "metadata": {},
   "outputs": [
    {
     "data": {
      "text/plain": [
       "(1638, 5000)"
      ]
     },
     "execution_count": 56,
     "metadata": {},
     "output_type": "execute_result"
    }
   ],
   "source": [
    "x_train.shape"
   ]
  },
  {
   "cell_type": "code",
   "execution_count": 57,
   "id": "308d35e6-8bbe-4533-b807-28910506f3fb",
   "metadata": {},
   "outputs": [],
   "source": [
    "classifier = RandomForestClassifier(n_estimators=100 ,criterion='entropy' , random_state=0).fit(x_train, y_train)\n",
    "classifier\n",
    "y_pred = classifier.predict(x_test)"
   ]
  },
  {
   "cell_type": "code",
   "execution_count": 60,
   "id": "a1be01db-a484-4ce5-b1be-24db622f0e98",
   "metadata": {},
   "outputs": [
    {
     "data": {
      "text/plain": [
       "array([2, 0, 0, 4, 1, 5, 4, 0, 0, 1, 5, 0, 5, 3, 0, 2, 1, 1, 0, 0, 0, 2,\n",
       "       1, 2, 2, 1, 2, 0, 3, 0, 2, 1, 0, 3, 1, 0, 2, 0, 0, 0, 1, 2, 0, 1,\n",
       "       0, 0, 3, 0, 0, 1, 5, 0, 2, 2, 0, 2, 5, 0, 1, 4, 4, 3, 1, 2, 3, 0,\n",
       "       2, 3, 3, 2, 0, 0, 4, 3, 1, 0, 1, 2, 0, 0, 4, 2, 0, 3, 0, 2, 0, 0,\n",
       "       2, 0, 2, 0, 5, 0, 2, 5, 4, 4, 2, 1, 2, 0, 3, 0, 0, 2, 5, 2, 0, 1,\n",
       "       1, 2, 2, 2, 0, 1, 2, 3, 0, 1, 0, 0, 4, 1, 4, 2, 0, 2, 0, 2, 1, 1,\n",
       "       1, 0, 5, 1, 2, 4, 0, 0, 5, 0, 0, 0, 1, 1, 0, 0, 0, 1, 2, 0, 0, 1,\n",
       "       2, 0, 0, 2, 2, 5, 1, 3, 0, 0, 1, 3, 2, 0, 0, 4, 3, 4, 2, 0, 0, 0,\n",
       "       1, 2, 0, 0, 1, 1, 2, 2, 4, 3, 1, 5, 0, 2, 0, 0, 1, 1, 3, 1, 1, 0,\n",
       "       1, 2, 4, 1, 5, 3, 2, 1, 2, 4, 0, 0, 0, 2, 0, 2, 0, 0, 0, 0, 5, 0,\n",
       "       0, 0, 0, 0, 3, 4, 1, 2, 1, 0, 1, 1, 3, 2, 0, 0, 0, 2, 2, 2, 4, 0,\n",
       "       0, 2, 5, 0, 0, 2, 0, 1, 0, 1, 1, 0, 0, 1, 0, 0, 0, 5, 1, 3, 2, 2,\n",
       "       2, 3, 2, 2, 3, 2, 0, 0, 0, 0, 0, 2, 1, 2, 2, 3, 5, 0, 3, 1, 1, 0,\n",
       "       1, 2, 1, 4, 0, 0, 3, 0, 5, 2, 2, 4, 0, 5, 2, 1, 0, 0, 1, 2, 5, 5,\n",
       "       0, 0, 3, 2, 0, 0, 2, 0, 4, 0, 1, 3, 0, 0, 2, 0, 0, 3, 0, 2, 1, 1,\n",
       "       0, 0, 3, 0, 0, 3, 0, 3, 0, 2, 2, 4, 1, 0, 1, 3, 5, 5, 5, 0, 1, 1,\n",
       "       0, 3, 0, 0, 0, 1, 0, 1, 1, 4, 0, 0, 3, 2, 1, 0, 5, 0, 0, 2, 0, 0,\n",
       "       2, 0, 2, 0, 2, 2, 2, 1, 1, 3, 1, 5, 0, 0, 2, 0, 3, 2, 2, 1, 2, 0,\n",
       "       0, 2, 3, 0, 5, 2, 1, 4, 0, 0, 0, 1, 4, 2, 0, 1, 1, 3, 0, 3, 0, 0,\n",
       "       1, 0, 2, 1, 2, 1, 0, 4, 2, 5, 2, 0, 1, 4, 3, 5, 5, 2, 0, 1, 0, 4,\n",
       "       4, 0, 1, 2, 1, 2, 2, 2, 0, 1, 2, 4, 2, 1, 2, 3, 0, 0, 0, 1, 4, 2,\n",
       "       0, 0, 1, 0, 0, 0, 0, 0, 0, 3, 0, 0, 3, 0, 3, 0, 0, 0, 1, 3, 1, 5,\n",
       "       2, 0, 0, 0, 0, 0, 4, 0, 0, 5, 1, 0, 2, 2, 0, 2, 0, 1, 0, 2, 0, 2,\n",
       "       1, 0, 2, 1, 3, 2, 4, 1, 0, 4, 0, 2, 2, 0, 1, 5, 0, 2, 2, 0, 1, 2,\n",
       "       4, 5, 1, 5, 0, 0, 0, 2, 0, 0, 5, 0, 5, 0, 0, 0, 3, 0, 2, 3, 0, 0,\n",
       "       0, 0, 2, 0, 3, 0, 0, 0, 0, 0, 2, 2, 0, 2, 2, 0, 0, 3, 2, 3, 1, 2,\n",
       "       2, 3, 0, 3, 4, 0, 1, 0, 0, 0, 2, 2, 0, 0, 1, 2, 0, 3, 3, 0, 0, 0,\n",
       "       0, 0, 2, 2, 0, 1, 3, 0, 1, 0, 0, 0, 4, 0, 0, 0, 2, 0, 1, 3, 0, 0,\n",
       "       2, 0, 1, 5, 5, 0, 0, 1, 2, 0, 2, 1, 0, 5, 3, 1, 0, 5, 1, 0, 2, 0,\n",
       "       0, 2, 0, 0, 0, 3, 0, 4, 2, 2, 0, 0, 0, 0, 2, 0, 0, 1, 2, 3, 0, 0,\n",
       "       2, 1, 2, 2, 0, 0, 2, 0, 2, 1, 3, 0, 3, 0, 0, 0, 0, 3, 0, 1, 2, 0,\n",
       "       1, 0, 4, 2, 0, 0, 0, 1, 0, 0, 3, 4, 5, 2, 0, 2, 0, 3, 0, 0, 5],\n",
       "      dtype=int64)"
      ]
     },
     "execution_count": 60,
     "metadata": {},
     "output_type": "execute_result"
    }
   ],
   "source": [
    "y_pred"
   ]
  },
  {
   "cell_type": "code",
   "execution_count": 58,
   "id": "b92773b1-7c27-4809-8dda-f05de0f4ee06",
   "metadata": {},
   "outputs": [],
   "source": [
    "text = [\"I'm going to invest my company\"]"
   ]
  },
  {
   "cell_type": "code",
   "execution_count": 59,
   "id": "604e739f-cb60-4baa-871f-7c5a91c45360",
   "metadata": {},
   "outputs": [
    {
     "ename": "NotFittedError",
     "evalue": "Vocabulary not fitted or provided",
     "output_type": "error",
     "traceback": [
      "\u001b[1;31m---------------------------------------------------------------------------\u001b[0m",
      "\u001b[1;31mNotFittedError\u001b[0m                            Traceback (most recent call last)",
      "\u001b[1;32m~\\AppData\\Local\\Temp/ipykernel_15584/3543015486.py\u001b[0m in \u001b[0;36m<module>\u001b[1;34m\u001b[0m\n\u001b[1;32m----> 1\u001b[1;33m \u001b[0my_pred1\u001b[0m \u001b[1;33m=\u001b[0m \u001b[0mcv\u001b[0m\u001b[1;33m.\u001b[0m\u001b[0mtransform\u001b[0m\u001b[1;33m(\u001b[0m\u001b[0mtext\u001b[0m\u001b[1;33m)\u001b[0m\u001b[1;33m\u001b[0m\u001b[1;33m\u001b[0m\u001b[0m\n\u001b[0m\u001b[0;32m      2\u001b[0m \u001b[0myy\u001b[0m \u001b[1;33m=\u001b[0m \u001b[0mclassifier\u001b[0m\u001b[1;33m.\u001b[0m\u001b[0mpredict\u001b[0m\u001b[1;33m(\u001b[0m\u001b[0my_pred1\u001b[0m\u001b[1;33m)\u001b[0m\u001b[1;33m\u001b[0m\u001b[1;33m\u001b[0m\u001b[0m\n\u001b[0;32m      3\u001b[0m \u001b[0mresult\u001b[0m \u001b[1;33m=\u001b[0m \u001b[1;34m\"\"\u001b[0m\u001b[1;33m\u001b[0m\u001b[1;33m\u001b[0m\u001b[0m\n\u001b[0;32m      4\u001b[0m \u001b[1;32mif\u001b[0m \u001b[0myy\u001b[0m \u001b[1;33m==\u001b[0m \u001b[1;33m[\u001b[0m\u001b[1;36m0\u001b[0m\u001b[1;33m]\u001b[0m\u001b[1;33m:\u001b[0m\u001b[1;33m\u001b[0m\u001b[1;33m\u001b[0m\u001b[0m\n\u001b[0;32m      5\u001b[0m     \u001b[0mresult\u001b[0m \u001b[1;33m=\u001b[0m \u001b[1;34m\"opinion\"\u001b[0m\u001b[1;33m\u001b[0m\u001b[1;33m\u001b[0m\u001b[0m\n",
      "\u001b[1;32mD:\\Project\\finalproject\\lib\\site-packages\\sklearn\\feature_extraction\\text.py\u001b[0m in \u001b[0;36mtransform\u001b[1;34m(self, raw_documents)\u001b[0m\n\u001b[0;32m   1249\u001b[0m                 \u001b[1;34m\"Iterable over raw text documents expected, \"\u001b[0m\u001b[1;33m\u001b[0m\u001b[1;33m\u001b[0m\u001b[0m\n\u001b[0;32m   1250\u001b[0m                 \"string object received.\")\n\u001b[1;32m-> 1251\u001b[1;33m         \u001b[0mself\u001b[0m\u001b[1;33m.\u001b[0m\u001b[0m_check_vocabulary\u001b[0m\u001b[1;33m(\u001b[0m\u001b[1;33m)\u001b[0m\u001b[1;33m\u001b[0m\u001b[1;33m\u001b[0m\u001b[0m\n\u001b[0m\u001b[0;32m   1252\u001b[0m \u001b[1;33m\u001b[0m\u001b[0m\n\u001b[0;32m   1253\u001b[0m         \u001b[1;31m# use the same matrix-building strategy as fit_transform\u001b[0m\u001b[1;33m\u001b[0m\u001b[1;33m\u001b[0m\u001b[1;33m\u001b[0m\u001b[0m\n",
      "\u001b[1;32mD:\\Project\\finalproject\\lib\\site-packages\\sklearn\\feature_extraction\\text.py\u001b[0m in \u001b[0;36m_check_vocabulary\u001b[1;34m(self)\u001b[0m\n\u001b[0;32m    470\u001b[0m             \u001b[0mself\u001b[0m\u001b[1;33m.\u001b[0m\u001b[0m_validate_vocabulary\u001b[0m\u001b[1;33m(\u001b[0m\u001b[1;33m)\u001b[0m\u001b[1;33m\u001b[0m\u001b[1;33m\u001b[0m\u001b[0m\n\u001b[0;32m    471\u001b[0m             \u001b[1;32mif\u001b[0m \u001b[1;32mnot\u001b[0m \u001b[0mself\u001b[0m\u001b[1;33m.\u001b[0m\u001b[0mfixed_vocabulary_\u001b[0m\u001b[1;33m:\u001b[0m\u001b[1;33m\u001b[0m\u001b[1;33m\u001b[0m\u001b[0m\n\u001b[1;32m--> 472\u001b[1;33m                 \u001b[1;32mraise\u001b[0m \u001b[0mNotFittedError\u001b[0m\u001b[1;33m(\u001b[0m\u001b[1;34m\"Vocabulary not fitted or provided\"\u001b[0m\u001b[1;33m)\u001b[0m\u001b[1;33m\u001b[0m\u001b[1;33m\u001b[0m\u001b[0m\n\u001b[0m\u001b[0;32m    473\u001b[0m \u001b[1;33m\u001b[0m\u001b[0m\n\u001b[0;32m    474\u001b[0m         \u001b[1;32mif\u001b[0m \u001b[0mlen\u001b[0m\u001b[1;33m(\u001b[0m\u001b[0mself\u001b[0m\u001b[1;33m.\u001b[0m\u001b[0mvocabulary_\u001b[0m\u001b[1;33m)\u001b[0m \u001b[1;33m==\u001b[0m \u001b[1;36m0\u001b[0m\u001b[1;33m:\u001b[0m\u001b[1;33m\u001b[0m\u001b[1;33m\u001b[0m\u001b[0m\n",
      "\u001b[1;31mNotFittedError\u001b[0m: Vocabulary not fitted or provided"
     ]
    }
   ],
   "source": [
    "y_pred1 = cv.transform(text)\n",
    "yy = classifier.predict(y_pred1)\n",
    "result = \"\"\n",
    "if yy == [0]:\n",
    "    result = \"opinion\"\n",
    "elif yy == [1]:\n",
    "    result = \"world\"\n",
    "elif yy == [2]:\n",
    "    result = \"Politics News\"\n",
    "elif yy == [3]:\n",
    "    result = \"arts\"\n",
    "elif yy == [4]:\n",
    "    result = \"business\"\n",
    "elif yy == [5]:\n",
    "    result = \"sports\"\n",
    "print(result)"
   ]
  },
  {
   "cell_type": "code",
   "execution_count": null,
   "id": "abb785c5-6411-4e05-82dc-260183dfcf0f",
   "metadata": {},
   "outputs": [],
   "source": [
    "y_pred1.shape"
   ]
  },
  {
   "cell_type": "code",
   "execution_count": null,
   "id": "7cb736c6-5a99-43d7-a72c-4555d3ebdf83",
   "metadata": {},
   "outputs": [],
   "source": []
  }
 ],
 "metadata": {
  "kernelspec": {
   "display_name": "finalproject",
   "language": "python",
   "name": "finalproject"
  },
  "language_info": {
   "codemirror_mode": {
    "name": "ipython",
    "version": 3
   },
   "file_extension": ".py",
   "mimetype": "text/x-python",
   "name": "python",
   "nbconvert_exporter": "python",
   "pygments_lexer": "ipython3",
   "version": "3.8.11"
  }
 },
 "nbformat": 4,
 "nbformat_minor": 5
}
