{
 "cells": [
  {
   "cell_type": "markdown",
   "metadata": {},
   "source": [
    "https://www.analyticsvidhya.com/blog/2021/12/text-classification-of-news-articles/"
   ]
  },
  {
   "cell_type": "markdown",
   "metadata": {},
   "source": [
    "ปัญหาของข้อมูลชุดนี้\n",
    "- ไม่รู้ว่า Label คือ column ใด\n",
    "- ต้องเปลี่ยน Keywords จาก List เป็น String\n",
    "- ลบเครื่องหมายต่างๆ"
   ]
  },
  {
   "cell_type": "code",
   "execution_count": 1,
   "metadata": {},
   "outputs": [],
   "source": [
    "import pandas as pd\n",
    "from wordcloud import WordCloud\n",
    "import matplotlib.pyplot as plt"
   ]
  },
  {
   "cell_type": "markdown",
   "metadata": {},
   "source": [
    "#### import data from cleansing"
   ]
  },
  {
   "cell_type": "code",
   "execution_count": 25,
   "metadata": {},
   "outputs": [],
   "source": [
    "df = pd.read_csv('../data/cleaned/cleaned-data.csv')"
   ]
  },
  {
   "cell_type": "code",
   "execution_count": 26,
   "metadata": {},
   "outputs": [
    {
     "name": "stdout",
     "output_type": "stream",
     "text": [
      "<class 'pandas.core.frame.DataFrame'>\n",
      "RangeIndex: 4480 entries, 0 to 4479\n",
      "Data columns (total 5 columns):\n",
      " #   Column    Non-Null Count  Dtype \n",
      "---  ------    --------------  ----- \n",
      " 0   date      4480 non-null   object\n",
      " 1   label     4480 non-null   object\n",
      " 2   headline  4480 non-null   object\n",
      " 3   snippet   4472 non-null   object\n",
      " 4   url       4480 non-null   object\n",
      "dtypes: object(5)\n",
      "memory usage: 175.1+ KB\n"
     ]
    }
   ],
   "source": [
    "df.info()"
   ]
  },
  {
   "cell_type": "markdown",
   "metadata": {},
   "source": [
    "#### Values checking"
   ]
  },
  {
   "cell_type": "code",
   "execution_count": 27,
   "metadata": {},
   "outputs": [
    {
     "data": {
      "text/html": [
       "<div>\n",
       "<style scoped>\n",
       "    .dataframe tbody tr th:only-of-type {\n",
       "        vertical-align: middle;\n",
       "    }\n",
       "\n",
       "    .dataframe tbody tr th {\n",
       "        vertical-align: top;\n",
       "    }\n",
       "\n",
       "    .dataframe thead th {\n",
       "        text-align: right;\n",
       "    }\n",
       "</style>\n",
       "<table border=\"1\" class=\"dataframe\">\n",
       "  <thead>\n",
       "    <tr style=\"text-align: right;\">\n",
       "      <th></th>\n",
       "      <th>index</th>\n",
       "      <th>url</th>\n",
       "      <th>ind</th>\n",
       "    </tr>\n",
       "  </thead>\n",
       "  <tbody>\n",
       "    <tr>\n",
       "      <th>9</th>\n",
       "      <td>9</td>\n",
       "      <td>https://www.nytimes.com/2019/12/31/us/politics...</td>\n",
       "      <td>38</td>\n",
       "    </tr>\n",
       "    <tr>\n",
       "      <th>33</th>\n",
       "      <td>33</td>\n",
       "      <td>https://www.nytimes.com/2020/01/01/us/politics...</td>\n",
       "      <td>38</td>\n",
       "    </tr>\n",
       "    <tr>\n",
       "      <th>38</th>\n",
       "      <td>38</td>\n",
       "      <td>https://www.nytimes.com/2020/01/01/us/politics...</td>\n",
       "      <td>38</td>\n",
       "    </tr>\n",
       "    <tr>\n",
       "      <th>68</th>\n",
       "      <td>68</td>\n",
       "      <td>https://www.nytimes.com/2020/01/01/us/politics...</td>\n",
       "      <td>38</td>\n",
       "    </tr>\n",
       "    <tr>\n",
       "      <th>85</th>\n",
       "      <td>85</td>\n",
       "      <td>https://www.nytimes.com/2020/01/01/us/politics...</td>\n",
       "      <td>38</td>\n",
       "    </tr>\n",
       "    <tr>\n",
       "      <th>...</th>\n",
       "      <td>...</td>\n",
       "      <td>...</td>\n",
       "      <td>...</td>\n",
       "    </tr>\n",
       "    <tr>\n",
       "      <th>4461</th>\n",
       "      <td>4461</td>\n",
       "      <td>https://www.nytimes.com/2020/01/31/us/politics...</td>\n",
       "      <td>38</td>\n",
       "    </tr>\n",
       "    <tr>\n",
       "      <th>4467</th>\n",
       "      <td>4467</td>\n",
       "      <td>https://www.nytimes.com/2020/01/31/us/politics...</td>\n",
       "      <td>38</td>\n",
       "    </tr>\n",
       "    <tr>\n",
       "      <th>4469</th>\n",
       "      <td>4469</td>\n",
       "      <td>https://www.nytimes.com/2020/01/31/us/politics...</td>\n",
       "      <td>38</td>\n",
       "    </tr>\n",
       "    <tr>\n",
       "      <th>4474</th>\n",
       "      <td>4474</td>\n",
       "      <td>https://www.nytimes.com/2020/01/31/us/politics...</td>\n",
       "      <td>38</td>\n",
       "    </tr>\n",
       "    <tr>\n",
       "      <th>4478</th>\n",
       "      <td>4478</td>\n",
       "      <td>https://www.nytimes.com/video/us/politics/1000...</td>\n",
       "      <td>33</td>\n",
       "    </tr>\n",
       "  </tbody>\n",
       "</table>\n",
       "<p>501 rows × 3 columns</p>\n",
       "</div>"
      ],
      "text/plain": [
       "      index                                                url  ind\n",
       "9         9  https://www.nytimes.com/2019/12/31/us/politics...   38\n",
       "33       33  https://www.nytimes.com/2020/01/01/us/politics...   38\n",
       "38       38  https://www.nytimes.com/2020/01/01/us/politics...   38\n",
       "68       68  https://www.nytimes.com/2020/01/01/us/politics...   38\n",
       "85       85  https://www.nytimes.com/2020/01/01/us/politics...   38\n",
       "...     ...                                                ...  ...\n",
       "4461   4461  https://www.nytimes.com/2020/01/31/us/politics...   38\n",
       "4467   4467  https://www.nytimes.com/2020/01/31/us/politics...   38\n",
       "4469   4469  https://www.nytimes.com/2020/01/31/us/politics...   38\n",
       "4474   4474  https://www.nytimes.com/2020/01/31/us/politics...   38\n",
       "4478   4478  https://www.nytimes.com/video/us/politics/1000...   33\n",
       "\n",
       "[501 rows x 3 columns]"
      ]
     },
     "execution_count": 27,
     "metadata": {},
     "output_type": "execute_result"
    }
   ],
   "source": [
    "def find_string(a, b, c):\n",
    "    '''\n",
    "    ฟังชั่นสำหรับหา String จาก column อย่างเฉพาะเจาะจง\n",
    "    a = DataFrame Column\n",
    "    b = \n",
    "    c = ตัวอักษรที่จะค้นหา\n",
    "    Return = DataFrame\n",
    "    '''\n",
    "    string = []\n",
    "    index = []\n",
    "    for i in df[a]:\n",
    "        string.append(i.find(c))\n",
    "    for j in df.index:\n",
    "        index.append(j)\n",
    "    df[b] = string\n",
    "    df['index'] = index\n",
    "    return df[['index',a,b]].loc[df[b] > -1]\n",
    "\n",
    "find_string('url', 'ind', 'politics')"
   ]
  },
  {
   "cell_type": "code",
   "execution_count": 28,
   "metadata": {},
   "outputs": [
    {
     "data": {
      "text/html": [
       "<div>\n",
       "<style scoped>\n",
       "    .dataframe tbody tr th:only-of-type {\n",
       "        vertical-align: middle;\n",
       "    }\n",
       "\n",
       "    .dataframe tbody tr th {\n",
       "        vertical-align: top;\n",
       "    }\n",
       "\n",
       "    .dataframe thead th {\n",
       "        text-align: right;\n",
       "    }\n",
       "</style>\n",
       "<table border=\"1\" class=\"dataframe\">\n",
       "  <thead>\n",
       "    <tr style=\"text-align: right;\">\n",
       "      <th></th>\n",
       "      <th>Label</th>\n",
       "      <th>Numbers</th>\n",
       "    </tr>\n",
       "  </thead>\n",
       "  <tbody>\n",
       "    <tr>\n",
       "      <th>0</th>\n",
       "      <td>us</td>\n",
       "      <td>287</td>\n",
       "    </tr>\n",
       "    <tr>\n",
       "      <th>1</th>\n",
       "      <td>opinion</td>\n",
       "      <td>503</td>\n",
       "    </tr>\n",
       "    <tr>\n",
       "      <th>5</th>\n",
       "      <td>world</td>\n",
       "      <td>482</td>\n",
       "    </tr>\n",
       "    <tr>\n",
       "      <th>6</th>\n",
       "      <td>politics</td>\n",
       "      <td>494</td>\n",
       "    </tr>\n",
       "    <tr>\n",
       "      <th>8</th>\n",
       "      <td>arts</td>\n",
       "      <td>346</td>\n",
       "    </tr>\n",
       "    <tr>\n",
       "      <th>9</th>\n",
       "      <td>business</td>\n",
       "      <td>297</td>\n",
       "    </tr>\n",
       "    <tr>\n",
       "      <th>18</th>\n",
       "      <td>sports</td>\n",
       "      <td>226</td>\n",
       "    </tr>\n",
       "  </tbody>\n",
       "</table>\n",
       "</div>"
      ],
      "text/plain": [
       "       Label  Numbers\n",
       "0         us      287\n",
       "1    opinion      503\n",
       "5      world      482\n",
       "6   politics      494\n",
       "8       arts      346\n",
       "9   business      297\n",
       "18    sports      226"
      ]
     },
     "execution_count": 28,
     "metadata": {},
     "output_type": "execute_result"
    }
   ],
   "source": [
    "def count_values(a):\n",
    "    '''\n",
    "    a = ชื่อ column\n",
    "    ฟั่งชั่นนับจำนวน Label ทั้งหมด\n",
    "    Return = DataFrame \n",
    "    '''\n",
    "    label = []\n",
    "    u_names = []\n",
    "    count = []\n",
    "    for i in df[a]:\n",
    "        label.append(i)\n",
    "    for names in label:\n",
    "        if names not in u_names:\n",
    "            names = str(names)\n",
    "            u_names.append(names)\n",
    "    for num in u_names:\n",
    "        count.append(label.count(num))\n",
    "    return pd.DataFrame({'Label': u_names, 'Numbers': count})\n",
    "\n",
    "Num_values = count_values('label')\n",
    "Num_values[['Label', 'Numbers']].loc[Num_values['Numbers'] > 200]"
   ]
  },
  {
   "cell_type": "markdown",
   "metadata": {},
   "source": [
    "#### Word Cloud"
   ]
  },
  {
   "cell_type": "code",
   "execution_count": null,
   "metadata": {},
   "outputs": [],
   "source": []
  }
 ],
 "metadata": {
  "interpreter": {
   "hash": "3c7e3994766849ba0d95414ce9f6ffd3b4322abf9dc40002bd1a698012553092"
  },
  "kernelspec": {
   "display_name": "finalproject",
   "language": "python",
   "name": "finalproject"
  },
  "language_info": {
   "codemirror_mode": {
    "name": "ipython",
    "version": 3
   },
   "file_extension": ".py",
   "mimetype": "text/x-python",
   "name": "python",
   "nbconvert_exporter": "python",
   "pygments_lexer": "ipython3",
   "version": "3.8.11"
  }
 },
 "nbformat": 4,
 "nbformat_minor": 4
}
