{
 "cells": [
  {
   "cell_type": "code",
   "execution_count": 1,
   "metadata": {},
   "outputs": [],
   "source": [
    "y = [(1,2,3),(\"h\",\"a\",\"t\")]"
   ]
  },
  {
   "cell_type": "code",
   "execution_count": 2,
   "metadata": {},
   "outputs": [
    {
     "data": {
      "text/plain": [
       "[(1, 2, 3), ('h', 'a', 't')]"
      ]
     },
     "execution_count": 2,
     "metadata": {},
     "output_type": "execute_result"
    }
   ],
   "source": [
    "y"
   ]
  },
  {
   "cell_type": "code",
   "execution_count": 4,
   "metadata": {},
   "outputs": [
    {
     "name": "stdout",
     "output_type": "stream",
     "text": [
      "400\n"
     ]
    }
   ],
   "source": [
    "class SavingAccount:\n",
    "  def __init__(self, balance):\n",
    "    self.balance = balance\n",
    "\n",
    "  def withdraw(self, amount):\n",
    "    self.balance -= amount\n",
    "\n",
    "  def deposit(self, amount):\n",
    "    self.balance += amount\n",
    "\n",
    "acc = SavingAccount(500)\n",
    "acc.withdraw(100) # ฝากเพิ่ม 100\n",
    "\n",
    "print(acc.balance) "
   ]
  },
  {
   "cell_type": "code",
   "execution_count": null,
   "metadata": {},
   "outputs": [],
   "source": []
  }
 ],
 "metadata": {
  "interpreter": {
   "hash": "f076fab595b0b82372d7f0663c6c0ec78448392ca534bc8c2a5b2142d247e6f4"
  },
  "kernelspec": {
   "display_name": "Python 3.8.11 64-bit ('finalproject': venv)",
   "language": "python",
   "name": "python3"
  },
  "language_info": {
   "codemirror_mode": {
    "name": "ipython",
    "version": 3
   },
   "file_extension": ".py",
   "mimetype": "text/x-python",
   "name": "python",
   "nbconvert_exporter": "python",
   "pygments_lexer": "ipython3",
   "version": "3.8.11"
  },
  "orig_nbformat": 4
 },
 "nbformat": 4,
 "nbformat_minor": 2
}
