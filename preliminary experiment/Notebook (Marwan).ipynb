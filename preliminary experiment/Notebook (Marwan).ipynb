{
 "cells": [
  {
   "cell_type": "markdown",
   "id": "6491de5c",
   "metadata": {},
   "source": [
    "## Data prep"
   ]
  },
  {
   "cell_type": "code",
   "execution_count": 99,
   "id": "b18b74be",
   "metadata": {},
   "outputs": [],
   "source": [
    "import pandas as pd\n",
    "%matplotlib inline\n",
    "import matplotlib.pyplot as plt"
   ]
  },
  {
   "cell_type": "code",
   "execution_count": 100,
   "id": "7c9b23be",
   "metadata": {},
   "outputs": [],
   "source": [
    "df = pd.read_csv('data-set/training-set(news).csv')"
   ]
  },
  {
   "cell_type": "markdown",
   "id": "da4ca3e3-5cba-4ac1-977e-9dfae91d207b",
   "metadata": {},
   "source": [
    "### Split Train_set and Test_set"
   ]
  },
  {
   "cell_type": "raw",
   "id": "dd121e8b-09c3-4e33-932d-8bd7002efb8b",
   "metadata": {},
   "source": [
    "#### To split by 0.2 ratio (88 : 22) and using numpy random permutation to random the data"
   ]
  },
  {
   "cell_type": "code",
   "execution_count": 101,
   "id": "02f70a76-8e09-40ca-9605-b4271a01cf43",
   "metadata": {},
   "outputs": [],
   "source": [
    "import numpy as np\n",
    "\n",
    "def split_test_train(data, ratio):\n",
    "    shuffled_indices = np.random.permutation(len(data))\n",
    "    test_set_size = int(len(data) * ratio)\n",
    "    test_indices = shuffled_indices[:test_set_size]\n",
    "    train_indices = shuffled_indices[test_set_size:]\n",
    "    return data.iloc[train_indices],  data.iloc[test_indices]"
   ]
  },
  {
   "cell_type": "code",
   "execution_count": 102,
   "id": "4e93c932-3583-49b1-a52a-1b0218939b33",
   "metadata": {},
   "outputs": [],
   "source": [
    "train_set, test_set = split_test_train(df, 0.2)"
   ]
  },
  {
   "cell_type": "code",
   "execution_count": 103,
   "id": "61cbe88f-e08f-4f34-86da-11da9aecbffe",
   "metadata": {},
   "outputs": [
    {
     "data": {
      "text/plain": [
       "(88, 22)"
      ]
     },
     "execution_count": 103,
     "metadata": {},
     "output_type": "execute_result"
    }
   ],
   "source": [
    "len(train_set), len(test_set)"
   ]
  },
  {
   "cell_type": "code",
   "execution_count": 104,
   "id": "0053c08a-7ceb-46ff-bfd4-c751f59ef4fc",
   "metadata": {},
   "outputs": [
    {
     "data": {
      "text/html": [
       "<div>\n",
       "<style scoped>\n",
       "    .dataframe tbody tr th:only-of-type {\n",
       "        vertical-align: middle;\n",
       "    }\n",
       "\n",
       "    .dataframe tbody tr th {\n",
       "        vertical-align: top;\n",
       "    }\n",
       "\n",
       "    .dataframe thead th {\n",
       "        text-align: right;\n",
       "    }\n",
       "</style>\n",
       "<table border=\"1\" class=\"dataframe\">\n",
       "  <thead>\n",
       "    <tr style=\"text-align: right;\">\n",
       "      <th></th>\n",
       "      <th>DATE</th>\n",
       "      <th>TIME</th>\n",
       "      <th>LABEL</th>\n",
       "      <th>NEWS TOPPIC</th>\n",
       "      <th>ARTICLE</th>\n",
       "    </tr>\n",
       "  </thead>\n",
       "  <tbody>\n",
       "    <tr>\n",
       "      <th>95</th>\n",
       "      <td>27-ก.พ.-21</td>\n",
       "      <td>4:00</td>\n",
       "      <td>Tech</td>\n",
       "      <td>Xiaomi steps up Thai investment</td>\n",
       "      <td>Despite the economic stalemate, Chinese tech g...</td>\n",
       "    </tr>\n",
       "    <tr>\n",
       "      <th>58</th>\n",
       "      <td>27-ม.ค.-21</td>\n",
       "      <td>4:00</td>\n",
       "      <td>Auto</td>\n",
       "      <td>Retest senior drivers for road safety</td>\n",
       "      <td>Should senior drivers holding lifetime driving...</td>\n",
       "    </tr>\n",
       "    <tr>\n",
       "      <th>37</th>\n",
       "      <td>1-มี.ค.-21</td>\n",
       "      <td>12:30</td>\n",
       "      <td>Business</td>\n",
       "      <td>Don't isolate Myanmar</td>\n",
       "      <td>Directly or indirectly, the military has alway...</td>\n",
       "    </tr>\n",
       "    <tr>\n",
       "      <th>90</th>\n",
       "      <td>1-มี.ค.-21</td>\n",
       "      <td>9:30</td>\n",
       "      <td>Tech</td>\n",
       "      <td>Apple privacy moves to kneecap Facebook revenue</td>\n",
       "      <td>The upcoming iOS 14 update will give users the...</td>\n",
       "    </tr>\n",
       "    <tr>\n",
       "      <th>66</th>\n",
       "      <td>1-มี.ค.-21</td>\n",
       "      <td>4:30</td>\n",
       "      <td>Life</td>\n",
       "      <td>A reflection of the fragility of life</td>\n",
       "      <td>The greatness of nature and the fragility of l...</td>\n",
       "    </tr>\n",
       "    <tr>\n",
       "      <th>...</th>\n",
       "      <td>...</td>\n",
       "      <td>...</td>\n",
       "      <td>...</td>\n",
       "      <td>...</td>\n",
       "      <td>...</td>\n",
       "    </tr>\n",
       "    <tr>\n",
       "      <th>65</th>\n",
       "      <td>1-มี.ค.-21</td>\n",
       "      <td>4:30</td>\n",
       "      <td>Life</td>\n",
       "      <td>Point of no return</td>\n",
       "      <td>Campaigners are hoping to raise public awarene...</td>\n",
       "    </tr>\n",
       "    <tr>\n",
       "      <th>57</th>\n",
       "      <td>5-ก.พ.-21</td>\n",
       "      <td>8:45</td>\n",
       "      <td>Auto</td>\n",
       "      <td>Ford to speed up push to electric autos, digit...</td>\n",
       "      <td>NEW YORK - Ford announced Thursday a dramatic ...</td>\n",
       "    </tr>\n",
       "    <tr>\n",
       "      <th>99</th>\n",
       "      <td>24-ก.พ.-21</td>\n",
       "      <td>4:00</td>\n",
       "      <td>Tech</td>\n",
       "      <td>Most large firms seen using AI by 2025</td>\n",
       "      <td>By 2025, 97% of large companies globally will ...</td>\n",
       "    </tr>\n",
       "    <tr>\n",
       "      <th>103</th>\n",
       "      <td>19-ก.พ.-21</td>\n",
       "      <td>4:00</td>\n",
       "      <td>Property</td>\n",
       "      <td>Ananda to launch 5 projects</td>\n",
       "      <td>After freezing new project launches last year,...</td>\n",
       "    </tr>\n",
       "    <tr>\n",
       "      <th>33</th>\n",
       "      <td>1-มี.ค.-21</td>\n",
       "      <td>12:59</td>\n",
       "      <td>Business</td>\n",
       "      <td>Samut Sakhon central shrimp market reopens</td>\n",
       "      <td>SAMUT SAKHON: The Central Shrimp Market of thi...</td>\n",
       "    </tr>\n",
       "  </tbody>\n",
       "</table>\n",
       "<p>88 rows × 5 columns</p>\n",
       "</div>"
      ],
      "text/plain": [
       "           DATE   TIME     LABEL  \\\n",
       "95   27-ก.พ.-21   4:00      Tech   \n",
       "58   27-ม.ค.-21   4:00      Auto   \n",
       "37   1-มี.ค.-21  12:30  Business   \n",
       "90   1-มี.ค.-21   9:30      Tech   \n",
       "66   1-มี.ค.-21   4:30      Life   \n",
       "..          ...    ...       ...   \n",
       "65   1-มี.ค.-21   4:30      Life   \n",
       "57    5-ก.พ.-21   8:45      Auto   \n",
       "99   24-ก.พ.-21   4:00      Tech   \n",
       "103  19-ก.พ.-21   4:00  Property   \n",
       "33   1-มี.ค.-21  12:59  Business   \n",
       "\n",
       "                                           NEWS TOPPIC  \\\n",
       "95                     Xiaomi steps up Thai investment   \n",
       "58               Retest senior drivers for road safety   \n",
       "37                               Don't isolate Myanmar   \n",
       "90     Apple privacy moves to kneecap Facebook revenue   \n",
       "66               A reflection of the fragility of life   \n",
       "..                                                 ...   \n",
       "65                                  Point of no return   \n",
       "57   Ford to speed up push to electric autos, digit...   \n",
       "99              Most large firms seen using AI by 2025   \n",
       "103                        Ananda to launch 5 projects   \n",
       "33          Samut Sakhon central shrimp market reopens   \n",
       "\n",
       "                                               ARTICLE  \n",
       "95   Despite the economic stalemate, Chinese tech g...  \n",
       "58   Should senior drivers holding lifetime driving...  \n",
       "37   Directly or indirectly, the military has alway...  \n",
       "90   The upcoming iOS 14 update will give users the...  \n",
       "66   The greatness of nature and the fragility of l...  \n",
       "..                                                 ...  \n",
       "65   Campaigners are hoping to raise public awarene...  \n",
       "57   NEW YORK - Ford announced Thursday a dramatic ...  \n",
       "99   By 2025, 97% of large companies globally will ...  \n",
       "103  After freezing new project launches last year,...  \n",
       "33   SAMUT SAKHON: The Central Shrimp Market of thi...  \n",
       "\n",
       "[88 rows x 5 columns]"
      ]
     },
     "execution_count": 104,
     "metadata": {},
     "output_type": "execute_result"
    }
   ],
   "source": [
    "train_set"
   ]
  },
  {
   "cell_type": "code",
   "execution_count": 118,
   "id": "136ad62c-858d-45ba-bd8f-95e0cfe4ec3c",
   "metadata": {},
   "outputs": [
    {
     "data": {
      "text/html": [
       "<div>\n",
       "<style scoped>\n",
       "    .dataframe tbody tr th:only-of-type {\n",
       "        vertical-align: middle;\n",
       "    }\n",
       "\n",
       "    .dataframe tbody tr th {\n",
       "        vertical-align: top;\n",
       "    }\n",
       "\n",
       "    .dataframe thead th {\n",
       "        text-align: right;\n",
       "    }\n",
       "</style>\n",
       "<table border=\"1\" class=\"dataframe\">\n",
       "  <thead>\n",
       "    <tr style=\"text-align: right;\">\n",
       "      <th></th>\n",
       "      <th>DATE</th>\n",
       "      <th>TIME</th>\n",
       "      <th>LABEL</th>\n",
       "      <th>NEWS TOPPIC</th>\n",
       "      <th>ARTICLE</th>\n",
       "    </tr>\n",
       "  </thead>\n",
       "  <tbody>\n",
       "    <tr>\n",
       "      <th>count</th>\n",
       "      <td>22</td>\n",
       "      <td>22</td>\n",
       "      <td>22</td>\n",
       "      <td>22</td>\n",
       "      <td>22</td>\n",
       "    </tr>\n",
       "    <tr>\n",
       "      <th>unique</th>\n",
       "      <td>8</td>\n",
       "      <td>15</td>\n",
       "      <td>10</td>\n",
       "      <td>22</td>\n",
       "      <td>22</td>\n",
       "    </tr>\n",
       "    <tr>\n",
       "      <th>top</th>\n",
       "      <td>1-มี.ค.-21</td>\n",
       "      <td>4:00</td>\n",
       "      <td>Life</td>\n",
       "      <td>Drones using AI to track rare Maui dolphins</td>\n",
       "      <td>Thirty-three people were confirmed injured dur...</td>\n",
       "    </tr>\n",
       "    <tr>\n",
       "      <th>freq</th>\n",
       "      <td>10</td>\n",
       "      <td>5</td>\n",
       "      <td>4</td>\n",
       "      <td>1</td>\n",
       "      <td>1</td>\n",
       "    </tr>\n",
       "  </tbody>\n",
       "</table>\n",
       "</div>"
      ],
      "text/plain": [
       "              DATE  TIME LABEL                                  NEWS TOPPIC  \\\n",
       "count           22    22    22                                           22   \n",
       "unique           8    15    10                                           22   \n",
       "top     1-มี.ค.-21  4:00  Life  Drones using AI to track rare Maui dolphins   \n",
       "freq            10     5     4                                            1   \n",
       "\n",
       "                                                  ARTICLE  \n",
       "count                                                  22  \n",
       "unique                                                 22  \n",
       "top     Thirty-three people were confirmed injured dur...  \n",
       "freq                                                    1  "
      ]
     },
     "execution_count": 118,
     "metadata": {},
     "output_type": "execute_result"
    }
   ],
   "source": [
    "test_set.describe()"
   ]
  },
  {
   "cell_type": "code",
   "execution_count": 114,
   "id": "87d89663-2135-4d15-aa26-efa961222cf5",
   "metadata": {},
   "outputs": [
    {
     "data": {
      "text/plain": [
       "74       Sports\n",
       "81       Travel\n",
       "77       Sports\n",
       "68         Life\n",
       "93         Tech\n",
       "47      Opinion\n",
       "6       General\n",
       "86       Travel\n",
       "0       General\n",
       "4       General\n",
       "104    Property\n",
       "67         Life\n",
       "36     Business\n",
       "92         Tech\n",
       "19     Politics\n",
       "80       Travel\n",
       "52         Auto\n",
       "51         Auto\n",
       "61         Life\n",
       "18     Politics\n",
       "11     Politics\n",
       "64         Life\n",
       "Name: LABEL, dtype: object"
      ]
     },
     "execution_count": 114,
     "metadata": {},
     "output_type": "execute_result"
    }
   ],
   "source": [
    "test_set['LABEL']"
   ]
  },
  {
   "cell_type": "code",
   "execution_count": 110,
   "id": "29b0396e-c616-44e2-b6e6-1f02907b5c94",
   "metadata": {},
   "outputs": [
    {
     "data": {
      "text/plain": [
       "95         Tech\n",
       "58         Auto\n",
       "37     Business\n",
       "90         Tech\n",
       "66         Life\n",
       "         ...   \n",
       "65         Life\n",
       "57         Auto\n",
       "99         Tech\n",
       "103    Property\n",
       "33     Business\n",
       "Name: LABEL, Length: 88, dtype: object"
      ]
     },
     "execution_count": 110,
     "metadata": {},
     "output_type": "execute_result"
    }
   ],
   "source": [
    "train_set['LABEL']"
   ]
  },
  {
   "cell_type": "code",
   "execution_count": null,
   "id": "13903738-2f24-4b7a-a206-65589643f967",
   "metadata": {},
   "outputs": [],
   "source": []
  }
 ],
 "metadata": {
  "kernelspec": {
   "display_name": "Python 3",
   "language": "python",
   "name": "python3"
  },
  "language_info": {
   "codemirror_mode": {
    "name": "ipython",
    "version": 3
   },
   "file_extension": ".py",
   "mimetype": "text/x-python",
   "name": "python",
   "nbconvert_exporter": "python",
   "pygments_lexer": "ipython3",
   "version": "3.8.8"
  },
  "toc-autonumbering": false
 },
 "nbformat": 4,
 "nbformat_minor": 5
}
