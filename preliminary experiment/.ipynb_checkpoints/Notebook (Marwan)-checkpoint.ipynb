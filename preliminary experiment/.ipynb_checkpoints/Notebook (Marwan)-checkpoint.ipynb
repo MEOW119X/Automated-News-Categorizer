{
 "cells": [
  {
   "cell_type": "markdown",
   "id": "6491de5c",
   "metadata": {},
   "source": [
    "## Data prep"
   ]
  },
  {
   "cell_type": "code",
   "execution_count": 11,
   "id": "b18b74be",
   "metadata": {},
   "outputs": [],
   "source": [
    "import pandas as pd"
   ]
  },
  {
   "cell_type": "code",
   "execution_count": 12,
   "id": "7c9b23be",
   "metadata": {},
   "outputs": [],
   "source": [
    "df = pd.read_csv('data-set/training-set(news).csv')"
   ]
  },
  {
   "cell_type": "code",
   "execution_count": 18,
   "id": "c9abe418-a90d-4c6c-8754-7cfa79f3d21a",
   "metadata": {},
   "outputs": [],
   "source": [
    "select = df[['LABEL', 'NEWS TOPPIC', 'ARTICLE']]"
   ]
  },
  {
   "cell_type": "code",
   "execution_count": 28,
   "id": "4f05504f-3f6d-41f6-be8b-7e64b38789c7",
   "metadata": {},
   "outputs": [
    {
     "data": {
      "text/html": [
       "<div>\n",
       "<style scoped>\n",
       "    .dataframe tbody tr th:only-of-type {\n",
       "        vertical-align: middle;\n",
       "    }\n",
       "\n",
       "    .dataframe tbody tr th {\n",
       "        vertical-align: top;\n",
       "    }\n",
       "\n",
       "    .dataframe thead th {\n",
       "        text-align: right;\n",
       "    }\n",
       "</style>\n",
       "<table border=\"1\" class=\"dataframe\">\n",
       "  <thead>\n",
       "    <tr style=\"text-align: right;\">\n",
       "      <th></th>\n",
       "      <th>LABEL</th>\n",
       "      <th>NEWS TOPPIC</th>\n",
       "      <th>ARTICLE</th>\n",
       "    </tr>\n",
       "  </thead>\n",
       "  <tbody>\n",
       "    <tr>\n",
       "      <th>0</th>\n",
       "      <td>General</td>\n",
       "      <td>Suspect in schoolgirl's rape-murder arrested</td>\n",
       "      <td>SONGKHLA: Police have arrested the prime suspe...</td>\n",
       "    </tr>\n",
       "    <tr>\n",
       "      <th>1</th>\n",
       "      <td>General</td>\n",
       "      <td>500kg ganja seized in Nakhon Phanom</td>\n",
       "      <td>NAKHON PHANOM: A man was arrested with 500 kil...</td>\n",
       "    </tr>\n",
       "    <tr>\n",
       "      <th>2</th>\n",
       "      <td>General</td>\n",
       "      <td>Samut Sakhon central shrimp market reopens</td>\n",
       "      <td>SAMUT SAKHON: The Central Shrimp Market of thi...</td>\n",
       "    </tr>\n",
       "    <tr>\n",
       "      <th>3</th>\n",
       "      <td>General</td>\n",
       "      <td>Thailand adds 80 Covid cases Monday</td>\n",
       "      <td>Thailand added 80 new coronavirus cases on Mon...</td>\n",
       "    </tr>\n",
       "    <tr>\n",
       "      <th>4</th>\n",
       "      <td>General</td>\n",
       "      <td>BMA to give Green Bridge a revamp</td>\n",
       "      <td>Buoyed by the warm public response for Bangkok...</td>\n",
       "    </tr>\n",
       "    <tr>\n",
       "      <th>5</th>\n",
       "      <td>General</td>\n",
       "      <td>Anutin among first to get Covid shot</td>\n",
       "      <td>Priority groups in 18 provinces will receive t...</td>\n",
       "    </tr>\n",
       "    <tr>\n",
       "      <th>6</th>\n",
       "      <td>General</td>\n",
       "      <td>Factory faces closure after withholding Covid ...</td>\n",
       "      <td>The Pathum Thani Covid-19 Control Centre has f...</td>\n",
       "    </tr>\n",
       "    <tr>\n",
       "      <th>7</th>\n",
       "      <td>General</td>\n",
       "      <td>Elephants fail to halt rise of Thong Thin Thai</td>\n",
       "      <td>Jaruk Srion, MP from the Palang Thong Thin Tha...</td>\n",
       "    </tr>\n",
       "    <tr>\n",
       "      <th>8</th>\n",
       "      <td>General</td>\n",
       "      <td>Down but not out</td>\n",
       "      <td>Aung San Suu Kyi, leader of the National Leagu...</td>\n",
       "    </tr>\n",
       "    <tr>\n",
       "      <th>9</th>\n",
       "      <td>General</td>\n",
       "      <td>WOMEN SHAPING TOMORROW</td>\n",
       "      <td>With the past year dominated by the global pan...</td>\n",
       "    </tr>\n",
       "  </tbody>\n",
       "</table>\n",
       "</div>"
      ],
      "text/plain": [
       "     LABEL                                        NEWS TOPPIC  \\\n",
       "0  General       Suspect in schoolgirl's rape-murder arrested   \n",
       "1  General                500kg ganja seized in Nakhon Phanom   \n",
       "2  General         Samut Sakhon central shrimp market reopens   \n",
       "3  General                Thailand adds 80 Covid cases Monday   \n",
       "4  General                  BMA to give Green Bridge a revamp   \n",
       "5  General               Anutin among first to get Covid shot   \n",
       "6  General  Factory faces closure after withholding Covid ...   \n",
       "7  General     Elephants fail to halt rise of Thong Thin Thai   \n",
       "8  General                                   Down but not out   \n",
       "9  General                             WOMEN SHAPING TOMORROW   \n",
       "\n",
       "                                             ARTICLE  \n",
       "0  SONGKHLA: Police have arrested the prime suspe...  \n",
       "1  NAKHON PHANOM: A man was arrested with 500 kil...  \n",
       "2  SAMUT SAKHON: The Central Shrimp Market of thi...  \n",
       "3  Thailand added 80 new coronavirus cases on Mon...  \n",
       "4  Buoyed by the warm public response for Bangkok...  \n",
       "5  Priority groups in 18 provinces will receive t...  \n",
       "6  The Pathum Thani Covid-19 Control Centre has f...  \n",
       "7  Jaruk Srion, MP from the Palang Thong Thin Tha...  \n",
       "8  Aung San Suu Kyi, leader of the National Leagu...  \n",
       "9  With the past year dominated by the global pan...  "
      ]
     },
     "execution_count": 28,
     "metadata": {},
     "output_type": "execute_result"
    }
   ],
   "source": [
    "select.loc[select['LABEL'] == 'General']"
   ]
  }
 ],
 "metadata": {
  "kernelspec": {
   "display_name": "Python 3",
   "language": "python",
   "name": "python3"
  },
  "language_info": {
   "codemirror_mode": {
    "name": "ipython",
    "version": 3
   },
   "file_extension": ".py",
   "mimetype": "text/x-python",
   "name": "python",
   "nbconvert_exporter": "python",
   "pygments_lexer": "ipython3",
   "version": "3.8.8"
  }
 },
 "nbformat": 4,
 "nbformat_minor": 5
}
